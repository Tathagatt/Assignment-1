{
 "cells": [
  {
   "cell_type": "markdown",
   "id": "525bb911",
   "metadata": {},
   "source": [
    "Ans 1."
   ]
  },
  {
   "cell_type": "code",
   "execution_count": 1,
   "id": "08b2931a",
   "metadata": {},
   "outputs": [
    {
     "name": "stdout",
     "output_type": "stream",
     "text": [
      "Enter distance in km2\n",
      "Distance in km 2, Distance in miles 1.242742\n"
     ]
    }
   ],
   "source": [
    "a = int(input(\"Enter distance in km\"))\n",
    "m = a*0.621371\n",
    "print(\"Distance in km {0}, Distance in miles {1}\".format(a,m))"
   ]
  },
  {
   "cell_type": "markdown",
   "id": "362055ac",
   "metadata": {},
   "source": [
    "Ans 2."
   ]
  },
  {
   "cell_type": "code",
   "execution_count": 4,
   "id": "96dc7571",
   "metadata": {},
   "outputs": [
    {
     "name": "stdout",
     "output_type": "stream",
     "text": [
      "Enter temp in Celcius 33\n",
      "Temp. in Celcius 33, Temp. in Farenheit 91.4\n"
     ]
    }
   ],
   "source": [
    "c = int(input(\"Enter temp in Celcius \"))\n",
    "f = (c * 9/5) + 32 \n",
    "print(\"Temp. in Celcius {0}, Temp. in Farenheit {1}\".format(c,f))"
   ]
  },
  {
   "cell_type": "markdown",
   "id": "9276f9d6",
   "metadata": {},
   "source": [
    "Ans 3."
   ]
  },
  {
   "cell_type": "code",
   "execution_count": 9,
   "id": "38f06aa3",
   "metadata": {},
   "outputs": [
    {
     "name": "stdout",
     "output_type": "stream",
     "text": [
      "Enter the Year 2022\n",
      "                                  2022\n",
      "\n",
      "      January                   February                   March\n",
      "Mo Tu We Th Fr Sa Su      Mo Tu We Th Fr Sa Su      Mo Tu We Th Fr Sa Su\n",
      "                1  2          1  2  3  4  5  6          1  2  3  4  5  6\n",
      " 3  4  5  6  7  8  9       7  8  9 10 11 12 13       7  8  9 10 11 12 13\n",
      "10 11 12 13 14 15 16      14 15 16 17 18 19 20      14 15 16 17 18 19 20\n",
      "17 18 19 20 21 22 23      21 22 23 24 25 26 27      21 22 23 24 25 26 27\n",
      "24 25 26 27 28 29 30      28                        28 29 30 31\n",
      "31\n",
      "\n",
      "       April                      May                       June\n",
      "Mo Tu We Th Fr Sa Su      Mo Tu We Th Fr Sa Su      Mo Tu We Th Fr Sa Su\n",
      "             1  2  3                         1             1  2  3  4  5\n",
      " 4  5  6  7  8  9 10       2  3  4  5  6  7  8       6  7  8  9 10 11 12\n",
      "11 12 13 14 15 16 17       9 10 11 12 13 14 15      13 14 15 16 17 18 19\n",
      "18 19 20 21 22 23 24      16 17 18 19 20 21 22      20 21 22 23 24 25 26\n",
      "25 26 27 28 29 30         23 24 25 26 27 28 29      27 28 29 30\n",
      "                          30 31\n",
      "\n",
      "        July                     August                  September\n",
      "Mo Tu We Th Fr Sa Su      Mo Tu We Th Fr Sa Su      Mo Tu We Th Fr Sa Su\n",
      "             1  2  3       1  2  3  4  5  6  7                1  2  3  4\n",
      " 4  5  6  7  8  9 10       8  9 10 11 12 13 14       5  6  7  8  9 10 11\n",
      "11 12 13 14 15 16 17      15 16 17 18 19 20 21      12 13 14 15 16 17 18\n",
      "18 19 20 21 22 23 24      22 23 24 25 26 27 28      19 20 21 22 23 24 25\n",
      "25 26 27 28 29 30 31      29 30 31                  26 27 28 29 30\n",
      "\n",
      "      October                   November                  December\n",
      "Mo Tu We Th Fr Sa Su      Mo Tu We Th Fr Sa Su      Mo Tu We Th Fr Sa Su\n",
      "                1  2          1  2  3  4  5  6                1  2  3  4\n",
      " 3  4  5  6  7  8  9       7  8  9 10 11 12 13       5  6  7  8  9 10 11\n",
      "10 11 12 13 14 15 16      14 15 16 17 18 19 20      12 13 14 15 16 17 18\n",
      "17 18 19 20 21 22 23      21 22 23 24 25 26 27      19 20 21 22 23 24 25\n",
      "24 25 26 27 28 29 30      28 29 30                  26 27 28 29 30 31\n",
      "31\n",
      "\n"
     ]
    }
   ],
   "source": [
    "import calendar\n",
    " \n",
    "yy = int(input(\"Enter the Year \"))\n",
    "\n",
    "print(calendar.calendar(yy))\n"
   ]
  },
  {
   "cell_type": "markdown",
   "id": "8ebdde74",
   "metadata": {},
   "source": [
    "Ans 4."
   ]
  },
  {
   "cell_type": "code",
   "execution_count": 35,
   "id": "3a436411",
   "metadata": {},
   "outputs": [],
   "source": [
    "import math \n",
    "def quadratic( a, b, c):\n",
    "        d = b * b - 4 * a * c \n",
    "        sqrt = math.sqrt(abs(d)) \n",
    "        try:\n",
    "            if d > 0:  \n",
    "                print((-b + sqrt)/(2 * a)) \n",
    "                print((-b - sqrt)/(2 * a)) \n",
    "                print(\" real and different roots \")\n",
    "      \n",
    "            elif d == 0:  \n",
    "                print(-b / (2 * a))\n",
    "                print(\" real and same roots\")\n",
    "            else:\n",
    "                print(- b / (2 * a), \" + i\", sqrt) \n",
    "                print(- b / (2 * a), \" - i\", sqrt) \n",
    "                print(\"Complex Roots\") \n",
    "        except Exception as e:\n",
    "            print( e)\n",
    "\n"
   ]
  },
  {
   "cell_type": "code",
   "execution_count": 36,
   "id": "c75b5f9e",
   "metadata": {},
   "outputs": [
    {
     "name": "stdout",
     "output_type": "stream",
     "text": [
      "-0.5  + i 1.7320508075688772\n",
      "-0.5  - i 1.7320508075688772\n",
      "Complex Roots\n"
     ]
    }
   ],
   "source": [
    "quadratic(1,1,1)"
   ]
  },
  {
   "cell_type": "markdown",
   "id": "8e0da7b9",
   "metadata": {},
   "source": [
    "Ans 5."
   ]
  },
  {
   "cell_type": "code",
   "execution_count": 37,
   "id": "2400fd28",
   "metadata": {},
   "outputs": [
    {
     "name": "stdout",
     "output_type": "stream",
     "text": [
      "Enter First Variablehello\n",
      "Enter Second Variableworld\n",
      "a's swapped value world, b's swapped value hello \n"
     ]
    }
   ],
   "source": [
    "a = input(\"Enter First Variable\")\n",
    "b = input(\"Enter Second Variable\")\n",
    "a, b = b, a\n",
    " \n",
    "print(\"a's swapped value {0}, b's swapped value {1} \".format(a, b))"
   ]
  },
  {
   "cell_type": "code",
   "execution_count": null,
   "id": "4d9409bb",
   "metadata": {},
   "outputs": [],
   "source": []
  }
 ],
 "metadata": {
  "kernelspec": {
   "display_name": "Python 3 (ipykernel)",
   "language": "python",
   "name": "python3"
  },
  "language_info": {
   "codemirror_mode": {
    "name": "ipython",
    "version": 3
   },
   "file_extension": ".py",
   "mimetype": "text/x-python",
   "name": "python",
   "nbconvert_exporter": "python",
   "pygments_lexer": "ipython3",
   "version": "3.9.7"
  }
 },
 "nbformat": 4,
 "nbformat_minor": 5
}

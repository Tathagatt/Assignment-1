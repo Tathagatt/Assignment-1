{
 "cells": [
  {
   "cell_type": "markdown",
   "id": "ba344509",
   "metadata": {},
   "source": [
    "Ans 1."
   ]
  },
  {
   "cell_type": "code",
   "execution_count": 1,
   "id": "b5111ce9",
   "metadata": {},
   "outputs": [],
   "source": [
    "def disarium(num):\n",
    "    dis = 0\n",
    "    for i in range(len(str(num))):\n",
    "        dis += int(str(num)[i]) ** (i + 1)\n",
    "    return dis == num              "
   ]
  },
  {
   "cell_type": "code",
   "execution_count": 2,
   "id": "1b4a9075",
   "metadata": {},
   "outputs": [
    {
     "data": {
      "text/plain": [
       "True"
      ]
     },
     "execution_count": 2,
     "metadata": {},
     "output_type": "execute_result"
    }
   ],
   "source": [
    "disarium(175)"
   ]
  },
  {
   "cell_type": "markdown",
   "id": "d6c6de50",
   "metadata": {},
   "source": [
    "Ans 2."
   ]
  },
  {
   "cell_type": "code",
   "execution_count": 3,
   "id": "cc2e4785",
   "metadata": {},
   "outputs": [],
   "source": [
    "def disarium_range():\n",
    "    for i in range(1,100):\n",
    "        lst = []\n",
    "        dis = 0\n",
    "        for j in range(len(str(i))):\n",
    "            dis += int(str(i)[j]) ** (j + 1)\n",
    "        if dis == i:\n",
    "            print(dis)\n",
    "        \n"
   ]
  },
  {
   "cell_type": "code",
   "execution_count": 4,
   "id": "05ef2183",
   "metadata": {},
   "outputs": [
    {
     "name": "stdout",
     "output_type": "stream",
     "text": [
      "1\n",
      "2\n",
      "3\n",
      "4\n",
      "5\n",
      "6\n",
      "7\n",
      "8\n",
      "9\n",
      "89\n"
     ]
    }
   ],
   "source": [
    "disarium_range()"
   ]
  },
  {
   "cell_type": "markdown",
   "id": "c0023082",
   "metadata": {},
   "source": [
    "Ans 3."
   ]
  },
  {
   "cell_type": "code",
   "execution_count": 9,
   "id": "30e25eef",
   "metadata": {
    "scrolled": true
   },
   "outputs": [
    {
     "name": "stdout",
     "output_type": "stream",
     "text": [
      "19\n",
      "happy number\n"
     ]
    }
   ],
   "source": [
    "n = int(input())    \n",
    "res = n  \n",
    "def Happy(n):    \n",
    "    r = s = 0    \n",
    "    while(n > 0):    \n",
    "        r = n%10    \n",
    "        s += r**2  \n",
    "        n //= 10    \n",
    "    return s  \n",
    "     \n",
    "while(res != 1 and res != 4):    \n",
    "    res = Happy(res)    \n",
    "     \n",
    "if(res == 1):    \n",
    "    print(\"happy number\")\n",
    "elif(res == 4):    \n",
    "    print(\"not a happy number\") \n",
    "        \n",
    " "
   ]
  },
  {
   "cell_type": "markdown",
   "id": "97b4c4aa",
   "metadata": {},
   "source": [
    "Ans 4."
   ]
  },
  {
   "cell_type": "code",
   "execution_count": null,
   "id": "3c01bc87",
   "metadata": {},
   "outputs": [],
   "source": [
    "def happy_range(num):\n",
    "    rem = sum = 0\n",
    "    while(num > 0):\n",
    "        rem = num\n",
    "        sum = sum + (rem*rem)\n",
    "        num = num//10\n",
    "    return sum\n",
    "for i in range(1, 101):\n",
    "    result = i\n",
    "    while(result != 1 and result != 4):\n",
    "        result = hnum(result)\n",
    "    if(result == 1):\n",
    "        print(i)"
   ]
  },
  {
   "cell_type": "markdown",
   "id": "a2423439",
   "metadata": {},
   "source": [
    "Ans 5."
   ]
  },
  {
   "cell_type": "code",
   "execution_count": 6,
   "id": "5f370e80",
   "metadata": {},
   "outputs": [],
   "source": [
    "def Harshad(n) :\n",
    "    sum = 0\n",
    "    p = n\n",
    "    while p > 0 :\n",
    "        sum = sum + p%10\n",
    "        p = p//10\n",
    "    return n%sum == 0\n",
    " "
   ]
  },
  {
   "cell_type": "code",
   "execution_count": 7,
   "id": "1d646efa",
   "metadata": {},
   "outputs": [
    {
     "data": {
      "text/plain": [
       "True"
      ]
     },
     "execution_count": 7,
     "metadata": {},
     "output_type": "execute_result"
    }
   ],
   "source": [
    "Harshad(18)"
   ]
  },
  {
   "cell_type": "markdown",
   "id": "a26f1e39",
   "metadata": {},
   "source": [
    "Ans 6."
   ]
  },
  {
   "cell_type": "code",
   "execution_count": 8,
   "id": "8b7d3a39",
   "metadata": {},
   "outputs": [
    {
     "name": "stdout",
     "output_type": "stream",
     "text": [
      "Pronic numbers between 1 and 100: \n",
      "2\n",
      "6\n",
      "12\n",
      "20\n",
      "30\n",
      "42\n",
      "56\n",
      "72\n",
      "90\n"
     ]
    }
   ],
   "source": [
    "def Pronic(num):    \n",
    "    flag = False;    \n",
    "        \n",
    "    for j in range(1, num+1):       \n",
    "        if((j*(j+1)) == num):    \n",
    "            flag = True;    \n",
    "            break;    \n",
    "    return flag;    \n",
    "     \n",
    "print(\"Pronic numbers between 1 and 100: \");    \n",
    "for i in range(1, 101):    \n",
    "    if(Pronic(i)):    \n",
    "        print(i)    "
   ]
  },
  {
   "cell_type": "code",
   "execution_count": null,
   "id": "1db254b3",
   "metadata": {},
   "outputs": [],
   "source": []
  },
  {
   "cell_type": "code",
   "execution_count": null,
   "id": "7633569d",
   "metadata": {},
   "outputs": [],
   "source": []
  }
 ],
 "metadata": {
  "kernelspec": {
   "display_name": "Python 3 (ipykernel)",
   "language": "python",
   "name": "python3"
  },
  "language_info": {
   "codemirror_mode": {
    "name": "ipython",
    "version": 3
   },
   "file_extension": ".py",
   "mimetype": "text/x-python",
   "name": "python",
   "nbconvert_exporter": "python",
   "pygments_lexer": "ipython3",
   "version": "3.9.7"
  }
 },
 "nbformat": 4,
 "nbformat_minor": 5
}

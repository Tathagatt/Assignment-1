{
 "cells": [
  {
   "cell_type": "markdown",
   "id": "3a988f50",
   "metadata": {},
   "source": [
    "Ans 1. "
   ]
  },
  {
   "cell_type": "code",
   "execution_count": 1,
   "id": "76e51ce9",
   "metadata": {},
   "outputs": [],
   "source": [
    "def LCM(x,y):\n",
    "    for i in range(1,max(x,y)):\n",
    "        if (x%i) == 0 and (y%i )== 0:\n",
    "            gcd = i\n",
    "            lcm = (x*y)/gcd\n",
    "    return lcm\n",
    "\n",
    "\n",
    "        \n"
   ]
  },
  {
   "cell_type": "code",
   "execution_count": 2,
   "id": "52add7b7",
   "metadata": {},
   "outputs": [
    {
     "data": {
      "text/plain": [
       "168.0"
      ]
     },
     "execution_count": 2,
     "metadata": {},
     "output_type": "execute_result"
    }
   ],
   "source": [
    "LCM(24,56)"
   ]
  },
  {
   "cell_type": "markdown",
   "id": "7041f4a5",
   "metadata": {},
   "source": [
    "Ans 2."
   ]
  },
  {
   "cell_type": "code",
   "execution_count": 3,
   "id": "10eb642e",
   "metadata": {},
   "outputs": [],
   "source": [
    "def HCF(x,y):\n",
    "    for i in range(1,max(x,y)):\n",
    "        if (x%i) == 0 and (y%i )== 0:\n",
    "            gcd = i\n",
    "    return gcd\n",
    "    "
   ]
  },
  {
   "cell_type": "code",
   "execution_count": 4,
   "id": "44ca12c3",
   "metadata": {},
   "outputs": [
    {
     "data": {
      "text/plain": [
       "12"
      ]
     },
     "execution_count": 4,
     "metadata": {},
     "output_type": "execute_result"
    }
   ],
   "source": [
    "HCF(60,48)"
   ]
  },
  {
   "cell_type": "markdown",
   "id": "c0b93b21",
   "metadata": {},
   "source": [
    "Ans 3."
   ]
  },
  {
   "cell_type": "code",
   "execution_count": 5,
   "id": "edc71ad1",
   "metadata": {},
   "outputs": [],
   "source": [
    "class Convertor:\n",
    "    def __init__(self,x):\n",
    "        self.x = x\n",
    "    def binary(self):\n",
    "        a = self.x\n",
    "        result = \"\"\n",
    "        while(a>=1):\n",
    "            rem = a%2\n",
    "            quot = a//2\n",
    "            a=quot\n",
    "            result = result + str(rem)\n",
    "        return result[::-1]\n",
    "    def octal(self):\n",
    "        a = self.x\n",
    "        result = \"\"\n",
    "        while(a>=1):\n",
    "            rem = a%8\n",
    "            quot = a//8\n",
    "            a=quot\n",
    "            result = result + str(rem)\n",
    "        return result[::-1]\n",
    "    def hexa(self):\n",
    "        a = self.x\n",
    "        result = \"\"\n",
    "        while(a>=1):\n",
    "            rem = a%16\n",
    "            quot = a//16\n",
    "            a=quot\n",
    "            result = result + str(rem)\n",
    "        return result[::-1]\n",
    "    \n",
    "    \n",
    "    "
   ]
  },
  {
   "cell_type": "code",
   "execution_count": 6,
   "id": "f072db98",
   "metadata": {},
   "outputs": [],
   "source": [
    "bina = Convertor(67)"
   ]
  },
  {
   "cell_type": "code",
   "execution_count": 7,
   "id": "e2036209",
   "metadata": {},
   "outputs": [
    {
     "data": {
      "text/plain": [
       "'1000011'"
      ]
     },
     "execution_count": 7,
     "metadata": {},
     "output_type": "execute_result"
    }
   ],
   "source": [
    "bina.binary()"
   ]
  },
  {
   "cell_type": "code",
   "execution_count": 8,
   "id": "03432dd2",
   "metadata": {},
   "outputs": [
    {
     "data": {
      "text/plain": [
       "'103'"
      ]
     },
     "execution_count": 8,
     "metadata": {},
     "output_type": "execute_result"
    }
   ],
   "source": [
    "bina.octal()"
   ]
  },
  {
   "cell_type": "code",
   "execution_count": 9,
   "id": "584bfdae",
   "metadata": {},
   "outputs": [
    {
     "data": {
      "text/plain": [
       "'43'"
      ]
     },
     "execution_count": 9,
     "metadata": {},
     "output_type": "execute_result"
    }
   ],
   "source": [
    "bina.hexa()"
   ]
  },
  {
   "cell_type": "markdown",
   "id": "e8e7aaf1",
   "metadata": {},
   "source": [
    "Ans 4."
   ]
  },
  {
   "cell_type": "code",
   "execution_count": 10,
   "id": "3feb604e",
   "metadata": {},
   "outputs": [],
   "source": [
    "def Ascii(x):\n",
    "    return \"The ASCII value of '\" + x + \"' is\", ord(x)"
   ]
  },
  {
   "cell_type": "code",
   "execution_count": 11,
   "id": "bdc9bcc0",
   "metadata": {},
   "outputs": [
    {
     "data": {
      "text/plain": [
       "(\"The ASCII value of 'i' is\", 105)"
      ]
     },
     "execution_count": 11,
     "metadata": {},
     "output_type": "execute_result"
    }
   ],
   "source": [
    "Ascii(\"i\")"
   ]
  },
  {
   "cell_type": "markdown",
   "id": "3c9b6c23",
   "metadata": {},
   "source": [
    "Ans 5."
   ]
  },
  {
   "cell_type": "code",
   "execution_count": 12,
   "id": "17d411c6",
   "metadata": {},
   "outputs": [],
   "source": [
    "class Calculator:\n",
    "    def add(self,a,b):\n",
    "        return a+b\n",
    "    def substract(self,a,b):\n",
    "        return a-b\n",
    "    def mul(self,a,b):\n",
    "        return a*b\n",
    "    def div(self,a,b):\n",
    "        return a/b\n",
    "    "
   ]
  },
  {
   "cell_type": "code",
   "execution_count": 13,
   "id": "73b1b84a",
   "metadata": {},
   "outputs": [],
   "source": [
    "test = Calculator()"
   ]
  },
  {
   "cell_type": "code",
   "execution_count": 14,
   "id": "7554a922",
   "metadata": {},
   "outputs": [
    {
     "data": {
      "text/plain": [
       "9"
      ]
     },
     "execution_count": 14,
     "metadata": {},
     "output_type": "execute_result"
    }
   ],
   "source": [
    "test.add(6,3)"
   ]
  },
  {
   "cell_type": "code",
   "execution_count": 15,
   "id": "fa90b7ce",
   "metadata": {},
   "outputs": [
    {
     "data": {
      "text/plain": [
       "3"
      ]
     },
     "execution_count": 15,
     "metadata": {},
     "output_type": "execute_result"
    }
   ],
   "source": [
    "test.substract(6,3)"
   ]
  },
  {
   "cell_type": "code",
   "execution_count": 16,
   "id": "5b54ddba",
   "metadata": {},
   "outputs": [
    {
     "data": {
      "text/plain": [
       "18"
      ]
     },
     "execution_count": 16,
     "metadata": {},
     "output_type": "execute_result"
    }
   ],
   "source": [
    "test.mul(6,3)"
   ]
  },
  {
   "cell_type": "code",
   "execution_count": 17,
   "id": "c8e7442f",
   "metadata": {},
   "outputs": [
    {
     "data": {
      "text/plain": [
       "2.0"
      ]
     },
     "execution_count": 17,
     "metadata": {},
     "output_type": "execute_result"
    }
   ],
   "source": [
    "test.div(6,3)"
   ]
  },
  {
   "cell_type": "code",
   "execution_count": null,
   "id": "4427426a",
   "metadata": {},
   "outputs": [],
   "source": []
  }
 ],
 "metadata": {
  "kernelspec": {
   "display_name": "Python 3 (ipykernel)",
   "language": "python",
   "name": "python3"
  },
  "language_info": {
   "codemirror_mode": {
    "name": "ipython",
    "version": 3
   },
   "file_extension": ".py",
   "mimetype": "text/x-python",
   "name": "python",
   "nbconvert_exporter": "python",
   "pygments_lexer": "ipython3",
   "version": "3.9.7"
  }
 },
 "nbformat": 4,
 "nbformat_minor": 5
}

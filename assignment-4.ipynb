{
 "cells": [
  {
   "cell_type": "raw",
   "id": "b5b33900",
   "metadata": {},
   "source": [
    "Ans 1. [] is use to initilize a list, bascially it represents empty list."
   ]
  },
  {
   "cell_type": "raw",
   "id": "a1bda3b3",
   "metadata": {},
   "source": [
    "Ans 2. use spam.index(index,value)"
   ]
  },
  {
   "cell_type": "code",
   "execution_count": 1,
   "id": "004ed6a9",
   "metadata": {},
   "outputs": [],
   "source": [
    "spam = [2,3,4,5,6,7]"
   ]
  },
  {
   "cell_type": "code",
   "execution_count": 4,
   "id": "daa3f99a",
   "metadata": {},
   "outputs": [],
   "source": [
    "spam.insert(2,\"hello\")"
   ]
  },
  {
   "cell_type": "code",
   "execution_count": 5,
   "id": "dc89e135",
   "metadata": {},
   "outputs": [
    {
     "data": {
      "text/plain": [
       "[2, 3, 'hello', 4, 'hello', 5, 6, 7]"
      ]
     },
     "execution_count": 5,
     "metadata": {},
     "output_type": "execute_result"
    }
   ],
   "source": [
    "spam"
   ]
  },
  {
   "cell_type": "raw",
   "id": "867733d6",
   "metadata": {},
   "source": [
    "Ans 3."
   ]
  },
  {
   "cell_type": "code",
   "execution_count": 6,
   "id": "c745782d",
   "metadata": {},
   "outputs": [],
   "source": [
    "spam = ['a','b','c','d']"
   ]
  },
  {
   "cell_type": "code",
   "execution_count": 7,
   "id": "359bace2",
   "metadata": {},
   "outputs": [
    {
     "data": {
      "text/plain": [
       "'d'"
      ]
     },
     "execution_count": 7,
     "metadata": {},
     "output_type": "execute_result"
    }
   ],
   "source": [
    "spam[int(int('3'*2)/11)]"
   ]
  },
  {
   "cell_type": "code",
   "execution_count": null,
   "id": "d835490f",
   "metadata": {},
   "outputs": [],
   "source": [
    "Ans 4."
   ]
  },
  {
   "cell_type": "code",
   "execution_count": 9,
   "id": "5564662e",
   "metadata": {},
   "outputs": [
    {
     "data": {
      "text/plain": [
       "'d'"
      ]
     },
     "execution_count": 9,
     "metadata": {},
     "output_type": "execute_result"
    }
   ],
   "source": [
    "spam[-1]"
   ]
  },
  {
   "cell_type": "raw",
   "id": "e11466e3",
   "metadata": {},
   "source": [
    "Ans 5."
   ]
  },
  {
   "cell_type": "code",
   "execution_count": 10,
   "id": "754d9054",
   "metadata": {},
   "outputs": [
    {
     "data": {
      "text/plain": [
       "['a', 'b']"
      ]
     },
     "execution_count": 10,
     "metadata": {},
     "output_type": "execute_result"
    }
   ],
   "source": [
    "spam[:2]"
   ]
  },
  {
   "cell_type": "raw",
   "id": "251fd813",
   "metadata": {},
   "source": [
    "Ans 6."
   ]
  },
  {
   "cell_type": "code",
   "execution_count": 12,
   "id": "5cda5629",
   "metadata": {},
   "outputs": [],
   "source": [
    "bacon = [3.14, 'cat', 11, 'cat', True]"
   ]
  },
  {
   "cell_type": "code",
   "execution_count": 13,
   "id": "ebd0c7f6",
   "metadata": {},
   "outputs": [
    {
     "data": {
      "text/plain": [
       "1"
      ]
     },
     "execution_count": 13,
     "metadata": {},
     "output_type": "execute_result"
    }
   ],
   "source": [
    "bacon.index('cat')"
   ]
  },
  {
   "cell_type": "raw",
   "id": "dd2681bd",
   "metadata": {},
   "source": [
    "Ans 7."
   ]
  },
  {
   "cell_type": "code",
   "execution_count": 14,
   "id": "1ac3b2d1",
   "metadata": {},
   "outputs": [],
   "source": [
    "bacon.append(99)#adds 99 at the last"
   ]
  },
  {
   "cell_type": "code",
   "execution_count": 15,
   "id": "53a05413",
   "metadata": {},
   "outputs": [
    {
     "data": {
      "text/plain": [
       "[3.14, 'cat', 11, 'cat', True, 99]"
      ]
     },
     "execution_count": 15,
     "metadata": {},
     "output_type": "execute_result"
    }
   ],
   "source": [
    "bacon"
   ]
  },
  {
   "cell_type": "raw",
   "id": "9663bed2",
   "metadata": {},
   "source": [
    "Ans 8."
   ]
  },
  {
   "cell_type": "code",
   "execution_count": 16,
   "id": "220d12c1",
   "metadata": {},
   "outputs": [],
   "source": [
    "bacon.remove('cat')#removes first occurence of 'cat' "
   ]
  },
  {
   "cell_type": "code",
   "execution_count": 17,
   "id": "c89fb3dd",
   "metadata": {},
   "outputs": [
    {
     "data": {
      "text/plain": [
       "[3.14, 11, 'cat', True, 99]"
      ]
     },
     "execution_count": 17,
     "metadata": {},
     "output_type": "execute_result"
    }
   ],
   "source": [
    "bacon"
   ]
  },
  {
   "cell_type": "raw",
   "id": "afafb8aa",
   "metadata": {},
   "source": [
    "Ans 9. \n",
    "list concatination operator = +\n",
    "list replication operator = *"
   ]
  },
  {
   "cell_type": "raw",
   "id": "d42a7d8e",
   "metadata": {},
   "source": [
    "Ans 10.\n",
    "append() - inserts the value at the last index of the list\n",
    "insert() - inserts the value at the specified index of the list"
   ]
  },
  {
   "cell_type": "raw",
   "id": "3ce1dd65",
   "metadata": {},
   "source": [
    "Ans 11. The two methods for removing items from a list - pop() and remove()"
   ]
  },
  {
   "cell_type": "raw",
   "id": "e368072a",
   "metadata": {},
   "source": [
    "Ans 12. Lists are similar to strings, which are ordered collections of characters i.e sequences"
   ]
  },
  {
   "cell_type": "raw",
   "id": "e82acaf8",
   "metadata": {},
   "source": [
    "Ans 13. The key difference between the tuples and lists is that while the tuples are immutable objects the lists are mutable i.e that tuples cannot be changed while the lists can be modified."
   ]
  },
  {
   "cell_type": "raw",
   "id": "95c01890",
   "metadata": {},
   "source": [
    "Ans 14."
   ]
  },
  {
   "cell_type": "code",
   "execution_count": 24,
   "id": "057b971f",
   "metadata": {},
   "outputs": [],
   "source": [
    "q = (42,) #, is necessary"
   ]
  },
  {
   "cell_type": "code",
   "execution_count": 25,
   "id": "67e32e35",
   "metadata": {},
   "outputs": [
    {
     "data": {
      "text/plain": [
       "tuple"
      ]
     },
     "execution_count": 25,
     "metadata": {},
     "output_type": "execute_result"
    }
   ],
   "source": [
    "type(q)"
   ]
  },
  {
   "cell_type": "raw",
   "id": "4c848a3a",
   "metadata": {},
   "source": [
    "Ans 15."
   ]
  },
  {
   "cell_type": "code",
   "execution_count": 26,
   "id": "b399a47b",
   "metadata": {},
   "outputs": [],
   "source": [
    "l = [2,3,4,5,\"uuu\"]"
   ]
  },
  {
   "cell_type": "code",
   "execution_count": 27,
   "id": "a63871e8",
   "metadata": {},
   "outputs": [
    {
     "data": {
      "text/plain": [
       "(2, 3, 4, 5, 'uuu')"
      ]
     },
     "execution_count": 27,
     "metadata": {},
     "output_type": "execute_result"
    }
   ],
   "source": [
    "tuple(l)"
   ]
  },
  {
   "cell_type": "code",
   "execution_count": 28,
   "id": "295e5dc0",
   "metadata": {},
   "outputs": [],
   "source": [
    "t = (1,3,4,5,\"uuu\")"
   ]
  },
  {
   "cell_type": "code",
   "execution_count": 29,
   "id": "b1acddfb",
   "metadata": {},
   "outputs": [
    {
     "data": {
      "text/plain": [
       "[1, 3, 4, 5, 'uuu']"
      ]
     },
     "execution_count": 29,
     "metadata": {},
     "output_type": "execute_result"
    }
   ],
   "source": [
    "list(t)"
   ]
  },
  {
   "cell_type": "raw",
   "id": "cc59ad01",
   "metadata": {},
   "source": [
    "Ans 16. \n",
    "Variables that \"contain\" list values are not necessarily lists themselves, they contain references to the list values."
   ]
  },
  {
   "cell_type": "raw",
   "id": "739b76e3",
   "metadata": {},
   "source": [
    "Ans 17. copy.copy() creates the copy of the list do not point to the same data and if some changes are made in this copy, the orignal variable remains uneffected, whereas copy.deepcopy()== copy.copy() wrt single list but in nested list deep copy is used as deep copy will make sure that the element inside of the list which is nested in another list also dosen't change with any change in the copy."
   ]
  }
 ],
 "metadata": {
  "kernelspec": {
   "display_name": "Python 3 (ipykernel)",
   "language": "python",
   "name": "python3"
  },
  "language_info": {
   "codemirror_mode": {
    "name": "ipython",
    "version": 3
   },
   "file_extension": ".py",
   "mimetype": "text/x-python",
   "name": "python",
   "nbconvert_exporter": "python",
   "pygments_lexer": "ipython3",
   "version": "3.9.7"
  }
 },
 "nbformat": 4,
 "nbformat_minor": 5
}

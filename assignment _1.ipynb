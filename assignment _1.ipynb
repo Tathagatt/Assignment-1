{
 "cells": [
  {
   "cell_type": "code",
   "execution_count": 3,
   "id": "5a029c81",
   "metadata": {},
   "outputs": [
    {
     "data": {
      "text/plain": [
       "'hello'"
      ]
     },
     "execution_count": 3,
     "metadata": {},
     "output_type": "execute_result"
    }
   ],
   "source": [
    "'hello'"
   ]
  },
  {
   "cell_type": "code",
   "execution_count": 7,
   "id": "066772a2",
   "metadata": {},
   "outputs": [
    {
     "data": {
      "text/plain": [
       "-87.8"
      ]
     },
     "execution_count": 7,
     "metadata": {},
     "output_type": "execute_result"
    }
   ],
   "source": [
    "-87.8"
   ]
  },
  {
   "cell_type": "code",
   "execution_count": 11,
   "id": "a50a8840",
   "metadata": {},
   "outputs": [
    {
     "data": {
      "text/plain": [
       "()"
      ]
     },
     "execution_count": 11,
     "metadata": {},
     "output_type": "execute_result"
    }
   ],
   "source": [
    "/"
   ]
  },
  {
   "cell_type": "code",
   "execution_count": 15,
   "id": "a0a5deb7",
   "metadata": {},
   "outputs": [
    {
     "data": {
      "text/plain": [
       "\"values = 'hello', -87.8, 6\\nexpressions = *,-,+,/\""
      ]
     },
     "execution_count": 15,
     "metadata": {},
     "output_type": "execute_result"
    }
   ],
   "source": [
    "\"\"\"values = 'hello', -87.8, 6\n",
    "expressions = *,-,+,/\"\"\""
   ]
  },
  {
   "cell_type": "code",
   "execution_count": 14,
   "id": "aac183d8",
   "metadata": {},
   "outputs": [
    {
     "data": {
      "text/plain": [
       "'string is a data type which can be initialized using a variable\\nvariable provides a memory space to the value belong to it i.e it keeps data in the memory'"
      ]
     },
     "execution_count": 14,
     "metadata": {},
     "output_type": "execute_result"
    }
   ],
   "source": [
    "\"\"\"string is a data type which can be initialized using a variable\n",
    "variable provides a memory space to the value belong to it i.e it keeps data in the memory\"\"\""
   ]
  },
  {
   "cell_type": "code",
   "execution_count": 16,
   "id": "3705a78d",
   "metadata": {},
   "outputs": [
    {
     "data": {
      "text/plain": [
       "' three types of data types -\\nint - storing integer value\\nstring - storing character, names etc\\nfloat - storing decimal values\\nboolean - true or false values'"
      ]
     },
     "execution_count": 16,
     "metadata": {},
     "output_type": "execute_result"
    }
   ],
   "source": [
    "\"\"\" three types of data types -\n",
    "int - storing integer value\n",
    "string - storing character, names etc\n",
    "float - storing decimal values\n",
    "boolean - true or false values\"\"\""
   ]
  },
  {
   "cell_type": "code",
   "execution_count": 17,
   "id": "b4d4cb4e",
   "metadata": {},
   "outputs": [
    {
     "data": {
      "text/plain": [
       "' expressions are made up of variables, operators and methord of a defined syntax that provides value in the end'"
      ]
     },
     "execution_count": 17,
     "metadata": {},
     "output_type": "execute_result"
    }
   ],
   "source": [
    "\"\"\" expressions are made up of variables, operators and methord of a defined syntax that provides value in the end\"\"\""
   ]
  },
  {
   "cell_type": "code",
   "execution_count": 18,
   "id": "7c579622",
   "metadata": {},
   "outputs": [
    {
     "data": {
      "text/plain": [
       "'statement is a programming instruction that does something , for example, print, assignment etc wheareas expression is a combination of oreator and operands that represent a value'"
      ]
     },
     "execution_count": 18,
     "metadata": {},
     "output_type": "execute_result"
    }
   ],
   "source": [
    "\"\"\"statement is a programming instruction that does something , for example, print, assignment etc wheareas expression is a combination of oreator and operands that represent a value\"\"\""
   ]
  },
  {
   "cell_type": "code",
   "execution_count": 19,
   "id": "9e2e9dd8",
   "metadata": {},
   "outputs": [
    {
     "data": {
      "text/plain": [
       "23"
      ]
     },
     "execution_count": 19,
     "metadata": {},
     "output_type": "execute_result"
    }
   ],
   "source": [
    "bacon = 22\n",
    "bacon + 1"
   ]
  },
  {
   "cell_type": "code",
   "execution_count": 21,
   "id": "e52bb889",
   "metadata": {},
   "outputs": [
    {
     "data": {
      "text/plain": [
       "'spamspamspam'"
      ]
     },
     "execution_count": 21,
     "metadata": {},
     "output_type": "execute_result"
    }
   ],
   "source": [
    "'spam' + \"spamspam\""
   ]
  },
  {
   "cell_type": "code",
   "execution_count": 22,
   "id": "8fd7a527",
   "metadata": {},
   "outputs": [
    {
     "data": {
      "text/plain": [
       "'spamspamspam'"
      ]
     },
     "execution_count": 22,
     "metadata": {},
     "output_type": "execute_result"
    }
   ],
   "source": [
    "'spam'*3"
   ]
  },
  {
   "cell_type": "code",
   "execution_count": 25,
   "id": "55730720",
   "metadata": {},
   "outputs": [
    {
     "data": {
      "text/plain": [
       "'i have eaten 99  burritos '"
      ]
     },
     "execution_count": 25,
     "metadata": {},
     "output_type": "execute_result"
    }
   ],
   "source": [
    "'i have eaten' + ' 99 ' + ' burritos '"
   ]
  },
  {
   "cell_type": "code",
   "execution_count": 26,
   "id": "0387cb77",
   "metadata": {},
   "outputs": [],
   "source": [
    "a= 10\n",
    "b= 10.0\n",
    "c= '10'"
   ]
  },
  {
   "cell_type": "code",
   "execution_count": 27,
   "id": "16852399",
   "metadata": {},
   "outputs": [
    {
     "data": {
      "text/plain": [
       "int"
      ]
     },
     "execution_count": 27,
     "metadata": {},
     "output_type": "execute_result"
    }
   ],
   "source": [
    "type(a)"
   ]
  },
  {
   "cell_type": "code",
   "execution_count": 28,
   "id": "ed45b65f",
   "metadata": {},
   "outputs": [
    {
     "data": {
      "text/plain": [
       "float"
      ]
     },
     "execution_count": 28,
     "metadata": {},
     "output_type": "execute_result"
    }
   ],
   "source": [
    "type(b)"
   ]
  },
  {
   "cell_type": "code",
   "execution_count": 29,
   "id": "d210db2d",
   "metadata": {},
   "outputs": [
    {
     "data": {
      "text/plain": [
       "str"
      ]
     },
     "execution_count": 29,
     "metadata": {},
     "output_type": "execute_result"
    }
   ],
   "source": [
    "type(c)"
   ]
  },
  {
   "cell_type": "code",
   "execution_count": 30,
   "id": "eb399e87",
   "metadata": {},
   "outputs": [
    {
     "data": {
      "text/plain": [
       "'valid variable name cannot begin with number so eggs is valid and 100 is not'"
      ]
     },
     "execution_count": 30,
     "metadata": {},
     "output_type": "execute_result"
    }
   ],
   "source": [
    "\"\"\"valid variable name cannot begin with number so eggs is valid and 100 is not\"\"\""
   ]
  },
  {
   "cell_type": "code",
   "execution_count": null,
   "id": "ef84e9fd",
   "metadata": {},
   "outputs": [],
   "source": []
  }
 ],
 "metadata": {
  "kernelspec": {
   "display_name": "Python 3 (ipykernel)",
   "language": "python",
   "name": "python3"
  },
  "language_info": {
   "codemirror_mode": {
    "name": "ipython",
    "version": 3
   },
   "file_extension": ".py",
   "mimetype": "text/x-python",
   "name": "python",
   "nbconvert_exporter": "python",
   "pygments_lexer": "ipython3",
   "version": "3.9.7"
  }
 },
 "nbformat": 4,
 "nbformat_minor": 5
}

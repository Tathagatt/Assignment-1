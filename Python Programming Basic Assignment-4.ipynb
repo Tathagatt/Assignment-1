{
 "cells": [
  {
   "cell_type": "markdown",
   "id": "0ac5af8e",
   "metadata": {},
   "source": [
    "Ans 1."
   ]
  },
  {
   "cell_type": "code",
   "execution_count": 12,
   "id": "25cb38c5",
   "metadata": {},
   "outputs": [],
   "source": [
    "def factorial(a):\n",
    "    f = 1\n",
    "    for i in range(1,a+1):\n",
    "        f = f*i\n",
    "    return f"
   ]
  },
  {
   "cell_type": "code",
   "execution_count": 13,
   "id": "cdea66ae",
   "metadata": {},
   "outputs": [
    {
     "data": {
      "text/plain": [
       "3628800"
      ]
     },
     "execution_count": 13,
     "metadata": {},
     "output_type": "execute_result"
    }
   ],
   "source": [
    "factorial(10)"
   ]
  },
  {
   "cell_type": "markdown",
   "id": "9a8add6b",
   "metadata": {},
   "source": [
    "Ans 2.\n"
   ]
  },
  {
   "cell_type": "code",
   "execution_count": 14,
   "id": "fbd1b0f2",
   "metadata": {},
   "outputs": [],
   "source": [
    "def multiplication_table(a):\n",
    "    l = []\n",
    "    for i in range(1,11):\n",
    "        m = a*i\n",
    "        l.append(m)\n",
    "        i=i+1\n",
    "    return l"
   ]
  },
  {
   "cell_type": "code",
   "execution_count": 15,
   "id": "bd6303d3",
   "metadata": {},
   "outputs": [
    {
     "data": {
      "text/plain": [
       "[12, 24, 36, 48, 60, 72, 84, 96, 108, 120]"
      ]
     },
     "execution_count": 15,
     "metadata": {},
     "output_type": "execute_result"
    }
   ],
   "source": [
    "multiplication_table(12)"
   ]
  },
  {
   "cell_type": "markdown",
   "id": "43516328",
   "metadata": {},
   "source": [
    "Ans 3."
   ]
  },
  {
   "cell_type": "code",
   "execution_count": 16,
   "id": "466bf709",
   "metadata": {},
   "outputs": [],
   "source": [
    "def getfib(n):\n",
    "    a = 1\n",
    "    b = 1\n",
    "    output =[]\n",
    "    for i in range(n):\n",
    "        yield a\n",
    "        a,b=b,a+b\n",
    "    return output"
   ]
  },
  {
   "cell_type": "code",
   "execution_count": 17,
   "id": "ca323d3a",
   "metadata": {},
   "outputs": [
    {
     "data": {
      "text/plain": [
       "<generator object getfib at 0x000001B0CD61A430>"
      ]
     },
     "execution_count": 17,
     "metadata": {},
     "output_type": "execute_result"
    }
   ],
   "source": [
    "getfib(4)"
   ]
  },
  {
   "cell_type": "code",
   "execution_count": 18,
   "id": "f4d0acec",
   "metadata": {},
   "outputs": [
    {
     "data": {
      "text/plain": [
       "[1, 1, 2, 3]"
      ]
     },
     "execution_count": 18,
     "metadata": {},
     "output_type": "execute_result"
    }
   ],
   "source": [
    "list(getfib(4))"
   ]
  },
  {
   "cell_type": "markdown",
   "id": "e1520344",
   "metadata": {},
   "source": [
    "Ans 4."
   ]
  },
  {
   "cell_type": "code",
   "execution_count": 24,
   "id": "91875534",
   "metadata": {},
   "outputs": [
    {
     "name": "stdout",
     "output_type": "stream",
     "text": [
      "Enter a number: 153\n",
      "3\n",
      "27\n",
      "152\n",
      "153\n",
      "153 is an Armstrong number\n"
     ]
    }
   ],
   "source": [
    "num = int(input(\"Enter a number: \"))\n",
    "a=0\n",
    "sum = 0\n",
    "temp = num\n",
    "n=num\n",
    "while(num!=0):\n",
    "    a=a+1\n",
    "    num=num//10\n",
    "print(a)\n",
    "\n",
    "while temp > 0:\n",
    "    digit = temp % 10\n",
    "    sum += digit ** a\n",
    "    temp //= 10\n",
    "    print(sum)\n",
    "if n == sum:\n",
    "    print(n,\"is an Armstrong number\")\n",
    "else:\n",
    "    print(n,\"is not an Armstrong number\")\n",
    "\n"
   ]
  },
  {
   "cell_type": "markdown",
   "id": "16330ec2",
   "metadata": {},
   "source": [
    "Ans 5.\n"
   ]
  },
  {
   "cell_type": "code",
   "execution_count": 21,
   "id": "d8a1c8f8",
   "metadata": {},
   "outputs": [
    {
     "name": "stdout",
     "output_type": "stream",
     "text": [
      "enter lower range100\n",
      "enter upper range1000\n",
      "153\n",
      "370\n",
      "371\n",
      "407\n"
     ]
    }
   ],
   "source": [
    "l = int(input(\"enter lower range\"))\n",
    "u = int(input(\"enter upper range\"))\n",
    "\n",
    "for num in range(l, u + 1):\n",
    "    o = len(str(num))\n",
    "    sum = 0\n",
    "    temp = num\n",
    "    while temp > 0:\n",
    "        digit = temp % 10\n",
    "        sum += digit ** o\n",
    "        temp //= 10\n",
    "\n",
    "    if num == sum:\n",
    "        print(num)\n",
    "        \n",
    "        \n",
    "    "
   ]
  },
  {
   "cell_type": "markdown",
   "id": "adb150af",
   "metadata": {},
   "source": [
    "Ans 6."
   ]
  },
  {
   "cell_type": "code",
   "execution_count": 22,
   "id": "ede3c1b6",
   "metadata": {},
   "outputs": [],
   "source": [
    "def natural(n):\n",
    "    k=(n*(n+1))//2\n",
    "    return k"
   ]
  },
  {
   "cell_type": "code",
   "execution_count": 23,
   "id": "95aacc0d",
   "metadata": {},
   "outputs": [
    {
     "data": {
      "text/plain": [
       "6"
      ]
     },
     "execution_count": 23,
     "metadata": {},
     "output_type": "execute_result"
    }
   ],
   "source": [
    "natural(3)"
   ]
  },
  {
   "cell_type": "code",
   "execution_count": null,
   "id": "365c014e",
   "metadata": {},
   "outputs": [],
   "source": []
  }
 ],
 "metadata": {
  "kernelspec": {
   "display_name": "Python 3 (ipykernel)",
   "language": "python",
   "name": "python3"
  },
  "language_info": {
   "codemirror_mode": {
    "name": "ipython",
    "version": 3
   },
   "file_extension": ".py",
   "mimetype": "text/x-python",
   "name": "python",
   "nbconvert_exporter": "python",
   "pygments_lexer": "ipython3",
   "version": "3.9.7"
  }
 },
 "nbformat": 4,
 "nbformat_minor": 5
}

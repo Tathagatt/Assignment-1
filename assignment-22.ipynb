{
 "cells": [
  {
   "cell_type": "raw",
   "id": "d862febb",
   "metadata": {},
   "source": [
    "Ans 1.\n",
    "X is a global variable so it can be assesed from anywhere so value of x is printed."
   ]
  },
  {
   "cell_type": "code",
   "execution_count": 1,
   "id": "3c1a2717",
   "metadata": {},
   "outputs": [
    {
     "name": "stdout",
     "output_type": "stream",
     "text": [
      "iNeuron\n"
     ]
    }
   ],
   "source": [
    "X = \"iNeuron\"\n",
    "def func():\n",
    "    print(X)\n",
    "\n",
    "func()"
   ]
  },
  {
   "cell_type": "raw",
   "id": "42133565",
   "metadata": {},
   "source": [
    "Ans 2.\n",
    "X is a global variable as well as local variable for the function func() the global value of x is printed as no return value inside the function."
   ]
  },
  {
   "cell_type": "code",
   "execution_count": 17,
   "id": "9453f04f",
   "metadata": {},
   "outputs": [
    {
     "name": "stdout",
     "output_type": "stream",
     "text": [
      "iNeuron\n"
     ]
    }
   ],
   "source": [
    "X = \"iNeuron\"\n",
    "def func():\n",
    "    X = \"NI!\"\n",
    "    \n",
    "func()\n",
    "print(X)"
   ]
  },
  {
   "cell_type": "raw",
   "id": "62387cb9",
   "metadata": {},
   "source": [
    "Ans 3.\n",
    "Both print are executed."
   ]
  },
  {
   "cell_type": "code",
   "execution_count": 5,
   "id": "6246e217",
   "metadata": {},
   "outputs": [
    {
     "name": "stdout",
     "output_type": "stream",
     "text": [
      "NI\n",
      "iNeuron\n"
     ]
    }
   ],
   "source": [
    "X = \"iNeuron\"\n",
    "def func():\n",
    "    X = 'NI'\n",
    "    print(X)\n",
    "func()\n",
    "print(X)"
   ]
  },
  {
   "cell_type": "raw",
   "id": "159b367b",
   "metadata": {},
   "source": [
    "Ans 4.\n",
    "By using global keyword the x used inside the funcion is same as x globally initialised outside the function so value of x is overwritten as same x is used by using the keyword global."
   ]
  },
  {
   "cell_type": "code",
   "execution_count": 7,
   "id": "917e8391",
   "metadata": {},
   "outputs": [
    {
     "name": "stdout",
     "output_type": "stream",
     "text": [
      "NI\n"
     ]
    }
   ],
   "source": [
    "X = \"iNeuron\"\n",
    "def func():\n",
    "    global X\n",
    "    X = 'NI'\n",
    "    \n",
    "func()\n",
    "print(X)"
   ]
  },
  {
   "cell_type": "raw",
   "id": "6ccd30c6",
   "metadata": {},
   "source": [
    "Ans 5.\n",
    "Global X = \"iNeuron\" so nested() and X prints the global value while func() dosen't show any output as no return or print. statement"
   ]
  },
  {
   "cell_type": "code",
   "execution_count": 13,
   "id": "871e2d6a",
   "metadata": {},
   "outputs": [],
   "source": [
    "X = \"iNeuron\"\n",
    "def func():\n",
    "    X = 'NI'\n",
    "def nested():\n",
    "    print(X)\n"
   ]
  },
  {
   "cell_type": "code",
   "execution_count": 10,
   "id": "5898fdac",
   "metadata": {},
   "outputs": [
    {
     "name": "stdout",
     "output_type": "stream",
     "text": [
      "iNeuron\n"
     ]
    }
   ],
   "source": [
    "nested()\n"
   ]
  },
  {
   "cell_type": "code",
   "execution_count": 11,
   "id": "9619b513",
   "metadata": {},
   "outputs": [],
   "source": [
    "func()"
   ]
  },
  {
   "cell_type": "code",
   "execution_count": 12,
   "id": "92d2e0c4",
   "metadata": {},
   "outputs": [
    {
     "data": {
      "text/plain": [
       "'iNeuron'"
      ]
     },
     "execution_count": 12,
     "metadata": {},
     "output_type": "execute_result"
    }
   ],
   "source": [
    "X"
   ]
  },
  {
   "cell_type": "raw",
   "id": "449fadeb",
   "metadata": {},
   "source": [
    "Ans 6.\n",
    "Python nonlocal keyword is used to make the variable which refers to the variable bounded in the nearest scope"
   ]
  }
 ],
 "metadata": {
  "kernelspec": {
   "display_name": "Python 3 (ipykernel)",
   "language": "python",
   "name": "python3"
  },
  "language_info": {
   "codemirror_mode": {
    "name": "ipython",
    "version": 3
   },
   "file_extension": ".py",
   "mimetype": "text/x-python",
   "name": "python",
   "nbconvert_exporter": "python",
   "pygments_lexer": "ipython3",
   "version": "3.9.7"
  }
 },
 "nbformat": 4,
 "nbformat_minor": 5
}

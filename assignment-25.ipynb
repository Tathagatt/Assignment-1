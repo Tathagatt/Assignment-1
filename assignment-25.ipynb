{
 "cells": [
  {
   "cell_type": "raw",
   "id": "e4e066d3",
   "metadata": {},
   "source": [
    "Ans 1. \n",
    "The difference between enclosing a list comprehension in square brackets and parentheses is that square brackets are lists while parentheses are tuples"
   ]
  },
  {
   "cell_type": "raw",
   "id": "092f4995",
   "metadata": {},
   "source": [
    "Ans 2.\n",
    "Iterators can perform indexing/iterable function without any assistence. For an iterable variable which is not iterator iter() and next() functions can be used to make it iterable, like in case of string.\n",
    "Generators are mostly used in loops to generate an iterator as generator function remembers the last step and provdes us data while computing new one, it does not wait for the full operation to first get completed."
   ]
  },
  {
   "cell_type": "raw",
   "id": "820c450f",
   "metadata": {},
   "source": [
    "Ans 3.\n",
    "If a function contains at least one yield statement it becomes a generator function."
   ]
  },
  {
   "cell_type": "raw",
   "id": "5be02cea",
   "metadata": {},
   "source": [
    "Ans 4.\n",
    "Yield function makes the generator which gives data one by one without waiting for any other thread or program to complete. It isless memory intensive than the normal one, it makes the program like range function."
   ]
  },
  {
   "cell_type": "raw",
   "id": "8ec81c21",
   "metadata": {},
   "source": [
    "Ans 5.\n",
    "List comprehension is more concise and easier to read as compared to map.\n",
    "List comprehension are used when a list of results is required as map only returns a map object and does not return any list. Map is faster in case of calling an already defined function."
   ]
  },
  {
   "cell_type": "code",
   "execution_count": 2,
   "id": "f85361d7",
   "metadata": {},
   "outputs": [],
   "source": [
    "def even_odd(num):\n",
    "    if num%2==0:\n",
    "        return \"{} is even\".format(num)\n",
    "    else :\n",
    "        \n",
    "        return \"{} is odd\".format(num)\n",
    "    "
   ]
  },
  {
   "cell_type": "code",
   "execution_count": 3,
   "id": "cfd643fa",
   "metadata": {},
   "outputs": [
    {
     "data": {
      "text/plain": [
       "'24 is even'"
      ]
     },
     "execution_count": 3,
     "metadata": {},
     "output_type": "execute_result"
    }
   ],
   "source": [
    "even_odd(24)"
   ]
  },
  {
   "cell_type": "code",
   "execution_count": 4,
   "id": "667b57bf",
   "metadata": {},
   "outputs": [
    {
     "data": {
      "text/plain": [
       "'23 is odd'"
      ]
     },
     "execution_count": 4,
     "metadata": {},
     "output_type": "execute_result"
    }
   ],
   "source": [
    "even_odd(23)"
   ]
  },
  {
   "cell_type": "code",
   "execution_count": 5,
   "id": "ec003e93",
   "metadata": {},
   "outputs": [],
   "source": [
    "lst = [1,2,3,4,5,6,7,8]"
   ]
  },
  {
   "cell_type": "code",
   "execution_count": 6,
   "id": "d24c8a2a",
   "metadata": {},
   "outputs": [
    {
     "data": {
      "text/plain": [
       "<map at 0x274051a2790>"
      ]
     },
     "execution_count": 6,
     "metadata": {},
     "output_type": "execute_result"
    }
   ],
   "source": [
    "map(even_odd,lst)"
   ]
  },
  {
   "cell_type": "code",
   "execution_count": 7,
   "id": "a8cb2b72",
   "metadata": {},
   "outputs": [
    {
     "data": {
      "text/plain": [
       "['1 is odd',\n",
       " '2 is even',\n",
       " '3 is odd',\n",
       " '4 is even',\n",
       " '5 is odd',\n",
       " '6 is even',\n",
       " '7 is odd',\n",
       " '8 is even']"
      ]
     },
     "execution_count": 7,
     "metadata": {},
     "output_type": "execute_result"
    }
   ],
   "source": [
    "list(map(even_odd,lst))"
   ]
  },
  {
   "cell_type": "code",
   "execution_count": null,
   "id": "4bb0f1df",
   "metadata": {},
   "outputs": [],
   "source": []
  }
 ],
 "metadata": {
  "kernelspec": {
   "display_name": "Python 3 (ipykernel)",
   "language": "python",
   "name": "python3"
  },
  "language_info": {
   "codemirror_mode": {
    "name": "ipython",
    "version": 3
   },
   "file_extension": ".py",
   "mimetype": "text/x-python",
   "name": "python",
   "nbconvert_exporter": "python",
   "pygments_lexer": "ipython3",
   "version": "3.9.7"
  }
 },
 "nbformat": 4,
 "nbformat_minor": 5
}

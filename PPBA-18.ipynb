{
 "cells": [
  {
   "cell_type": "markdown",
   "id": "92b9a246",
   "metadata": {},
   "source": [
    "Ans 1."
   ]
  },
  {
   "cell_type": "code",
   "execution_count": 1,
   "id": "fe299c05",
   "metadata": {},
   "outputs": [],
   "source": [
    "def filter_list(lst):\n",
    "    l1=[]\n",
    "    if type(lst)==list:\n",
    "        for i in lst:\n",
    "            if type(i)==int:\n",
    "                l1.append(i)\n",
    "        return l1\n",
    "\n",
    "                "
   ]
  },
  {
   "cell_type": "code",
   "execution_count": 2,
   "id": "1bb3c8b7",
   "metadata": {},
   "outputs": [
    {
     "data": {
      "text/plain": [
       "[1, 2]"
      ]
     },
     "execution_count": 2,
     "metadata": {},
     "output_type": "execute_result"
    }
   ],
   "source": [
    "filter_list([1,2,'a','b'])"
   ]
  },
  {
   "cell_type": "code",
   "execution_count": 3,
   "id": "a1ff2bde",
   "metadata": {},
   "outputs": [
    {
     "data": {
      "text/plain": [
       "[1, 0, 15]"
      ]
     },
     "execution_count": 3,
     "metadata": {},
     "output_type": "execute_result"
    }
   ],
   "source": [
    "filter_list([1,'a','b',0,15])"
   ]
  },
  {
   "cell_type": "code",
   "execution_count": 4,
   "id": "1860ef85",
   "metadata": {},
   "outputs": [
    {
     "data": {
      "text/plain": [
       "[1, 2, 123]"
      ]
     },
     "execution_count": 4,
     "metadata": {},
     "output_type": "execute_result"
    }
   ],
   "source": [
    "filter_list([1,2,'aasf','1','123',123])"
   ]
  },
  {
   "cell_type": "markdown",
   "id": "f9c5eb73",
   "metadata": {},
   "source": [
    "Ans 2."
   ]
  },
  {
   "cell_type": "code",
   "execution_count": 5,
   "id": "46137d23",
   "metadata": {},
   "outputs": [],
   "source": [
    "def reverse(s1):\n",
    "    s=s1\n",
    "    new=''\n",
    "    for i in range(len(s)):\n",
    "        if (s[i].isupper()) == True:\n",
    "            new =new + (s[i].lower())\n",
    "        elif (s[i].islower()) == True: \n",
    "            new =new + (s[i].upper()) \n",
    "        elif (s[i].isspace()) == True: \n",
    "             new =new + s[i]\n",
    "    return new[::-1]"
   ]
  },
  {
   "cell_type": "code",
   "execution_count": 6,
   "id": "c947a907",
   "metadata": {},
   "outputs": [
    {
     "data": {
      "text/plain": [
       "'DLROw OLLEh'"
      ]
     },
     "execution_count": 6,
     "metadata": {},
     "output_type": "execute_result"
    }
   ],
   "source": [
    "reverse('Hello World')"
   ]
  },
  {
   "cell_type": "code",
   "execution_count": 7,
   "id": "1850e235",
   "metadata": {},
   "outputs": [
    {
     "data": {
      "text/plain": [
       "'RADAr'"
      ]
     },
     "execution_count": 7,
     "metadata": {},
     "output_type": "execute_result"
    }
   ],
   "source": [
    "reverse('Radar')"
   ]
  },
  {
   "cell_type": "code",
   "execution_count": 8,
   "id": "da6aac53",
   "metadata": {},
   "outputs": [
    {
     "data": {
      "text/plain": [
       "'eSrEvEr'"
      ]
     },
     "execution_count": 8,
     "metadata": {},
     "output_type": "execute_result"
    }
   ],
   "source": [
    "reverse('ReVeRsE')"
   ]
  },
  {
   "cell_type": "markdown",
   "id": "63c06457",
   "metadata": {},
   "source": [
    "Ans 3."
   ]
  },
  {
   "cell_type": "code",
   "execution_count": 9,
   "id": "1314ce50",
   "metadata": {},
   "outputs": [],
   "source": [
    "def des(arr):\n",
    "    first = arr[0]\n",
    "    middle = arr[1:len(arr)]\n",
    "    last = arr[len(arr)-1]\n",
    "    return 'first = ',first,'middle = ',middle,'last ',last"
   ]
  },
  {
   "cell_type": "code",
   "execution_count": 10,
   "id": "404b0fd8",
   "metadata": {},
   "outputs": [
    {
     "data": {
      "text/plain": [
       "('first = ', 1, 'middle = ', [2, 3, 4, 5, 6], 'last ', 6)"
      ]
     },
     "execution_count": 10,
     "metadata": {},
     "output_type": "execute_result"
    }
   ],
   "source": [
    "des([1,2,3,4,5,6])"
   ]
  },
  {
   "cell_type": "markdown",
   "id": "a9c04534",
   "metadata": {},
   "source": [
    "Ans 4."
   ]
  },
  {
   "cell_type": "code",
   "execution_count": 11,
   "id": "4e6cb2b3",
   "metadata": {},
   "outputs": [],
   "source": [
    "def factorial(n):\n",
    "    if n == 1 :\n",
    "        return n\n",
    "    elif n==0:\n",
    "        return 1\n",
    "    else:\n",
    "        return n*factorial(n-1)"
   ]
  },
  {
   "cell_type": "code",
   "execution_count": 12,
   "id": "f7585b92",
   "metadata": {},
   "outputs": [
    {
     "data": {
      "text/plain": [
       "120"
      ]
     },
     "execution_count": 12,
     "metadata": {},
     "output_type": "execute_result"
    }
   ],
   "source": [
    "factorial(5)"
   ]
  },
  {
   "cell_type": "code",
   "execution_count": 13,
   "id": "d1f4b84d",
   "metadata": {},
   "outputs": [
    {
     "data": {
      "text/plain": [
       "6"
      ]
     },
     "execution_count": 13,
     "metadata": {},
     "output_type": "execute_result"
    }
   ],
   "source": [
    "factorial(3)"
   ]
  },
  {
   "cell_type": "code",
   "execution_count": 14,
   "id": "893534a2",
   "metadata": {},
   "outputs": [
    {
     "data": {
      "text/plain": [
       "1"
      ]
     },
     "execution_count": 14,
     "metadata": {},
     "output_type": "execute_result"
    }
   ],
   "source": [
    "factorial(1)"
   ]
  },
  {
   "cell_type": "code",
   "execution_count": 15,
   "id": "c2d3cc75",
   "metadata": {},
   "outputs": [
    {
     "data": {
      "text/plain": [
       "1"
      ]
     },
     "execution_count": 15,
     "metadata": {},
     "output_type": "execute_result"
    }
   ],
   "source": [
    "factorial(0)"
   ]
  },
  {
   "cell_type": "markdown",
   "id": "b1dc24b3",
   "metadata": {},
   "source": [
    "Ans 5."
   ]
  },
  {
   "cell_type": "code",
   "execution_count": 16,
   "id": "ba52133e",
   "metadata": {},
   "outputs": [],
   "source": [
    "def move_to_end(arr,e):#e is the no. of elements by which rotation should happen\n",
    "    arr1=[]\n",
    "    arr2=[]\n",
    "    try:\n",
    "        if type(arr)==list:\n",
    "            for i in arr:\n",
    "                if i == e:\n",
    "                    arr1.append(i)\n",
    "                else:\n",
    "                    arr2.append(i)\n",
    "            return arr2+arr1\n",
    "        else:\n",
    "            raise Exception(arr)\n",
    "        \n",
    "    except Exception as e:\n",
    "        print(\"error\",e)\n",
    "    "
   ]
  },
  {
   "cell_type": "code",
   "execution_count": 17,
   "id": "ac08f4c2",
   "metadata": {},
   "outputs": [
    {
     "data": {
      "text/plain": [
       "[3, 2, 4, 4, 1, 1]"
      ]
     },
     "execution_count": 17,
     "metadata": {},
     "output_type": "execute_result"
    }
   ],
   "source": [
    "move_to_end([1, 3, 2, 4, 4, 1], 1)"
   ]
  },
  {
   "cell_type": "code",
   "execution_count": 18,
   "id": "8f72edab",
   "metadata": {},
   "outputs": [
    {
     "data": {
      "text/plain": [
       "[7, 8, 1, 2, 3, 4, 9]"
      ]
     },
     "execution_count": 18,
     "metadata": {},
     "output_type": "execute_result"
    }
   ],
   "source": [
    "move_to_end([7, 8, 9, 1, 2, 3, 4], 9)"
   ]
  },
  {
   "cell_type": "code",
   "execution_count": 19,
   "id": "fe52c4c4",
   "metadata": {},
   "outputs": [
    {
     "data": {
      "text/plain": [
       "['b', 'a', 'a', 'a']"
      ]
     },
     "execution_count": 19,
     "metadata": {},
     "output_type": "execute_result"
    }
   ],
   "source": [
    "move_to_end(['a','a','a','b'],'a')"
   ]
  },
  {
   "cell_type": "code",
   "execution_count": null,
   "id": "74f6ad4a",
   "metadata": {},
   "outputs": [],
   "source": []
  }
 ],
 "metadata": {
  "kernelspec": {
   "display_name": "Python 3 (ipykernel)",
   "language": "python",
   "name": "python3"
  },
  "language_info": {
   "codemirror_mode": {
    "name": "ipython",
    "version": 3
   },
   "file_extension": ".py",
   "mimetype": "text/x-python",
   "name": "python",
   "nbconvert_exporter": "python",
   "pygments_lexer": "ipython3",
   "version": "3.9.7"
  }
 },
 "nbformat": 4,
 "nbformat_minor": 5
}

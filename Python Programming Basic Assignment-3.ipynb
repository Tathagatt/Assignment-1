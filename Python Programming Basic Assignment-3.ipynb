{
 "cells": [
  {
   "cell_type": "markdown",
   "id": "347a2805",
   "metadata": {},
   "source": [
    "Ans 1."
   ]
  },
  {
   "cell_type": "code",
   "execution_count": 7,
   "id": "92c14674",
   "metadata": {},
   "outputs": [
    {
     "name": "stdout",
     "output_type": "stream",
     "text": [
      "Enter the No. -1\n",
      "The no. is negative  -1.0\n"
     ]
    }
   ],
   "source": [
    "a = float(input(\"Enter the No. \"))\n",
    "if a == 0:\n",
    "    print(\"The no. is zero \" ,a)\n",
    "elif a<0:\n",
    "    print(\"The no. is negative \",a)\n",
    "else:\n",
    "    print(\"The no. is positive \",a)\n",
    "    "
   ]
  },
  {
   "cell_type": "markdown",
   "id": "d44847a8",
   "metadata": {},
   "source": [
    "Ans 2."
   ]
  },
  {
   "cell_type": "code",
   "execution_count": 13,
   "id": "2d456a48",
   "metadata": {},
   "outputs": [
    {
     "name": "stdout",
     "output_type": "stream",
     "text": [
      "Enter the No. 9\n",
      "odd no.  9.0\n"
     ]
    }
   ],
   "source": [
    "a = float(input(\"Enter the No. \"))\n",
    "if a%2==0:\n",
    "    print(\"even no. \",a)\n",
    "else:\n",
    "    print(\"odd no. \",a)"
   ]
  },
  {
   "cell_type": "markdown",
   "id": "098793a6",
   "metadata": {},
   "source": [
    "Ans 3."
   ]
  },
  {
   "cell_type": "code",
   "execution_count": 14,
   "id": "1900b9d8",
   "metadata": {},
   "outputs": [
    {
     "name": "stdout",
     "output_type": "stream",
     "text": [
      "Enter the year 2024\n",
      "2024 is a leap year\n"
     ]
    }
   ],
   "source": [
    "year = int(input(\"Enter the year \"))\n",
    "\n",
    "if (year % 400 == 0) and (year % 100 == 0):\n",
    "    print(\"{0} is a leap year\".format(year))\n",
    "\n",
    "elif (year % 4 ==0) and (year % 100 != 0):\n",
    "    print(\"{0} is a leap year\".format(year))\n",
    "\n",
    "\n",
    "else:\n",
    "    print(\"{0} is not a leap year\".format(year))"
   ]
  },
  {
   "cell_type": "markdown",
   "id": "098c27e7",
   "metadata": {},
   "source": [
    "Ans 4."
   ]
  },
  {
   "cell_type": "code",
   "execution_count": 9,
   "id": "87125393",
   "metadata": {},
   "outputs": [
    {
     "name": "stdout",
     "output_type": "stream",
     "text": [
      "Enter the No. 17\n",
      "prime no.  17\n"
     ]
    }
   ],
   "source": [
    "a = int(input(\"Enter the No. \"))\n",
    "if a == 2:\n",
    "    print(\"prime no\")\n",
    "for i in range(2,a):\n",
    "    if (a%i)==0:\n",
    "        print(\"Not a prime no. \", a)\n",
    "        break\n",
    "    else:\n",
    "        print(\"prime no. \",a)\n",
    "        break"
   ]
  },
  {
   "cell_type": "markdown",
   "id": "139a9308",
   "metadata": {},
   "source": [
    "Ans 5."
   ]
  },
  {
   "cell_type": "code",
   "execution_count": 36,
   "id": "73785f92",
   "metadata": {},
   "outputs": [],
   "source": [
    "def prime(n):\n",
    "    for i in range(2,n+1):\n",
    "        for j in range(2,i):\n",
    "            if (i%j) ==0:\n",
    "                break\n",
    "            else:\n",
    "                yield i\n",
    "                break"
   ]
  },
  {
   "cell_type": "code",
   "execution_count": 40,
   "id": "2f17f745",
   "metadata": {},
   "outputs": [],
   "source": [
    "y=prime(1000)"
   ]
  },
  {
   "cell_type": "code",
   "execution_count": 41,
   "id": "a1ec5778",
   "metadata": {},
   "outputs": [
    {
     "data": {
      "text/plain": [
       "<generator object prime at 0x000001753B416040>"
      ]
     },
     "execution_count": 41,
     "metadata": {},
     "output_type": "execute_result"
    }
   ],
   "source": [
    "y"
   ]
  },
  {
   "cell_type": "code",
   "execution_count": null,
   "id": "be2a4bd3",
   "metadata": {},
   "outputs": [],
   "source": []
  }
 ],
 "metadata": {
  "kernelspec": {
   "display_name": "Python 3 (ipykernel)",
   "language": "python",
   "name": "python3"
  },
  "language_info": {
   "codemirror_mode": {
    "name": "ipython",
    "version": 3
   },
   "file_extension": ".py",
   "mimetype": "text/x-python",
   "name": "python",
   "nbconvert_exporter": "python",
   "pygments_lexer": "ipython3",
   "version": "3.9.7"
  }
 },
 "nbformat": 4,
 "nbformat_minor": 5
}

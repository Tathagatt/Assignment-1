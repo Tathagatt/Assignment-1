{
 "cells": [
  {
   "cell_type": "markdown",
   "id": "510b1906",
   "metadata": {},
   "source": [
    "Ans 1."
   ]
  },
  {
   "cell_type": "code",
   "execution_count": 6,
   "id": "c67606a6",
   "metadata": {},
   "outputs": [],
   "source": [
    "def stutter(x):\n",
    "    result=''\n",
    "    for i in x:\n",
    "        result = result + (x[:3] + \"... \" )*2 + x[:] + '?'\n",
    "        break\n",
    "    return result\n",
    "\n",
    "        "
   ]
  },
  {
   "cell_type": "code",
   "execution_count": 7,
   "id": "f10463e8",
   "metadata": {},
   "outputs": [
    {
     "data": {
      "text/plain": [
       "'inc... inc... incredible?'"
      ]
     },
     "execution_count": 7,
     "metadata": {},
     "output_type": "execute_result"
    }
   ],
   "source": [
    "stutter('incredible')"
   ]
  },
  {
   "cell_type": "code",
   "execution_count": 45,
   "id": "c7209eea",
   "metadata": {},
   "outputs": [
    {
     "data": {
      "text/plain": [
       "'ent... ent... enthusiastic?'"
      ]
     },
     "execution_count": 45,
     "metadata": {},
     "output_type": "execute_result"
    }
   ],
   "source": [
    "stutter('enthusiastic')"
   ]
  },
  {
   "cell_type": "code",
   "execution_count": 46,
   "id": "2c46a11f",
   "metadata": {},
   "outputs": [
    {
     "data": {
      "text/plain": [
       "'out... out... outstanding?'"
      ]
     },
     "execution_count": 46,
     "metadata": {},
     "output_type": "execute_result"
    }
   ],
   "source": [
    "stutter('outstanding')"
   ]
  },
  {
   "cell_type": "markdown",
   "id": "2bc274b8",
   "metadata": {},
   "source": [
    "Ans 2."
   ]
  },
  {
   "cell_type": "code",
   "execution_count": 41,
   "id": "2135ec5d",
   "metadata": {},
   "outputs": [],
   "source": [
    "def radians_to_degrees(x):\n",
    "    degree = x * (180/3.14)\n",
    "    return round(degree,ndigits=1)"
   ]
  },
  {
   "cell_type": "code",
   "execution_count": 42,
   "id": "96f59b6c",
   "metadata": {},
   "outputs": [
    {
     "data": {
      "text/plain": [
       "57.3"
      ]
     },
     "execution_count": 42,
     "metadata": {},
     "output_type": "execute_result"
    }
   ],
   "source": [
    "radians_to_degrees(1)"
   ]
  },
  {
   "cell_type": "code",
   "execution_count": 43,
   "id": "b21a9af9",
   "metadata": {},
   "outputs": [
    {
     "data": {
      "text/plain": [
       "1146.5"
      ]
     },
     "execution_count": 43,
     "metadata": {},
     "output_type": "execute_result"
    }
   ],
   "source": [
    "radians_to_degrees(20)"
   ]
  },
  {
   "cell_type": "code",
   "execution_count": 44,
   "id": "b23f6418",
   "metadata": {},
   "outputs": [
    {
     "data": {
      "text/plain": [
       "2866.2"
      ]
     },
     "execution_count": 44,
     "metadata": {},
     "output_type": "execute_result"
    }
   ],
   "source": [
    "radians_to_degrees(50)"
   ]
  },
  {
   "cell_type": "markdown",
   "id": "fa6447de",
   "metadata": {},
   "source": [
    "Ans 3."
   ]
  },
  {
   "cell_type": "code",
   "execution_count": 19,
   "id": "336f1b96",
   "metadata": {},
   "outputs": [],
   "source": [
    "def is_curzon(x):\n",
    "    flag = False\n",
    "    a = 2 ** x +1\n",
    "    b = 2 * x+1\n",
    "    if a%b==0:\n",
    "        flag = True\n",
    "    return flag"
   ]
  },
  {
   "cell_type": "code",
   "execution_count": 21,
   "id": "91f74f4c",
   "metadata": {},
   "outputs": [
    {
     "data": {
      "text/plain": [
       "False"
      ]
     },
     "execution_count": 21,
     "metadata": {},
     "output_type": "execute_result"
    }
   ],
   "source": [
    "is_curzon(10)"
   ]
  },
  {
   "cell_type": "code",
   "execution_count": 40,
   "id": "be5ed143",
   "metadata": {},
   "outputs": [
    {
     "data": {
      "text/plain": [
       "True"
      ]
     },
     "execution_count": 40,
     "metadata": {},
     "output_type": "execute_result"
    }
   ],
   "source": [
    "is_curzon(5)"
   ]
  },
  {
   "cell_type": "code",
   "execution_count": 39,
   "id": "f0b814fa",
   "metadata": {},
   "outputs": [
    {
     "data": {
      "text/plain": [
       "True"
      ]
     },
     "execution_count": 39,
     "metadata": {},
     "output_type": "execute_result"
    }
   ],
   "source": [
    "is_curzon(14)"
   ]
  },
  {
   "cell_type": "markdown",
   "id": "7a8345d2",
   "metadata": {},
   "source": [
    "Ans 4."
   ]
  },
  {
   "cell_type": "code",
   "execution_count": 35,
   "id": "37ad2e5e",
   "metadata": {},
   "outputs": [],
   "source": [
    "def hexa_area(x):\n",
    "    area = (3*(3**0.5))*x*x/2\n",
    "    return round(area,ndigits=1)"
   ]
  },
  {
   "cell_type": "code",
   "execution_count": 36,
   "id": "cc516b05",
   "metadata": {},
   "outputs": [
    {
     "data": {
      "text/plain": [
       "2.6"
      ]
     },
     "execution_count": 36,
     "metadata": {},
     "output_type": "execute_result"
    }
   ],
   "source": [
    "hexa_area(1)"
   ]
  },
  {
   "cell_type": "code",
   "execution_count": 37,
   "id": "692e6931",
   "metadata": {},
   "outputs": [
    {
     "data": {
      "text/plain": [
       "10.4"
      ]
     },
     "execution_count": 37,
     "metadata": {},
     "output_type": "execute_result"
    }
   ],
   "source": [
    "hexa_area(2)"
   ]
  },
  {
   "cell_type": "code",
   "execution_count": 38,
   "id": "9d9b1fcb",
   "metadata": {},
   "outputs": [
    {
     "data": {
      "text/plain": [
       "23.4"
      ]
     },
     "execution_count": 38,
     "metadata": {},
     "output_type": "execute_result"
    }
   ],
   "source": [
    "hexa_area(3)"
   ]
  },
  {
   "cell_type": "markdown",
   "id": "e9b6bd8f",
   "metadata": {},
   "source": [
    "Ans 5."
   ]
  },
  {
   "cell_type": "code",
   "execution_count": 29,
   "id": "c359b4ad",
   "metadata": {},
   "outputs": [],
   "source": [
    "def binary(a):\n",
    "    result = \"\"\n",
    "    while(a>=1):\n",
    "        rem = a%2\n",
    "        quot = a//2\n",
    "        a=quot\n",
    "        result = result + str(rem)\n",
    "    return result[::-1]"
   ]
  },
  {
   "cell_type": "code",
   "execution_count": 30,
   "id": "2766b2ee",
   "metadata": {},
   "outputs": [
    {
     "data": {
      "text/plain": [
       "'1'"
      ]
     },
     "execution_count": 30,
     "metadata": {},
     "output_type": "execute_result"
    }
   ],
   "source": [
    "binary(1)"
   ]
  },
  {
   "cell_type": "code",
   "execution_count": 31,
   "id": "184d3899",
   "metadata": {},
   "outputs": [
    {
     "data": {
      "text/plain": [
       "'101'"
      ]
     },
     "execution_count": 31,
     "metadata": {},
     "output_type": "execute_result"
    }
   ],
   "source": [
    "binary(5)"
   ]
  },
  {
   "cell_type": "code",
   "execution_count": 32,
   "id": "6fbd9f5b",
   "metadata": {},
   "outputs": [
    {
     "data": {
      "text/plain": [
       "'1010'"
      ]
     },
     "execution_count": 32,
     "metadata": {},
     "output_type": "execute_result"
    }
   ],
   "source": [
    "binary(10)"
   ]
  },
  {
   "cell_type": "code",
   "execution_count": null,
   "id": "faea1124",
   "metadata": {},
   "outputs": [],
   "source": []
  }
 ],
 "metadata": {
  "kernelspec": {
   "display_name": "Python 3 (ipykernel)",
   "language": "python",
   "name": "python3"
  },
  "language_info": {
   "codemirror_mode": {
    "name": "ipython",
    "version": 3
   },
   "file_extension": ".py",
   "mimetype": "text/x-python",
   "name": "python",
   "nbconvert_exporter": "python",
   "pygments_lexer": "ipython3",
   "version": "3.9.7"
  }
 },
 "nbformat": 4,
 "nbformat_minor": 5
}

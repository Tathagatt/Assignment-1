{
 "cells": [
  {
   "cell_type": "markdown",
   "id": "1d2cfe7b",
   "metadata": {},
   "source": [
    "Ans 1.Two values of boolean datatype - True and False"
   ]
  },
  {
   "cell_type": "code",
   "execution_count": 3,
   "id": "c1a99137",
   "metadata": {},
   "outputs": [
    {
     "data": {
      "text/plain": [
       "True"
      ]
     },
     "execution_count": 3,
     "metadata": {},
     "output_type": "execute_result"
    }
   ],
   "source": [
    "True"
   ]
  },
  {
   "cell_type": "code",
   "execution_count": 4,
   "id": "2311147a",
   "metadata": {},
   "outputs": [
    {
     "data": {
      "text/plain": [
       "False"
      ]
     },
     "execution_count": 4,
     "metadata": {},
     "output_type": "execute_result"
    }
   ],
   "source": [
    "False"
   ]
  },
  {
   "cell_type": "markdown",
   "id": "f301051e",
   "metadata": {},
   "source": [
    "Ans 2. Three types of boolean operators - and, or, not"
   ]
  },
  {
   "cell_type": "markdown",
   "id": "32fbac8e",
   "metadata": {},
   "source": [
    "Ans 3. Boolean operator truth tables-\n",
    "and- \n",
    "True and True:True\n",
    "Flase and True:False\n",
    "False and False:False\n",
    "True and False:False\n",
    "or-\n",
    "True and True:True\n",
    "Flase and True:True\n",
    "False and False:False\n",
    "True and False:True\n",
    "not-\n",
    "True only if False\n",
    "\n"
   ]
  },
  {
   "cell_type": "markdown",
   "id": "d8b321e7",
   "metadata": {},
   "source": [
    "Ans 4."
   ]
  },
  {
   "cell_type": "code",
   "execution_count": 1,
   "id": "a9dcbd22",
   "metadata": {},
   "outputs": [
    {
     "data": {
      "text/plain": [
       "False"
      ]
     },
     "execution_count": 1,
     "metadata": {},
     "output_type": "execute_result"
    }
   ],
   "source": [
    "(5 > 4) and (3 == 5)"
   ]
  },
  {
   "cell_type": "code",
   "execution_count": 2,
   "id": "b078625c",
   "metadata": {},
   "outputs": [
    {
     "data": {
      "text/plain": [
       "False"
      ]
     },
     "execution_count": 2,
     "metadata": {},
     "output_type": "execute_result"
    }
   ],
   "source": [
    "not (5 > 4)"
   ]
  },
  {
   "cell_type": "code",
   "execution_count": 3,
   "id": "479a9588",
   "metadata": {},
   "outputs": [
    {
     "data": {
      "text/plain": [
       "True"
      ]
     },
     "execution_count": 3,
     "metadata": {},
     "output_type": "execute_result"
    }
   ],
   "source": [
    "(5 > 4) or (3 == 5)"
   ]
  },
  {
   "cell_type": "code",
   "execution_count": 4,
   "id": "f1de6723",
   "metadata": {},
   "outputs": [
    {
     "data": {
      "text/plain": [
       "False"
      ]
     },
     "execution_count": 4,
     "metadata": {},
     "output_type": "execute_result"
    }
   ],
   "source": [
    "not((5 > 4) or (3 == 5))"
   ]
  },
  {
   "cell_type": "code",
   "execution_count": 5,
   "id": "198dc4cb",
   "metadata": {},
   "outputs": [
    {
     "data": {
      "text/plain": [
       "False"
      ]
     },
     "execution_count": 5,
     "metadata": {},
     "output_type": "execute_result"
    }
   ],
   "source": [
    "(True and True) and (True == False)"
   ]
  },
  {
   "cell_type": "code",
   "execution_count": 6,
   "id": "98424abb",
   "metadata": {},
   "outputs": [
    {
     "data": {
      "text/plain": [
       "True"
      ]
     },
     "execution_count": 6,
     "metadata": {},
     "output_type": "execute_result"
    }
   ],
   "source": [
    "(not False) or (not True)"
   ]
  },
  {
   "cell_type": "markdown",
   "id": "2dda3428",
   "metadata": {},
   "source": [
    "Ans 5. The six comparison operators: ==,!=,>,>=,<,<= (equal to, not equal to, greater than, greater than or equal to, less than, and less than or equal to.)"
   ]
  },
  {
   "cell_type": "markdown",
   "id": "76af98af",
   "metadata": {},
   "source": [
    "Ans 6. == operator is used to check for equality where as = is use to assign values to a variable"
   ]
  },
  {
   "cell_type": "code",
   "execution_count": 7,
   "id": "2cc0db23",
   "metadata": {},
   "outputs": [
    {
     "name": "stdout",
     "output_type": "stream",
     "text": [
      "True\n"
     ]
    }
   ],
   "source": [
    "a=6 #assigned the value using assignment operator\n",
    "if a==6: #checked the value using equal to operator\n",
    "    print(\"True\")\n",
    "else:\n",
    "    print(\"not true\")"
   ]
  },
  {
   "cell_type": "markdown",
   "id": "4698cc0c",
   "metadata": {},
   "source": [
    "Ans 7."
   ]
  },
  {
   "cell_type": "code",
   "execution_count": 8,
   "id": "bedcf012",
   "metadata": {},
   "outputs": [
    {
     "name": "stdout",
     "output_type": "stream",
     "text": [
      "ham\n",
      "spam\n",
      "spam\n"
     ]
    }
   ],
   "source": [
    "spam = 0\n",
    "if spam==10:   #first block\n",
    "    print(\"eggs\")\n",
    "if spam>5:     #second block\n",
    "    print(\"bacon\")\n",
    "else:          #third block\n",
    "    print(\"ham\")\n",
    "    print(\"spam\")\n",
    "    print(\"spam\")"
   ]
  },
  {
   "cell_type": "markdown",
   "id": "6a704d84",
   "metadata": {},
   "source": [
    "Ans 8."
   ]
  },
  {
   "cell_type": "code",
   "execution_count": 9,
   "id": "c9dcf3f1",
   "metadata": {},
   "outputs": [
    {
     "name": "stdout",
     "output_type": "stream",
     "text": [
      "Enter a no. 1\n",
      "Hello\n"
     ]
    }
   ],
   "source": [
    "spam = int(input(\"Enter a no. \"))\n",
    "if spam == 1:\n",
    "    print(\"Hello\")\n",
    "elif spam==2:\n",
    "    print(\"Howdy\")\n",
    "else:\n",
    "    print(\"Greetings!\")"
   ]
  },
  {
   "cell_type": "markdown",
   "id": "b649819b",
   "metadata": {},
   "source": [
    "Ans 9. ctrl+c"
   ]
  },
  {
   "cell_type": "markdown",
   "id": "9959644d",
   "metadata": {},
   "source": [
    "Ans 10. \n",
    "Break - Ends the loop if condition is satisfied\n",
    "Continue - Dosen't break the loop, skips the loop when condition is satisfied"
   ]
  },
  {
   "cell_type": "markdown",
   "id": "3d5e2744",
   "metadata": {},
   "source": [
    "Ans 11. \n",
    "range(10) - range(stop)\n",
    "range(0,10) - range(start,stop)\n",
    "range(0,10,1) - range(start,stop,step)"
   ]
  },
  {
   "cell_type": "markdown",
   "id": "2d0ff845",
   "metadata": {},
   "source": [
    "Ans 12."
   ]
  },
  {
   "cell_type": "code",
   "execution_count": 10,
   "id": "3628d84e",
   "metadata": {},
   "outputs": [
    {
     "name": "stdout",
     "output_type": "stream",
     "text": [
      "1\n",
      "2\n",
      "3\n",
      "4\n",
      "5\n",
      "6\n",
      "7\n",
      "8\n",
      "9\n",
      "10\n"
     ]
    }
   ],
   "source": [
    "for i in range(1,11):\n",
    "    print(i)"
   ]
  },
  {
   "cell_type": "code",
   "execution_count": 1,
   "id": "680c7e25",
   "metadata": {},
   "outputs": [
    {
     "name": "stdout",
     "output_type": "stream",
     "text": [
      "1\n",
      "2\n",
      "3\n",
      "4\n",
      "5\n",
      "6\n",
      "7\n",
      "8\n",
      "9\n",
      "10\n"
     ]
    }
   ],
   "source": [
    "i = 1\n",
    "while(i<=10):\n",
    "    print(i)\n",
    "    i =i + 1"
   ]
  },
  {
   "cell_type": "markdown",
   "id": "371e555c",
   "metadata": {},
   "source": [
    "Ans 13.\n",
    "spam.bacon()"
   ]
  },
  {
   "cell_type": "code",
   "execution_count": null,
   "id": "5a9ce2d0",
   "metadata": {},
   "outputs": [],
   "source": []
  }
 ],
 "metadata": {
  "kernelspec": {
   "display_name": "Python 3 (ipykernel)",
   "language": "python",
   "name": "python3"
  },
  "language_info": {
   "codemirror_mode": {
    "name": "ipython",
    "version": 3
   },
   "file_extension": ".py",
   "mimetype": "text/x-python",
   "name": "python",
   "nbconvert_exporter": "python",
   "pygments_lexer": "ipython3",
   "version": "3.9.7"
  }
 },
 "nbformat": 4,
 "nbformat_minor": 5
}

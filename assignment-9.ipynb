{
 "cells": [
  {
   "cell_type": "raw",
   "id": "0e0cc248",
   "metadata": {},
   "source": [
    "Ans 1. \n",
    "The relative path is the path to some file with respect to your current working directory.\n",
    "PWD + relative path = absolute path."
   ]
  },
  {
   "cell_type": "raw",
   "id": "0194bd9d",
   "metadata": {},
   "source": [
    "Ans 2.\n",
    "Absolute path names always begin with the slash (/) symbol or C:\\ , refers to the complete details needed to locate a file or folder."
   ]
  },
  {
   "cell_type": "code",
   "execution_count": 2,
   "id": "89f6a1f3",
   "metadata": {},
   "outputs": [
    {
     "data": {
      "text/plain": [
       "'C:\\\\Users\\\\TATHAGAT\\\\ASSIGNMENTS'"
      ]
     },
     "execution_count": 2,
     "metadata": {},
     "output_type": "execute_result"
    }
   ],
   "source": [
    "pwd()"
   ]
  },
  {
   "cell_type": "raw",
   "id": "09b989ba",
   "metadata": {},
   "source": [
    "Ans 3. \n",
    "os.getcwd() tells us the current working directory.\n",
    "os.chdir() changes the current working directory to a specific path which the coder wants.\n"
   ]
  },
  {
   "cell_type": "raw",
   "id": "ddddf7b1",
   "metadata": {},
   "source": [
    "Ans 4.\n",
    "The . is the current directory, while .. signifies the parent directory."
   ]
  },
  {
   "cell_type": "raw",
   "id": "85e8a6c1",
   "metadata": {},
   "source": [
    "Ans 5.\n",
    "C:\\bacon\\eggs is the dir name, while spam.txt is the base name."
   ]
  },
  {
   "cell_type": "raw",
   "id": "20544032",
   "metadata": {},
   "source": [
    "Ans 6.\n",
    "The three \"mode\" arguments that can be passed to the open() function are r for read mode,w for write mode and a for append mode."
   ]
  },
  {
   "cell_type": "raw",
   "id": "ad36dabd",
   "metadata": {},
   "source": [
    "Ans 7.\n",
    "If an existing file is opened in write mode then all the previously written data will be erased and overwritten with empty file."
   ]
  },
  {
   "cell_type": "raw",
   "id": "2f390bdc",
   "metadata": {},
   "source": [
    "Ans 8. \n",
    "The difference between read() and readlines() is that read() will return the entire content as paragraph whereas readlines will return in the form of lines."
   ]
  },
  {
   "cell_type": "raw",
   "id": "6b00c8b7",
   "metadata": {},
   "source": [
    "Ans 9.\n",
    "A shelf value resembles a dictionary value and have same keys() and values() methords like a dictionary."
   ]
  }
 ],
 "metadata": {
  "kernelspec": {
   "display_name": "Python 3 (ipykernel)",
   "language": "python",
   "name": "python3"
  },
  "language_info": {
   "codemirror_mode": {
    "name": "ipython",
    "version": 3
   },
   "file_extension": ".py",
   "mimetype": "text/x-python",
   "name": "python",
   "nbconvert_exporter": "python",
   "pygments_lexer": "ipython3",
   "version": "3.9.7"
  }
 },
 "nbformat": 4,
 "nbformat_minor": 5
}

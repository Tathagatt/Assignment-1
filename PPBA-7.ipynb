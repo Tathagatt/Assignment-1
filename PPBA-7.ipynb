{
 "cells": [
  {
   "cell_type": "markdown",
   "id": "55d198c0",
   "metadata": {},
   "source": [
    "Ans 1."
   ]
  },
  {
   "cell_type": "code",
   "execution_count": 1,
   "id": "ce81a72f",
   "metadata": {},
   "outputs": [],
   "source": [
    "def sum_arr(x):\n",
    "    try:\n",
    "        sum=0\n",
    "        if type(x) == list:\n",
    "            for i in x:\n",
    "                sum = sum+i\n",
    "            return sum\n",
    "        else:\n",
    "            raise Exception(x)\n",
    "        \n",
    "    except Exception as e:\n",
    "        print(\"enter an array of numbers \",e)\n",
    "    \n",
    "            "
   ]
  },
  {
   "cell_type": "code",
   "execution_count": 2,
   "id": "51aca2d1",
   "metadata": {},
   "outputs": [
    {
     "data": {
      "text/plain": [
       "6"
      ]
     },
     "execution_count": 2,
     "metadata": {},
     "output_type": "execute_result"
    }
   ],
   "source": [
    "sum_arr([1,2,3])"
   ]
  },
  {
   "cell_type": "markdown",
   "id": "8c5d7646",
   "metadata": {},
   "source": [
    "Ans 2."
   ]
  },
  {
   "cell_type": "code",
   "execution_count": 3,
   "id": "937b6b6d",
   "metadata": {},
   "outputs": [],
   "source": [
    "def max_arr(x):\n",
    "    try:\n",
    "        if type(x) == list:\n",
    "            m = max(x)\n",
    "            return m\n",
    "        else:\n",
    "            raise Exception(x)\n",
    "        \n",
    "    except Exception as e:\n",
    "        print(\"enter an array of numbers \",e)\n",
    "    "
   ]
  },
  {
   "cell_type": "code",
   "execution_count": 4,
   "id": "2505e8c0",
   "metadata": {},
   "outputs": [
    {
     "data": {
      "text/plain": [
       "3"
      ]
     },
     "execution_count": 4,
     "metadata": {},
     "output_type": "execute_result"
    }
   ],
   "source": [
    "max_arr([1,2,3])"
   ]
  },
  {
   "cell_type": "markdown",
   "id": "6cb4a23e",
   "metadata": {},
   "source": [
    "Ans 3:\n",
    "    "
   ]
  },
  {
   "cell_type": "code",
   "execution_count": 5,
   "id": "c55b5a3e",
   "metadata": {},
   "outputs": [],
   "source": [
    "def rotation(arr,e):#e is the no. of elements by which rotation should happen\n",
    "    arr1=[]\n",
    "    try:\n",
    "        if type(arr)==list:\n",
    "            arr1=arr[e:len(arr)]+arr[:e]\n",
    "            return arr1\n",
    "        else:\n",
    "            raise Exception(arr)\n",
    "        \n",
    "    except Exception as e:\n",
    "        print(\"error\",e)\n",
    "    "
   ]
  },
  {
   "cell_type": "code",
   "execution_count": 6,
   "id": "adc35ab0",
   "metadata": {},
   "outputs": [
    {
     "data": {
      "text/plain": [
       "[2, 3, 4, 5, 6, 7, 1]"
      ]
     },
     "execution_count": 6,
     "metadata": {},
     "output_type": "execute_result"
    }
   ],
   "source": [
    "rotation([1, 2, 3, 4, 5, 6, 7],1)"
   ]
  },
  {
   "cell_type": "markdown",
   "id": "af6e9c1b",
   "metadata": {},
   "source": [
    "Ans 4."
   ]
  },
  {
   "cell_type": "code",
   "execution_count": 7,
   "id": "c1cfe422",
   "metadata": {},
   "outputs": [],
   "source": [
    "def split(a):#e is the no. of elements by which rotation should happen\n",
    "    arr1=[]\n",
    "    try:\n",
    "        if type(a)==list:\n",
    "            l=len(a)\n",
    "            a1=a[:int(l/2)]\n",
    "            a2=a[int(l/2):l]\n",
    "            arr1=a2+a1\n",
    "            return a1,a2,arr1\n",
    "        else:\n",
    "            raise Exception(a)\n",
    "        \n",
    "    except Exception as e:\n",
    "        print(\"error\",e)"
   ]
  },
  {
   "cell_type": "code",
   "execution_count": 8,
   "id": "a4d7ed0b",
   "metadata": {},
   "outputs": [
    {
     "data": {
      "text/plain": [
       "([1, 2, 3], [4, 5, 6, 7], [4, 5, 6, 7, 1, 2, 3])"
      ]
     },
     "execution_count": 8,
     "metadata": {},
     "output_type": "execute_result"
    }
   ],
   "source": [
    "split([1, 2, 3, 4, 5, 6, 7])"
   ]
  },
  {
   "cell_type": "markdown",
   "id": "836965ff",
   "metadata": {},
   "source": [
    "Ans 5."
   ]
  },
  {
   "cell_type": "code",
   "execution_count": 9,
   "id": "592a5ff0",
   "metadata": {},
   "outputs": [],
   "source": [
    "def monotone(ar):\n",
    "    n=len(ar)\n",
    "    if n==1:\n",
    "        return True\n",
    "    else:\n",
    "        if all(ar[i]>=ar[i+1] for i in range(0,n-1) or ar[i]<=ar[i+1] for i in range(0,n-1)):\n",
    "            return True\n",
    "        else:\n",
    "            return False\n"
   ]
  },
  {
   "cell_type": "code",
   "execution_count": 10,
   "id": "9db03dbd",
   "metadata": {},
   "outputs": [
    {
     "data": {
      "text/plain": [
       "False"
      ]
     },
     "execution_count": 10,
     "metadata": {},
     "output_type": "execute_result"
    }
   ],
   "source": [
    "monotone([5,15,20,10])"
   ]
  },
  {
   "cell_type": "code",
   "execution_count": null,
   "id": "0326e1cc",
   "metadata": {},
   "outputs": [],
   "source": []
  }
 ],
 "metadata": {
  "kernelspec": {
   "display_name": "Python 3 (ipykernel)",
   "language": "python",
   "name": "python3"
  },
  "language_info": {
   "codemirror_mode": {
    "name": "ipython",
    "version": 3
   },
   "file_extension": ".py",
   "mimetype": "text/x-python",
   "name": "python",
   "nbconvert_exporter": "python",
   "pygments_lexer": "ipython3",
   "version": "3.9.7"
  }
 },
 "nbformat": 4,
 "nbformat_minor": 5
}

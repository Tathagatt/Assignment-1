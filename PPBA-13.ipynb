{
 "cells": [
  {
   "cell_type": "markdown",
   "id": "4eea8021",
   "metadata": {},
   "source": [
    "Ans 1."
   ]
  },
  {
   "cell_type": "code",
   "execution_count": 1,
   "id": "b51e6623",
   "metadata": {},
   "outputs": [],
   "source": [
    "import math\n",
    "def ans1(d):\n",
    "    try:\n",
    "        c=50\n",
    "        h=30\n",
    "        l = []\n",
    "        for i in d:\n",
    "            q = int(math.sqrt((2*c*i)/h))\n",
    "            l.append(q)\n",
    "        return l\n",
    "    except Exception as e:\n",
    "        print(e)\n",
    "            \n",
    "            \n",
    "    "
   ]
  },
  {
   "cell_type": "code",
   "execution_count": 2,
   "id": "19b24dfb",
   "metadata": {},
   "outputs": [
    {
     "data": {
      "text/plain": [
       "[18, 22, 24]"
      ]
     },
     "execution_count": 2,
     "metadata": {},
     "output_type": "execute_result"
    }
   ],
   "source": [
    "ans1([100,150,180])"
   ]
  },
  {
   "cell_type": "markdown",
   "id": "744a3092",
   "metadata": {},
   "source": [
    "Ans 2."
   ]
  },
  {
   "cell_type": "code",
   "execution_count": 3,
   "id": "dbb9c10a",
   "metadata": {},
   "outputs": [],
   "source": [
    "def ans2(x,y):\n",
    "    l1 = [[0 for i in range(y)] for j in range(x)]\n",
    "    for i in range(x):\n",
    "        for j in range(y):\n",
    "            l1[i][j]=i*j\n",
    "    return l1"
   ]
  },
  {
   "cell_type": "code",
   "execution_count": 4,
   "id": "7b69d605",
   "metadata": {},
   "outputs": [
    {
     "data": {
      "text/plain": [
       "[[0, 0, 0, 0, 0], [0, 1, 2, 3, 4], [0, 2, 4, 6, 8]]"
      ]
     },
     "execution_count": 4,
     "metadata": {},
     "output_type": "execute_result"
    }
   ],
   "source": [
    "ans2(3,5)"
   ]
  },
  {
   "cell_type": "markdown",
   "id": "8e75c342",
   "metadata": {},
   "source": [
    "Ans 3."
   ]
  },
  {
   "cell_type": "code",
   "execution_count": 5,
   "id": "e171812e",
   "metadata": {},
   "outputs": [],
   "source": [
    "def ans3(a):\n",
    "    a = a.split(\",\")\n",
    "    l = sorted(a)\n",
    "    return l \n",
    "    \n",
    "   "
   ]
  },
  {
   "cell_type": "code",
   "execution_count": 6,
   "id": "680e7449",
   "metadata": {},
   "outputs": [
    {
     "data": {
      "text/plain": [
       "['bag', 'hello', 'without', 'world']"
      ]
     },
     "execution_count": 6,
     "metadata": {},
     "output_type": "execute_result"
    }
   ],
   "source": [
    "ans3(\"without,hello,bag,world\")"
   ]
  },
  {
   "cell_type": "markdown",
   "id": "70213835",
   "metadata": {},
   "source": [
    "Ans 4."
   ]
  },
  {
   "cell_type": "code",
   "execution_count": 7,
   "id": "a984d40f",
   "metadata": {},
   "outputs": [],
   "source": [
    "def ans4(b):\n",
    "    b1 = b.split(\" \")\n",
    "    l = set(sorted(b1))\n",
    "    return l"
   ]
  },
  {
   "cell_type": "code",
   "execution_count": 8,
   "id": "91495156",
   "metadata": {},
   "outputs": [
    {
     "data": {
      "text/plain": [
       "{'again', 'and', 'hello', 'makes', 'perfect', 'practice', 'world'}"
      ]
     },
     "execution_count": 8,
     "metadata": {},
     "output_type": "execute_result"
    }
   ],
   "source": [
    "ans4(\"hello world and practice makes perfect and hello world again\")"
   ]
  },
  {
   "cell_type": "markdown",
   "id": "cd9f5412",
   "metadata": {},
   "source": [
    "Ans 5."
   ]
  },
  {
   "cell_type": "code",
   "execution_count": 9,
   "id": "ad93e7ff",
   "metadata": {},
   "outputs": [],
   "source": [
    "def ans5(inputt):\n",
    "    letters = \"abcdefghijklmnopqrstuvwxyzABCDEFGHIJKLMNOPQRSTUVWXYZ\"\n",
    "    digits = \"1234567890\"\n",
    "    c1=0\n",
    "    c2=0\n",
    "    for i in inputt:\n",
    "        if i in letters:\n",
    "            c1 = c1+1\n",
    "        if i in digits:\n",
    "            c2 = c2 +1\n",
    "    return \"LETTERS \",c1, \"DIGITS\",c2\n",
    "            \n"
   ]
  },
  {
   "cell_type": "code",
   "execution_count": 10,
   "id": "a01a2649",
   "metadata": {},
   "outputs": [
    {
     "data": {
      "text/plain": [
       "('LETTERS ', 10, 'DIGITS', 3)"
      ]
     },
     "execution_count": 10,
     "metadata": {},
     "output_type": "execute_result"
    }
   ],
   "source": [
    "ans5(\"hello world! 123\")"
   ]
  },
  {
   "cell_type": "markdown",
   "id": "bad9c944",
   "metadata": {},
   "source": [
    "Ans 6."
   ]
  },
  {
   "cell_type": "code",
   "execution_count": 127,
   "id": "b2d8d7bd",
   "metadata": {},
   "outputs": [
    {
     "name": "stdout",
     "output_type": "stream",
     "text": [
      "Type in: ABd1234@1,a F1#,2w3E*,2We3345\n",
      "ABd1234@1\n"
     ]
    }
   ],
   "source": [
    "import re\n",
    "\n",
    "passwords = input(\"Type in: \")\n",
    "passwords = passwords.split(\",\")\n",
    "\n",
    "accepted_pass = []\n",
    "for i in passwords:\n",
    "    \n",
    "    if len(i) < 6 or len(i) > 12:\n",
    "        continue\n",
    "\n",
    "    elif not re.search(\"([a-z])+\", i):\n",
    "        continue\n",
    "\n",
    "    elif not re.search(\"([A-Z])+\", i):\n",
    "        continue\n",
    "\n",
    "    elif not re.search(\"([0-9])+\", i):\n",
    "        continue\n",
    "\n",
    "    elif not re.search(\"([!@$%^&])+\", i):\n",
    "        continue\n",
    "\n",
    "    else:\n",
    "        accepted_pass.append(i)\n",
    "\n",
    "print((\" \").join(accepted_pass))"
   ]
  },
  {
   "cell_type": "code",
   "execution_count": null,
   "id": "2d5db967",
   "metadata": {},
   "outputs": [],
   "source": []
  },
  {
   "cell_type": "code",
   "execution_count": null,
   "id": "86512629",
   "metadata": {},
   "outputs": [],
   "source": []
  }
 ],
 "metadata": {
  "kernelspec": {
   "display_name": "Python 3 (ipykernel)",
   "language": "python",
   "name": "python3"
  },
  "language_info": {
   "codemirror_mode": {
    "name": "ipython",
    "version": 3
   },
   "file_extension": ".py",
   "mimetype": "text/x-python",
   "name": "python",
   "nbconvert_exporter": "python",
   "pygments_lexer": "ipython3",
   "version": "3.9.7"
  }
 },
 "nbformat": 4,
 "nbformat_minor": 5
}

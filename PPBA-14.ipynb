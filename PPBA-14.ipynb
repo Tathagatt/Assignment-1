{
 "cells": [
  {
   "cell_type": "markdown",
   "id": "df7f6dd3",
   "metadata": {},
   "source": [
    "Ans 1."
   ]
  },
  {
   "cell_type": "code",
   "execution_count": 22,
   "id": "e610d531",
   "metadata": {},
   "outputs": [],
   "source": [
    "class seven:\n",
    "    def __init__(self,upper):\n",
    "        self.upper = upper\n",
    "    def iterator(self):\n",
    "        l=[]\n",
    "        for i in range(self.upper):\n",
    "            if (i%7)== 0:\n",
    "                l.append(i)\n",
    "        yield l\n",
    "            "
   ]
  },
  {
   "cell_type": "code",
   "execution_count": 26,
   "id": "d8b2154a",
   "metadata": {},
   "outputs": [],
   "source": [
    "s=seven(7000)"
   ]
  },
  {
   "cell_type": "code",
   "execution_count": 27,
   "id": "c5e9a473",
   "metadata": {},
   "outputs": [
    {
     "data": {
      "text/plain": [
       "<generator object seven.iterator at 0x0000019F1E5874A0>"
      ]
     },
     "execution_count": 27,
     "metadata": {},
     "output_type": "execute_result"
    }
   ],
   "source": [
    "s.iterator()"
   ]
  },
  {
   "cell_type": "markdown",
   "id": "14884f9a",
   "metadata": {},
   "source": [
    "Ans 2."
   ]
  },
  {
   "cell_type": "code",
   "execution_count": 65,
   "id": "d2761b7f",
   "metadata": {},
   "outputs": [],
   "source": [
    "def freq(s):\n",
    "    dt = {}\n",
    "    s1 = s.split(\" \")\n",
    "    c=0\n",
    "    for i in s1:\n",
    "        if i in dt:\n",
    "            dt[i] = s1.count(i)\n",
    "        else:\n",
    "            dt[i] = 1\n",
    "    return sorted(dt.items())"
   ]
  },
  {
   "cell_type": "code",
   "execution_count": 66,
   "id": "a7525f4a",
   "metadata": {},
   "outputs": [
    {
     "data": {
      "text/plain": [
       "[('2', 2),\n",
       " ('3.', 1),\n",
       " ('3?', 1),\n",
       " ('New', 1),\n",
       " ('Python', 4),\n",
       " ('Read', 1),\n",
       " ('and', 1),\n",
       " ('between', 1),\n",
       " ('choosing', 1),\n",
       " ('or', 2),\n",
       " ('python', 1),\n",
       " ('to', 1)]"
      ]
     },
     "execution_count": 66,
     "metadata": {},
     "output_type": "execute_result"
    }
   ],
   "source": [
    "freq(\"New to Python or choosing between Python 2 and Python 3? Read Python 2 or python 3.\")"
   ]
  },
  {
   "cell_type": "markdown",
   "id": "8dded9a5",
   "metadata": {},
   "source": [
    "Ans 4."
   ]
  },
  {
   "cell_type": "code",
   "execution_count": 24,
   "id": "7b4c10f9",
   "metadata": {},
   "outputs": [],
   "source": [
    "def ans4():\n",
    "    a = [\"I\",\"YOU\"]\n",
    "    b = [\"LOVE\",'PLAY']\n",
    "    c = [\"HOCKEY\",\"FOOTBALL\"]\n",
    "    d = []\n",
    "    for i in a:\n",
    "        for j in b:\n",
    "            for k in c:\n",
    "                d.append(i +\" \"+ j +\" \"+ k +\" \")\n",
    "    return d\n",
    "                "
   ]
  },
  {
   "cell_type": "code",
   "execution_count": 25,
   "id": "48c29b2b",
   "metadata": {},
   "outputs": [
    {
     "data": {
      "text/plain": [
       "['I LOVE HOCKEY ',\n",
       " 'I LOVE FOOTBALL ',\n",
       " 'I PLAY HOCKEY ',\n",
       " 'I PLAY FOOTBALL ',\n",
       " 'YOU LOVE HOCKEY ',\n",
       " 'YOU LOVE FOOTBALL ',\n",
       " 'YOU PLAY HOCKEY ',\n",
       " 'YOU PLAY FOOTBALL ']"
      ]
     },
     "execution_count": 25,
     "metadata": {},
     "output_type": "execute_result"
    }
   ],
   "source": [
    "ans4()"
   ]
  },
  {
   "cell_type": "markdown",
   "id": "d227e434",
   "metadata": {},
   "source": [
    "Ans 5."
   ]
  },
  {
   "cell_type": "code",
   "execution_count": 33,
   "id": "a67093c6",
   "metadata": {},
   "outputs": [
    {
     "name": "stdout",
     "output_type": "stream",
     "text": [
      "b'x^\\xcbH\\xcd\\xc9\\xc9W(\\xcf/\\xcaIQ\\xcc \\x82\\r\\x00\\xbd[\\x11\\xf5'\n",
      "b'hello world!hello world!hello world!hello world!'\n"
     ]
    }
   ],
   "source": [
    "import zlib\n",
    "s = 'hello world!hello world!hello world!hello world!'\n",
    "x = zlib.compress(y,2)\n",
    "print(x)\n",
    "print(zlib.decompress(x,0))"
   ]
  },
  {
   "cell_type": "markdown",
   "id": "9a58832c",
   "metadata": {},
   "source": [
    "Ans 6."
   ]
  },
  {
   "cell_type": "code",
   "execution_count": 38,
   "id": "a1e9ad1d",
   "metadata": {},
   "outputs": [],
   "source": [
    "def bin_search(lis, y):\n",
    "    lis1 = sorted(lis)\n",
    "    for i in range(len(lis1)):\n",
    "        if lis1[i] == y:\n",
    "            return i+1   "
   ]
  },
  {
   "cell_type": "code",
   "execution_count": 40,
   "id": "07667d30",
   "metadata": {},
   "outputs": [
    {
     "data": {
      "text/plain": [
       "4"
      ]
     },
     "execution_count": 40,
     "metadata": {},
     "output_type": "execute_result"
    }
   ],
   "source": [
    "bin_search([1,2,3,4,5,4,6,7,8],4)"
   ]
  }
 ],
 "metadata": {
  "kernelspec": {
   "display_name": "Python 3 (ipykernel)",
   "language": "python",
   "name": "python3"
  },
  "language_info": {
   "codemirror_mode": {
    "name": "ipython",
    "version": 3
   },
   "file_extension": ".py",
   "mimetype": "text/x-python",
   "name": "python",
   "nbconvert_exporter": "python",
   "pygments_lexer": "ipython3",
   "version": "3.9.7"
  }
 },
 "nbformat": 4,
 "nbformat_minor": 5
}

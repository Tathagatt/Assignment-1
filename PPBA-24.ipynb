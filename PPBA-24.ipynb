{
 "cells": [
  {
   "cell_type": "markdown",
   "id": "ac0d896e",
   "metadata": {},
   "source": [
    "Ans 1."
   ]
  },
  {
   "cell_type": "code",
   "execution_count": 1,
   "id": "fe0a08b0",
   "metadata": {},
   "outputs": [],
   "source": [
    "def amplify(n):\n",
    "    try:\n",
    "        lst = []\n",
    "        if n>=1:\n",
    "            for i in range(1,n+1):\n",
    "                if i%4==0:\n",
    "                    i = i*10\n",
    "                lst.append(i)        \n",
    "        else:\n",
    "            raise Exception(\"Enter positive integers greater than 1\")\n",
    "    except Exception as e:\n",
    "        print(e)\n",
    "    else:\n",
    "        return lst\n",
    "        \n",
    "        \n",
    "            "
   ]
  },
  {
   "cell_type": "code",
   "execution_count": 2,
   "id": "dbe13d19",
   "metadata": {},
   "outputs": [
    {
     "data": {
      "text/plain": [
       "[1, 2, 3, 40]"
      ]
     },
     "execution_count": 2,
     "metadata": {},
     "output_type": "execute_result"
    }
   ],
   "source": [
    "amplify(4)"
   ]
  },
  {
   "cell_type": "code",
   "execution_count": 3,
   "id": "a9dc3b8e",
   "metadata": {},
   "outputs": [
    {
     "data": {
      "text/plain": [
       "[1, 2, 3]"
      ]
     },
     "execution_count": 3,
     "metadata": {},
     "output_type": "execute_result"
    }
   ],
   "source": [
    "amplify(3)"
   ]
  },
  {
   "cell_type": "code",
   "execution_count": 4,
   "id": "21be3185",
   "metadata": {},
   "outputs": [
    {
     "data": {
      "text/plain": [
       "[1,\n",
       " 2,\n",
       " 3,\n",
       " 40,\n",
       " 5,\n",
       " 6,\n",
       " 7,\n",
       " 80,\n",
       " 9,\n",
       " 10,\n",
       " 11,\n",
       " 120,\n",
       " 13,\n",
       " 14,\n",
       " 15,\n",
       " 160,\n",
       " 17,\n",
       " 18,\n",
       " 19,\n",
       " 200,\n",
       " 21,\n",
       " 22,\n",
       " 23,\n",
       " 240,\n",
       " 25]"
      ]
     },
     "execution_count": 4,
     "metadata": {},
     "output_type": "execute_result"
    }
   ],
   "source": [
    "amplify(25)"
   ]
  },
  {
   "cell_type": "markdown",
   "id": "d71d5ef1",
   "metadata": {},
   "source": [
    "Ans 2."
   ]
  },
  {
   "cell_type": "code",
   "execution_count": 5,
   "id": "4969ac38",
   "metadata": {},
   "outputs": [],
   "source": [
    "def unique(arr):\n",
    "    dict={}\n",
    "    for i in range(len(arr)):\n",
    "        if arr[i] not in dict:\n",
    "            dict[arr[i]]=0\n",
    "        dict[arr[i]]+=1\n",
    "    for j in dict:\n",
    "        if (dict[j]== 1):\n",
    "            print(j,end=\" \")\n",
    "        \n",
    "            \n",
    "                   "
   ]
  },
  {
   "cell_type": "code",
   "execution_count": 6,
   "id": "8e7501d6",
   "metadata": {},
   "outputs": [
    {
     "name": "stdout",
     "output_type": "stream",
     "text": [
      "7 "
     ]
    }
   ],
   "source": [
    "unique([3, 3, 3, 7, 3, 3])"
   ]
  },
  {
   "cell_type": "code",
   "execution_count": 7,
   "id": "9956c8dc",
   "metadata": {},
   "outputs": [],
   "source": [
    "unique([0, 0, 0.77, 0, 0,0,0.77])"
   ]
  },
  {
   "cell_type": "code",
   "execution_count": 8,
   "id": "642716fc",
   "metadata": {},
   "outputs": [
    {
     "name": "stdout",
     "output_type": "stream",
     "text": [
      "0 "
     ]
    }
   ],
   "source": [
    "unique([0, 1, 1, 1, 1, 1, 1, 1])"
   ]
  },
  {
   "cell_type": "markdown",
   "id": "2dee0ee1",
   "metadata": {},
   "source": [
    "Ans 3."
   ]
  },
  {
   "cell_type": "code",
   "execution_count": 9,
   "id": "04f012e9",
   "metadata": {},
   "outputs": [],
   "source": [
    "class Circle():\n",
    "    def __init__(self,r):\n",
    "        self.radius=r\n",
    "    def getarea(self):\n",
    "        area = 3.14*self.radius*self.radius\n",
    "        return round(area)\n",
    "    def getperimeter(self):\n",
    "        peri=2*3.14*self.radius\n",
    "        return round(peri)"
   ]
  },
  {
   "cell_type": "code",
   "execution_count": 10,
   "id": "fb9fdcfd",
   "metadata": {},
   "outputs": [],
   "source": [
    "circy=Circle(11)"
   ]
  },
  {
   "cell_type": "code",
   "execution_count": 11,
   "id": "172c4bb7",
   "metadata": {},
   "outputs": [
    {
     "data": {
      "text/plain": [
       "380"
      ]
     },
     "execution_count": 11,
     "metadata": {},
     "output_type": "execute_result"
    }
   ],
   "source": [
    "circy.getarea()"
   ]
  },
  {
   "cell_type": "code",
   "execution_count": 12,
   "id": "2a10b455",
   "metadata": {},
   "outputs": [],
   "source": [
    "circy=Circle(4.44)"
   ]
  },
  {
   "cell_type": "code",
   "execution_count": 13,
   "id": "caff7357",
   "metadata": {},
   "outputs": [
    {
     "data": {
      "text/plain": [
       "28"
      ]
     },
     "execution_count": 13,
     "metadata": {},
     "output_type": "execute_result"
    }
   ],
   "source": [
    "circy.getperimeter()"
   ]
  },
  {
   "cell_type": "markdown",
   "id": "d2a76e4e",
   "metadata": {},
   "source": [
    "Ans 4."
   ]
  },
  {
   "cell_type": "code",
   "execution_count": 14,
   "id": "2cb382c6",
   "metadata": {},
   "outputs": [],
   "source": [
    "def sort_by_length(arr):\n",
    "    dict={}\n",
    "    lst=[]\n",
    "    for i in arr:\n",
    "        dict[len(i)]=i\n",
    "    d=sorted(dict.keys())\n",
    "    for i in range(len(d)):\n",
    "            lst.append(dict[d[i]])\n",
    "    return lst"
   ]
  },
  {
   "cell_type": "code",
   "execution_count": 15,
   "id": "fba6dede",
   "metadata": {},
   "outputs": [
    {
     "data": {
      "text/plain": [
       "['Apple', 'Google', 'Microsoft']"
      ]
     },
     "execution_count": 15,
     "metadata": {},
     "output_type": "execute_result"
    }
   ],
   "source": [
    "sort_by_length([\"Google\",\"Apple\",\"Microsoft\"])"
   ]
  },
  {
   "cell_type": "code",
   "execution_count": 16,
   "id": "d6b6000e",
   "metadata": {},
   "outputs": [
    {
     "data": {
      "text/plain": [
       "['Raphael', 'Leonardo', 'Donatello', 'Michelangelo']"
      ]
     },
     "execution_count": 16,
     "metadata": {},
     "output_type": "execute_result"
    }
   ],
   "source": [
    "sort_by_length([\"Leonardo\", \"Michelangelo\", \"Raphael\", \"Donatello\"])"
   ]
  },
  {
   "cell_type": "code",
   "execution_count": 17,
   "id": "42066349",
   "metadata": {},
   "outputs": [
    {
     "data": {
      "text/plain": [
       "['Jung', 'Turing', 'Einstein']"
      ]
     },
     "execution_count": 17,
     "metadata": {},
     "output_type": "execute_result"
    }
   ],
   "source": [
    "sort_by_length([\"Turing\", \"Einstein\", \"Jung\"])"
   ]
  },
  {
   "cell_type": "markdown",
   "id": "11fdfc30",
   "metadata": {},
   "source": [
    "Ans 5."
   ]
  },
  {
   "cell_type": "code",
   "execution_count": 18,
   "id": "087ef946",
   "metadata": {},
   "outputs": [],
   "source": [
    "def is_triplet(x,y,z):\n",
    "    lst=[x,y,z]\n",
    "    arr = sorted(lst)\n",
    "    if ((arr[0])**2 + (arr[1])**2 == (arr[2])**2):\n",
    "        return True\n",
    "    else:\n",
    "        return False\n",
    "    "
   ]
  },
  {
   "cell_type": "code",
   "execution_count": 19,
   "id": "a7c62dc8",
   "metadata": {},
   "outputs": [
    {
     "data": {
      "text/plain": [
       "True"
      ]
     },
     "execution_count": 19,
     "metadata": {},
     "output_type": "execute_result"
    }
   ],
   "source": [
    "is_triplet(3,4,5)"
   ]
  },
  {
   "cell_type": "code",
   "execution_count": 20,
   "id": "c09bb4a3",
   "metadata": {},
   "outputs": [
    {
     "data": {
      "text/plain": [
       "True"
      ]
     },
     "execution_count": 20,
     "metadata": {},
     "output_type": "execute_result"
    }
   ],
   "source": [
    "is_triplet(13, 5, 12)"
   ]
  },
  {
   "cell_type": "code",
   "execution_count": 21,
   "id": "a873516e",
   "metadata": {},
   "outputs": [
    {
     "data": {
      "text/plain": [
       "False"
      ]
     },
     "execution_count": 21,
     "metadata": {},
     "output_type": "execute_result"
    }
   ],
   "source": [
    "is_triplet(1, 2, 3)"
   ]
  },
  {
   "cell_type": "code",
   "execution_count": null,
   "id": "aa2a5b5a",
   "metadata": {},
   "outputs": [],
   "source": []
  }
 ],
 "metadata": {
  "kernelspec": {
   "display_name": "Python 3 (ipykernel)",
   "language": "python",
   "name": "python3"
  },
  "language_info": {
   "codemirror_mode": {
    "name": "ipython",
    "version": 3
   },
   "file_extension": ".py",
   "mimetype": "text/x-python",
   "name": "python",
   "nbconvert_exporter": "python",
   "pygments_lexer": "ipython3",
   "version": "3.9.7"
  }
 },
 "nbformat": 4,
 "nbformat_minor": 5
}

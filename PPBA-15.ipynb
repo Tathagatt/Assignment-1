{
 "cells": [
  {
   "cell_type": "markdown",
   "id": "ba9e4550",
   "metadata": {},
   "source": [
    "Ans 1."
   ]
  },
  {
   "cell_type": "code",
   "execution_count": 1,
   "id": "343c067b",
   "metadata": {},
   "outputs": [],
   "source": [
    "def ans1(upper):\n",
    "    l=[]\n",
    "    for i in range(upper):\n",
    "        if (i%5)== 0 and (i%7)== 0  :\n",
    "            l.append(i)\n",
    "    yield l"
   ]
  },
  {
   "cell_type": "code",
   "execution_count": 2,
   "id": "38f19f52",
   "metadata": {},
   "outputs": [
    {
     "data": {
      "text/plain": [
       "<generator object ans1 at 0x00000195FEA1A270>"
      ]
     },
     "execution_count": 2,
     "metadata": {},
     "output_type": "execute_result"
    }
   ],
   "source": [
    "ans1(100)"
   ]
  },
  {
   "cell_type": "code",
   "execution_count": 3,
   "id": "c41f0470",
   "metadata": {},
   "outputs": [
    {
     "data": {
      "text/plain": [
       "[[0, 35, 70]]"
      ]
     },
     "execution_count": 3,
     "metadata": {},
     "output_type": "execute_result"
    }
   ],
   "source": [
    "list(ans1(100))"
   ]
  },
  {
   "cell_type": "markdown",
   "id": "4e12a22e",
   "metadata": {},
   "source": [
    "Ans 2."
   ]
  },
  {
   "cell_type": "code",
   "execution_count": 4,
   "id": "15c8aad0",
   "metadata": {},
   "outputs": [],
   "source": [
    "def ans2(upper1):\n",
    "    l=[]\n",
    "    for i in range(upper1):\n",
    "        if (i%2)== 0 :\n",
    "            l.append(i)\n",
    "    yield l"
   ]
  },
  {
   "cell_type": "code",
   "execution_count": 5,
   "id": "558cd064",
   "metadata": {},
   "outputs": [
    {
     "data": {
      "text/plain": [
       "<generator object ans2 at 0x00000195FEA1A430>"
      ]
     },
     "execution_count": 5,
     "metadata": {},
     "output_type": "execute_result"
    }
   ],
   "source": [
    "ans2(10)"
   ]
  },
  {
   "cell_type": "code",
   "execution_count": 6,
   "id": "39b7875d",
   "metadata": {},
   "outputs": [
    {
     "data": {
      "text/plain": [
       "[[0, 2, 4, 6, 8]]"
      ]
     },
     "execution_count": 6,
     "metadata": {},
     "output_type": "execute_result"
    }
   ],
   "source": [
    "list(ans2(10))"
   ]
  },
  {
   "cell_type": "markdown",
   "id": "50e61f65",
   "metadata": {},
   "source": [
    "Ans 3."
   ]
  },
  {
   "cell_type": "code",
   "execution_count": 7,
   "id": "0d13511a",
   "metadata": {},
   "outputs": [],
   "source": [
    "def fibo(n):\n",
    "    l = [0,1]\n",
    "    n1 = 1\n",
    "    for i in range(2,n+1):\n",
    "        n1 = l[i-1] + l[i-2]\n",
    "        l.append(n1)\n",
    "    return l\n",
    "    "
   ]
  },
  {
   "cell_type": "code",
   "execution_count": 8,
   "id": "afd57d19",
   "metadata": {},
   "outputs": [
    {
     "data": {
      "text/plain": [
       "[0, 1, 1, 2, 3, 5, 8, 13]"
      ]
     },
     "execution_count": 8,
     "metadata": {},
     "output_type": "execute_result"
    }
   ],
   "source": [
    "fibo(7)"
   ]
  },
  {
   "cell_type": "markdown",
   "id": "15e0dde3",
   "metadata": {},
   "source": [
    "Ans 4."
   ]
  },
  {
   "cell_type": "code",
   "execution_count": 9,
   "id": "e4027d56",
   "metadata": {},
   "outputs": [],
   "source": [
    "def user(un):\n",
    "    s = \"\"\n",
    "    for i in range(len(un)):\n",
    "        if un[i] == \"@\":\n",
    "            s = s + un[:i]\n",
    "    return s\n",
    "            \n",
    "    "
   ]
  },
  {
   "cell_type": "code",
   "execution_count": 10,
   "id": "5aae3910",
   "metadata": {},
   "outputs": [
    {
     "data": {
      "text/plain": [
       "'john'"
      ]
     },
     "execution_count": 10,
     "metadata": {},
     "output_type": "execute_result"
    }
   ],
   "source": [
    "user(\"john@google.com\")"
   ]
  },
  {
   "cell_type": "markdown",
   "id": "ca2bbd02",
   "metadata": {},
   "source": [
    "Ans 5."
   ]
  },
  {
   "cell_type": "code",
   "execution_count": 11,
   "id": "64bb8b60",
   "metadata": {},
   "outputs": [],
   "source": [
    "class square:\n",
    "    def __init__(self,l):\n",
    "        self.length = l\n",
    "    def area(self):\n",
    "        a = self.length*self.length\n",
    "        return a\n",
    "    \n",
    "class shape(square):\n",
    "    def area(self):\n",
    "        b = self.length*self.length\n",
    "        return b"
   ]
  },
  {
   "cell_type": "code",
   "execution_count": 12,
   "id": "1c370945",
   "metadata": {},
   "outputs": [],
   "source": [
    "square1 = square(9)"
   ]
  },
  {
   "cell_type": "code",
   "execution_count": 13,
   "id": "a73a064c",
   "metadata": {},
   "outputs": [
    {
     "data": {
      "text/plain": [
       "81"
      ]
     },
     "execution_count": 13,
     "metadata": {},
     "output_type": "execute_result"
    }
   ],
   "source": [
    "square1.area()"
   ]
  },
  {
   "cell_type": "code",
   "execution_count": 16,
   "id": "74201975",
   "metadata": {},
   "outputs": [],
   "source": [
    "square2 = shape(9)"
   ]
  },
  {
   "cell_type": "code",
   "execution_count": 17,
   "id": "0c2f1d24",
   "metadata": {},
   "outputs": [
    {
     "data": {
      "text/plain": [
       "81"
      ]
     },
     "execution_count": 17,
     "metadata": {},
     "output_type": "execute_result"
    }
   ],
   "source": [
    "square2.area() "
   ]
  },
  {
   "cell_type": "code",
   "execution_count": null,
   "id": "4744b526",
   "metadata": {},
   "outputs": [],
   "source": []
  }
 ],
 "metadata": {
  "kernelspec": {
   "display_name": "Python 3 (ipykernel)",
   "language": "python",
   "name": "python3"
  },
  "language_info": {
   "codemirror_mode": {
    "name": "ipython",
    "version": 3
   },
   "file_extension": ".py",
   "mimetype": "text/x-python",
   "name": "python",
   "nbconvert_exporter": "python",
   "pygments_lexer": "ipython3",
   "version": "3.9.7"
  }
 },
 "nbformat": 4,
 "nbformat_minor": 5
}

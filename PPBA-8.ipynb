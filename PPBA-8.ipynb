{
 "cells": [
  {
   "cell_type": "markdown",
   "id": "430acd98",
   "metadata": {},
   "source": [
    "Ans 1."
   ]
  },
  {
   "cell_type": "code",
   "execution_count": 1,
   "id": "75bc48a9",
   "metadata": {},
   "outputs": [],
   "source": [
    "def mat_sum(matrix1,matrix2):\n",
    "    matrixsum = []\n",
    "    for row in range(len(matrix1)):\n",
    "        matrixsum.append([])\n",
    "        for column in range(len(matrix1[row])):\n",
    "            matrixsum[row].append(matrix1[row][column] + matrix2[row][column] ) \n",
    "    return matrixsum"
   ]
  },
  {
   "cell_type": "code",
   "execution_count": 2,
   "id": "084d1814",
   "metadata": {},
   "outputs": [
    {
     "data": {
      "text/plain": [
       "[[5, 7, 5, 7], [7, 8, 7], [9, 8]]"
      ]
     },
     "execution_count": 2,
     "metadata": {},
     "output_type": "execute_result"
    }
   ],
   "source": [
    "mat_sum([[1,1,1,1], [2,2,2], [3,3]],\n",
    "[[4,6,4,6], [5,6,5], [6,5]])"
   ]
  },
  {
   "cell_type": "markdown",
   "id": "a63ee144",
   "metadata": {},
   "source": [
    "Ans 2"
   ]
  },
  {
   "cell_type": "code",
   "execution_count": 3,
   "id": "f2c04f37",
   "metadata": {},
   "outputs": [],
   "source": [
    "def mat_mul(matrix1,matrix2):\n",
    "    matrixmul = []\n",
    "    for row in range(len(matrix1)):\n",
    "        matrixmul.append([])\n",
    "        for column in range(len(matrix1[row])):\n",
    "            matrixmul[row].append(matrix1[row][column] * matrix2[row][column] ) \n",
    "    return matrixmul"
   ]
  },
  {
   "cell_type": "code",
   "execution_count": 4,
   "id": "61208249",
   "metadata": {},
   "outputs": [
    {
     "data": {
      "text/plain": [
       "[[4, 6, 4, 6], [10, 12, 10], [18, 15]]"
      ]
     },
     "execution_count": 4,
     "metadata": {},
     "output_type": "execute_result"
    }
   ],
   "source": [
    "mat_mul([[1,1,1,1], [2,2,2], [3,3]],\n",
    "[[4,6,4,6], [5,6,5], [6,5]])"
   ]
  },
  {
   "cell_type": "markdown",
   "id": "f262f1e2",
   "metadata": {},
   "source": [
    "Ans 3."
   ]
  },
  {
   "cell_type": "code",
   "execution_count": 5,
   "id": "9603fade",
   "metadata": {},
   "outputs": [],
   "source": [
    "def mat_T(matrix):\n",
    "    result = [[matrix[j][i] for j in range(len(matrix))] for i in range(len(matrix[0]))]\n",
    "    return result "
   ]
  },
  {
   "cell_type": "code",
   "execution_count": 6,
   "id": "46c8102d",
   "metadata": {},
   "outputs": [
    {
     "data": {
      "text/plain": [
       "[[12, 4, 3], [7, 5, 8]]"
      ]
     },
     "execution_count": 6,
     "metadata": {},
     "output_type": "execute_result"
    }
   ],
   "source": [
    "mat_T([[12,7],\n",
    "    [4 ,5],\n",
    "    [3 ,8]])"
   ]
  },
  {
   "cell_type": "markdown",
   "id": "9796ee9e",
   "metadata": {},
   "source": [
    "Ans 4."
   ]
  },
  {
   "cell_type": "code",
   "execution_count": 7,
   "id": "0784e50f",
   "metadata": {},
   "outputs": [],
   "source": [
    "def sort(string):\n",
    "    s=string.lower().split()\n",
    "    s.sort()\n",
    "    return s"
   ]
  },
  {
   "cell_type": "code",
   "execution_count": 8,
   "id": "951aac3b",
   "metadata": {},
   "outputs": [
    {
     "data": {
      "text/plain": [
       "['an', 'cased', 'example', 'hello', 'is', 'letters', 'this', 'with']"
      ]
     },
     "execution_count": 8,
     "metadata": {},
     "output_type": "execute_result"
    }
   ],
   "source": [
    "sort(\"Hello this Is an Example With cased letters\")"
   ]
  },
  {
   "cell_type": "markdown",
   "id": "98c5e7b8",
   "metadata": {},
   "source": [
    "Ans 5."
   ]
  },
  {
   "cell_type": "code",
   "execution_count": 9,
   "id": "b4d9871e",
   "metadata": {},
   "outputs": [],
   "source": [
    "def prep_removal(my_str):\n",
    "    no_punct = \"\"\n",
    "    punctuations = '''!()-[]{};:'\"\\,<>./?@#$%^&*_~'''\n",
    "    for i in my_str:\n",
    "        if i not in punctuations:\n",
    "            no_punct = no_punct + i\n",
    "    return no_punct\n"
   ]
  },
  {
   "cell_type": "code",
   "execution_count": 10,
   "id": "bc30302a",
   "metadata": {},
   "outputs": [
    {
     "data": {
      "text/plain": [
       "'Hello he said and went'"
      ]
     },
     "execution_count": 10,
     "metadata": {},
     "output_type": "execute_result"
    }
   ],
   "source": [
    "prep_removal(my_str = \"Hello!!!, he said ---and went.\")"
   ]
  },
  {
   "cell_type": "code",
   "execution_count": null,
   "id": "24d5f0cc",
   "metadata": {},
   "outputs": [],
   "source": []
  }
 ],
 "metadata": {
  "kernelspec": {
   "display_name": "Python 3 (ipykernel)",
   "language": "python",
   "name": "python3"
  },
  "language_info": {
   "codemirror_mode": {
    "name": "ipython",
    "version": 3
   },
   "file_extension": ".py",
   "mimetype": "text/x-python",
   "name": "python",
   "nbconvert_exporter": "python",
   "pygments_lexer": "ipython3",
   "version": "3.9.7"
  }
 },
 "nbformat": 4,
 "nbformat_minor": 5
}

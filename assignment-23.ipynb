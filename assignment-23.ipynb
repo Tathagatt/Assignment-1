{
 "cells": [
  {
   "cell_type": "raw",
   "id": "ba83310d",
   "metadata": {},
   "source": [
    "Ans 1. \n",
    "1,2,8 as the value of a is initialised as 1 while calling, b is overwritten when called and c is 8 given in function."
   ]
  },
  {
   "cell_type": "code",
   "execution_count": 1,
   "id": "47cea8af",
   "metadata": {},
   "outputs": [
    {
     "name": "stdout",
     "output_type": "stream",
     "text": [
      "1 2 8\n"
     ]
    }
   ],
   "source": [
    "def func(a, b=6, c=8):\n",
    "    print(a, b, c)\n",
    "func(1, 2)"
   ]
  },
  {
   "cell_type": "raw",
   "id": "2c1f1532",
   "metadata": {},
   "source": [
    "Ans 2.\n",
    "1,2,3 as a,b are initialised as 1 and 2 while calling and c is overwritten when called. "
   ]
  },
  {
   "cell_type": "code",
   "execution_count": 4,
   "id": "d7e74c54",
   "metadata": {},
   "outputs": [
    {
     "name": "stdout",
     "output_type": "stream",
     "text": [
      "1 2 3\n"
     ]
    }
   ],
   "source": [
    "def func(a, b, c=5):\n",
    "    print(a, b, c)\n",
    "func(1, c=3, b=2)"
   ]
  },
  {
   "cell_type": "raw",
   "id": "39bd0a7e",
   "metadata": {},
   "source": [
    "Ans 3.\n",
    "a is initialised as 1 while calling and by using *pargs we can pass multiple data set without creating that many of variable inside the function and *pargs returns the values as tuple."
   ]
  },
  {
   "cell_type": "code",
   "execution_count": 6,
   "id": "c2dfcb5d",
   "metadata": {},
   "outputs": [
    {
     "name": "stdout",
     "output_type": "stream",
     "text": [
      "1 (2, 3)\n"
     ]
    }
   ],
   "source": [
    "def func(a, *pargs):\n",
    "    print(a, pargs)\n",
    "func(1, 2, 3)"
   ]
  },
  {
   "cell_type": "raw",
   "id": "f4452a4d",
   "metadata": {},
   "source": [
    "Ans 4.\n",
    "a is initialised as 1 while calling and by using **kwargs any no. of variable can be passed but only in key value pair."
   ]
  },
  {
   "cell_type": "code",
   "execution_count": 7,
   "id": "bafd0a0b",
   "metadata": {},
   "outputs": [
    {
     "name": "stdout",
     "output_type": "stream",
     "text": [
      "1 {'c': 3, 'b': 2}\n"
     ]
    }
   ],
   "source": [
    "def func(a, **kargs):\n",
    "    print(a, kargs)\n",
    "func(a=1, c=3, b=2)"
   ]
  },
  {
   "cell_type": "raw",
   "id": "3af50596",
   "metadata": {},
   "source": [
    "Ans 5.\n",
    "a is initialised as 1 while calling, d is initialised in function itself where as *(5,6) is the value initialsed to a and c while calling."
   ]
  },
  {
   "cell_type": "code",
   "execution_count": 19,
   "id": "599e2f8c",
   "metadata": {},
   "outputs": [
    {
     "name": "stdout",
     "output_type": "stream",
     "text": [
      "1 5 6 5\n"
     ]
    }
   ],
   "source": [
    "def func(a, b, c=8, d=5):\n",
    "    print(a, b, c, d)\n",
    "func(1, *(5, 6))"
   ]
  },
  {
   "cell_type": "raw",
   "id": "966ba4b9",
   "metadata": {},
   "source": [
    "Ans 6.\n",
    "No return in the function body so no output i.e Nonetype output.\n",
    "\n"
   ]
  },
  {
   "cell_type": "code",
   "execution_count": 34,
   "id": "d6052ff0",
   "metadata": {},
   "outputs": [],
   "source": [
    "def func(a, b, c): \n",
    "    a = 2; b[0] = 'x'; c['a'] = 'y'\n",
    "    \n",
    "l=1; m=[1]; n={'a':0}#without return"
   ]
  },
  {
   "cell_type": "code",
   "execution_count": 35,
   "id": "e4bd488f",
   "metadata": {},
   "outputs": [],
   "source": [
    "func(l,m,n)"
   ]
  },
  {
   "cell_type": "code",
   "execution_count": 37,
   "id": "6fd2e098",
   "metadata": {},
   "outputs": [],
   "source": [
    "def func1(a, b, c): \n",
    "    a = 2; b[0] = 'x'; c['a'] = 'y'\n",
    "    return a,b,c#with return\n",
    "l=1; m=[1]; n={'a':0}"
   ]
  },
  {
   "cell_type": "code",
   "execution_count": 38,
   "id": "8e0c8c3d",
   "metadata": {},
   "outputs": [
    {
     "data": {
      "text/plain": [
       "(2, ['x'], {'a': 'y'})"
      ]
     },
     "execution_count": 38,
     "metadata": {},
     "output_type": "execute_result"
    }
   ],
   "source": [
    "func1(l,m,n)"
   ]
  },
  {
   "cell_type": "code",
   "execution_count": null,
   "id": "b4ce5d31",
   "metadata": {},
   "outputs": [],
   "source": []
  }
 ],
 "metadata": {
  "kernelspec": {
   "display_name": "Python 3 (ipykernel)",
   "language": "python",
   "name": "python3"
  },
  "language_info": {
   "codemirror_mode": {
    "name": "ipython",
    "version": 3
   },
   "file_extension": ".py",
   "mimetype": "text/x-python",
   "name": "python",
   "nbconvert_exporter": "python",
   "pygments_lexer": "ipython3",
   "version": "3.9.7"
  }
 },
 "nbformat": 4,
 "nbformat_minor": 5
}

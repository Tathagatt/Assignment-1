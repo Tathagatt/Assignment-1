{
 "cells": [
  {
   "cell_type": "raw",
   "id": "4e6c7772",
   "metadata": {},
   "source": [
    "Ans 1. The main advantage to have a function in the program is that it increases the reusability of the program and the coder need not to write the particular program again and again, just call the function."
   ]
  },
  {
   "cell_type": "raw",
   "id": "6669a356",
   "metadata": {},
   "source": [
    "Ans 2. The code inside the function is executed when the funcion is called."
   ]
  },
  {
   "cell_type": "raw",
   "id": "86ededc2",
   "metadata": {},
   "source": [
    "Ans 3. The keyword \"def\" is used to create a function"
   ]
  },
  {
   "cell_type": "raw",
   "id": "2075a5ed",
   "metadata": {},
   "source": [
    "Ans 4. A function is procedure to achieve a particular result while function call is using this function to achive that task.\n",
    "no use for a function unless it is called"
   ]
  },
  {
   "cell_type": "raw",
   "id": "391401c3",
   "metadata": {},
   "source": [
    "Ans 5. There's only one global Python scope per program execution. This scope remains in existence until the program terminates and all its names are forgotten. Otherwise, the next time you were to run the program, the names would remember their values from the previous run."
   ]
  },
  {
   "cell_type": "raw",
   "id": "49c6095b",
   "metadata": {},
   "source": [
    "This Python local scope contains the names that you define inside the function. These names will only be visible from the code of the function"
   ]
  },
  {
   "cell_type": "code",
   "execution_count": 19,
   "id": "83e21772",
   "metadata": {},
   "outputs": [],
   "source": [
    "a=1 #global\n",
    "def fun():\n",
    "    b=7 #local\n",
    "    a=b+7\n",
    "    print(a,b)\n",
    "    "
   ]
  },
  {
   "cell_type": "code",
   "execution_count": 18,
   "id": "0cfe6f3b",
   "metadata": {},
   "outputs": [
    {
     "name": "stdout",
     "output_type": "stream",
     "text": [
      "1 7\n"
     ]
    }
   ],
   "source": [
    "fun()"
   ]
  },
  {
   "cell_type": "code",
   "execution_count": 5,
   "id": "ceb885dc",
   "metadata": {},
   "outputs": [
    {
     "data": {
      "text/plain": [
       "1"
      ]
     },
     "execution_count": 5,
     "metadata": {},
     "output_type": "execute_result"
    }
   ],
   "source": [
    "a #not equal to 14 as a is a globle scope so a=1 is the output not the local one"
   ]
  },
  {
   "cell_type": "code",
   "execution_count": 7,
   "id": "e79d516e",
   "metadata": {},
   "outputs": [
    {
     "name": "stdout",
     "output_type": "stream",
     "text": [
      "local scope\n"
     ]
    }
   ],
   "source": [
    "try:\n",
    "    b\n",
    "except Exception as e:\n",
    "    print(\"local scope\")"
   ]
  },
  {
   "cell_type": "raw",
   "id": "14a4ca5e",
   "metadata": {},
   "source": [
    "Ans 6. When the execution of the function returns, the local variables are destroyed i.e the life of the local scope is untill the function is executed and exited."
   ]
  },
  {
   "cell_type": "raw",
   "id": "546e2006",
   "metadata": {},
   "source": [
    "Ans 7. A return is a value that a function shows when it completes its task.\n",
    "Yes, it is possible to have a return value in an expression"
   ]
  },
  {
   "cell_type": "code",
   "execution_count": 8,
   "id": "dea92aaf",
   "metadata": {},
   "outputs": [],
   "source": [
    "def fun1():\n",
    "    a=1\n",
    "    b=2\n",
    "    return a+b"
   ]
  },
  {
   "cell_type": "code",
   "execution_count": 9,
   "id": "7612750b",
   "metadata": {},
   "outputs": [
    {
     "data": {
      "text/plain": [
       "3"
      ]
     },
     "execution_count": 9,
     "metadata": {},
     "output_type": "execute_result"
    }
   ],
   "source": [
    "fun1()"
   ]
  },
  {
   "cell_type": "raw",
   "id": "2e3dc4f7",
   "metadata": {},
   "source": [
    "Ans 8. it returns none when return is not there in the function"
   ]
  },
  {
   "cell_type": "code",
   "execution_count": 10,
   "id": "8301aa05",
   "metadata": {},
   "outputs": [],
   "source": [
    "def fun2():\n",
    "    a=1\n",
    "    b=2\n",
    "    "
   ]
  },
  {
   "cell_type": "code",
   "execution_count": 12,
   "id": "706e1a0c",
   "metadata": {},
   "outputs": [
    {
     "data": {
      "text/plain": [
       "NoneType"
      ]
     },
     "execution_count": 12,
     "metadata": {},
     "output_type": "execute_result"
    }
   ],
   "source": [
    "type(fun2())"
   ]
  },
  {
   "cell_type": "raw",
   "id": "5defe952",
   "metadata": {},
   "source": [
    "Ans 9. Use the keyword global to declare the variable global"
   ]
  },
  {
   "cell_type": "raw",
   "id": "3dcfcfce",
   "metadata": {},
   "source": [
    "Ans 10. Datatype of None is NoneType"
   ]
  },
  {
   "cell_type": "code",
   "execution_count": 20,
   "id": "a5871695",
   "metadata": {},
   "outputs": [
    {
     "data": {
      "text/plain": [
       "NoneType"
      ]
     },
     "execution_count": 20,
     "metadata": {},
     "output_type": "execute_result"
    }
   ],
   "source": [
    "type(None)"
   ]
  },
  {
   "cell_type": "raw",
   "id": "37c9c647",
   "metadata": {},
   "source": [
    "Ans 11. This import sentence imports a module named areallyourpetsnamederic."
   ]
  },
  {
   "cell_type": "raw",
   "id": "3248af1a",
   "metadata": {},
   "source": [
    "Ans 12. spam.bacon()"
   ]
  },
  {
   "cell_type": "raw",
   "id": "0424e779",
   "metadata": {},
   "source": [
    "Ans 13. To save a programme from crashing if it encounters an error, we can use Excepion Handling to swifty exit the progrm without crashing."
   ]
  },
  {
   "cell_type": "raw",
   "id": "9e4a4656",
   "metadata": {},
   "source": [
    "Ans 14. \n",
    "try clause is used to test the program which an cause error.\n",
    "except is use to handle the error and print the error message if program in try block shows error.\n"
   ]
  }
 ],
 "metadata": {
  "kernelspec": {
   "display_name": "Python 3 (ipykernel)",
   "language": "python",
   "name": "python3"
  },
  "language_info": {
   "codemirror_mode": {
    "name": "ipython",
    "version": 3
   },
   "file_extension": ".py",
   "mimetype": "text/x-python",
   "name": "python",
   "nbconvert_exporter": "python",
   "pygments_lexer": "ipython3",
   "version": "3.9.7"
  }
 },
 "nbformat": 4,
 "nbformat_minor": 5
}

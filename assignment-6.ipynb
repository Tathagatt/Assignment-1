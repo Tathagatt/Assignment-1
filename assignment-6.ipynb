{
 "cells": [
  {
   "cell_type": "markdown",
   "id": "5a92e8ce",
   "metadata": {},
   "source": [
    "Ans 1. The backslash \"\\\" is a special character, also called the \"escape\" character. It is used in representing certain whitespace characters. Conversely, prefixing a special character with \"\\\" turns it into an ordinary character."
   ]
  },
  {
   "cell_type": "markdown",
   "id": "69b8a1a0",
   "metadata": {},
   "source": [
    "Ans 2. \"\\t\" is a tab, \"\\n\" is a newline"
   ]
  },
  {
   "cell_type": "markdown",
   "id": "c80ec96e",
   "metadata": {},
   "source": [
    "Ans 3. The way to include backlash characters in string is use \\ i.e if used in front of another character, it changes the meaning of this character, for eg.\\n,\\r. And to print only \\ use the below program "
   ]
  },
  {
   "cell_type": "code",
   "execution_count": 1,
   "id": "0c563c4c",
   "metadata": {},
   "outputs": [
    {
     "name": "stdout",
     "output_type": "stream",
     "text": [
      "\\ \\n\n"
     ]
    }
   ],
   "source": [
    "t = \"\\\\ \\\\n\"#\\\\n escapes the \\n and changes the meaning of \\n i.e tab\n",
    "print(t)"
   ]
  },
  {
   "cell_type": "markdown",
   "id": "635cb02b",
   "metadata": {},
   "source": [
    "Ans 4. It;s not a problem beacuse double quotes are used to define the start and end of the string"
   ]
  },
  {
   "cell_type": "code",
   "execution_count": 2,
   "id": "3c72af97",
   "metadata": {},
   "outputs": [
    {
     "data": {
      "text/plain": [
       "\"fff's\""
      ]
     },
     "execution_count": 2,
     "metadata": {},
     "output_type": "execute_result"
    }
   ],
   "source": [
    "\"fff's\""
   ]
  },
  {
   "cell_type": "markdown",
   "id": "c5a94b3d",
   "metadata": {},
   "source": [
    "Ans 5. To write a string of newlines if you don't want to use the n character is by the use of print statement."
   ]
  },
  {
   "cell_type": "code",
   "execution_count": 3,
   "id": "f59c04f9",
   "metadata": {},
   "outputs": [
    {
     "name": "stdout",
     "output_type": "stream",
     "text": [
      "hello\n",
      "new line\n",
      "without using \\n\n"
     ]
    }
   ],
   "source": [
    "print(\"hello\")\n",
    "print(\"new line\")\n",
    "print(\"without using \\\\n\")"
   ]
  },
  {
   "cell_type": "markdown",
   "id": "9dbf38ab",
   "metadata": {},
   "source": [
    "Ans 6. "
   ]
  },
  {
   "cell_type": "code",
   "execution_count": 4,
   "id": "6b054929",
   "metadata": {},
   "outputs": [
    {
     "data": {
      "text/plain": [
       "'e'"
      ]
     },
     "execution_count": 4,
     "metadata": {},
     "output_type": "execute_result"
    }
   ],
   "source": [
    "'Hello, world!'[1]"
   ]
  },
  {
   "cell_type": "code",
   "execution_count": 5,
   "id": "8bfca177",
   "metadata": {},
   "outputs": [
    {
     "data": {
      "text/plain": [
       "'Hello'"
      ]
     },
     "execution_count": 5,
     "metadata": {},
     "output_type": "execute_result"
    }
   ],
   "source": [
    "'Hello, world!'[0:5]"
   ]
  },
  {
   "cell_type": "code",
   "execution_count": 6,
   "id": "3fa2e57c",
   "metadata": {},
   "outputs": [
    {
     "data": {
      "text/plain": [
       "'Hello'"
      ]
     },
     "execution_count": 6,
     "metadata": {},
     "output_type": "execute_result"
    }
   ],
   "source": [
    "'Hello, world!'[:5]"
   ]
  },
  {
   "cell_type": "code",
   "execution_count": 7,
   "id": "ae690a8d",
   "metadata": {},
   "outputs": [
    {
     "data": {
      "text/plain": [
       "'lo, world!'"
      ]
     },
     "execution_count": 7,
     "metadata": {},
     "output_type": "execute_result"
    }
   ],
   "source": [
    "'Hello, world!'[3:]"
   ]
  },
  {
   "cell_type": "markdown",
   "id": "a2226e26",
   "metadata": {},
   "source": [
    "Ans 7."
   ]
  },
  {
   "cell_type": "code",
   "execution_count": 8,
   "id": "629b1443",
   "metadata": {},
   "outputs": [
    {
     "data": {
      "text/plain": [
       "'HELLO'"
      ]
     },
     "execution_count": 8,
     "metadata": {},
     "output_type": "execute_result"
    }
   ],
   "source": [
    "'Hello'.upper()"
   ]
  },
  {
   "cell_type": "code",
   "execution_count": 9,
   "id": "062d2ae1",
   "metadata": {},
   "outputs": [
    {
     "data": {
      "text/plain": [
       "True"
      ]
     },
     "execution_count": 9,
     "metadata": {},
     "output_type": "execute_result"
    }
   ],
   "source": [
    "'Hello'.upper().isupper()"
   ]
  },
  {
   "cell_type": "code",
   "execution_count": 10,
   "id": "c794d7b7",
   "metadata": {},
   "outputs": [
    {
     "data": {
      "text/plain": [
       "'hello'"
      ]
     },
     "execution_count": 10,
     "metadata": {},
     "output_type": "execute_result"
    }
   ],
   "source": [
    "'Hello'.upper().lower()"
   ]
  },
  {
   "cell_type": "markdown",
   "id": "b47692c1",
   "metadata": {},
   "source": [
    "Ans 8."
   ]
  },
  {
   "cell_type": "code",
   "execution_count": 11,
   "id": "1c0c1ebb",
   "metadata": {},
   "outputs": [
    {
     "data": {
      "text/plain": [
       "['Remember,remember,the', 'fifth', 'of', 'july']"
      ]
     },
     "execution_count": 11,
     "metadata": {},
     "output_type": "execute_result"
    }
   ],
   "source": [
    "'Remember,remember,the fifth of july'.split()"
   ]
  },
  {
   "cell_type": "code",
   "execution_count": 12,
   "id": "8b890494",
   "metadata": {},
   "outputs": [
    {
     "data": {
      "text/plain": [
       "'There-can-only-one'"
      ]
     },
     "execution_count": 12,
     "metadata": {},
     "output_type": "execute_result"
    }
   ],
   "source": [
    "'-'.join(\"There can only one\".split())"
   ]
  },
  {
   "cell_type": "markdown",
   "id": "d49a4d4d",
   "metadata": {},
   "source": [
    "Ans 9.\n",
    "The rjust(), ljust(), and center() string methods for right-justifying, left-justifying, and centering a string "
   ]
  },
  {
   "cell_type": "markdown",
   "id": "4f5ccac4",
   "metadata": {},
   "source": [
    "Ans 10.\n",
    "The lstrip() and rstrip() methods remove whitespace from the start or the end."
   ]
  },
  {
   "cell_type": "code",
   "execution_count": null,
   "id": "de7eb4ad",
   "metadata": {},
   "outputs": [],
   "source": []
  }
 ],
 "metadata": {
  "kernelspec": {
   "display_name": "Python 3 (ipykernel)",
   "language": "python",
   "name": "python3"
  },
  "language_info": {
   "codemirror_mode": {
    "name": "ipython",
    "version": 3
   },
   "file_extension": ".py",
   "mimetype": "text/x-python",
   "name": "python",
   "nbconvert_exporter": "python",
   "pygments_lexer": "ipython3",
   "version": "3.9.7"
  }
 },
 "nbformat": 4,
 "nbformat_minor": 5
}

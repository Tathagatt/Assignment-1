{
 "cells": [
  {
   "cell_type": "markdown",
   "id": "e6f3d421",
   "metadata": {},
   "source": [
    "Ans 1."
   ]
  },
  {
   "cell_type": "code",
   "execution_count": 62,
   "id": "975e7d0b",
   "metadata": {},
   "outputs": [],
   "source": [
    "def s_len(s,k):\n",
    "    q = s.split(\" \")\n",
    "    b=[]\n",
    "    for i in q:\n",
    "        if len(i) > k:\n",
    "            b.append(i)\n",
    "    return b\n",
    "    \n",
    "            \n",
    "    "
   ]
  },
  {
   "cell_type": "code",
   "execution_count": 63,
   "id": "6ed5c404",
   "metadata": {},
   "outputs": [
    {
     "data": {
      "text/plain": [
       "['people', 'python', 'program', 'teaching']"
      ]
     },
     "execution_count": 63,
     "metadata": {},
     "output_type": "execute_result"
    }
   ],
   "source": [
    "s_len(\"hello people as this is python program teaching\",5)"
   ]
  },
  {
   "cell_type": "markdown",
   "id": "1dffa717",
   "metadata": {},
   "source": [
    "Ans 2."
   ]
  },
  {
   "cell_type": "code",
   "execution_count": 76,
   "id": "17bd6e4a",
   "metadata": {},
   "outputs": [],
   "source": [
    "def ith(s,y):\n",
    "    a = s[:y]\n",
    "    b = s[y+1:]\n",
    "    return a+b\n",
    "s = \"hello people as this is python program teaching\""
   ]
  },
  {
   "cell_type": "code",
   "execution_count": 77,
   "id": "82ee747c",
   "metadata": {},
   "outputs": [
    {
     "data": {
      "text/plain": [
       "'hello eople as this is python program teaching'"
      ]
     },
     "execution_count": 77,
     "metadata": {},
     "output_type": "execute_result"
    }
   ],
   "source": [
    "ith(s,6)"
   ]
  },
  {
   "cell_type": "markdown",
   "id": "74e55498",
   "metadata": {},
   "source": [
    "Ans 3."
   ]
  },
  {
   "cell_type": "code",
   "execution_count": 87,
   "id": "73221d0e",
   "metadata": {},
   "outputs": [],
   "source": [
    "def sj_string(s):\n",
    "    l = s.split(' ')\n",
    "    s = '-'.join(l)\n",
    "    return l,s"
   ]
  },
  {
   "cell_type": "code",
   "execution_count": 90,
   "id": "2c962793",
   "metadata": {},
   "outputs": [
    {
     "data": {
      "text/plain": [
       "(['hello', 'people', 'as', 'this', 'is', 'python', 'program', 'teaching'],\n",
       " 'hello-people-as-this-is-python-program-teaching')"
      ]
     },
     "execution_count": 90,
     "metadata": {},
     "output_type": "execute_result"
    }
   ],
   "source": [
    "sj_string(s)"
   ]
  },
  {
   "cell_type": "markdown",
   "id": "f39e0500",
   "metadata": {},
   "source": [
    "Ans 4."
   ]
  },
  {
   "cell_type": "code",
   "execution_count": 49,
   "id": "fc54c88b",
   "metadata": {},
   "outputs": [],
   "source": [
    "k=\"01\"\n",
    "def b_string(b):\n",
    "    c=0\n",
    "    for i in b:\n",
    "        if i not in k:\n",
    "            c = c+1\n",
    "        else:\n",
    "            pass\n",
    "    if c == 0:\n",
    "        return \"Binary\",b\n",
    "    else:\n",
    "        return \"Not binary\",b\n",
    "            \n",
    "            \n",
    "    \n"
   ]
  },
  {
   "cell_type": "code",
   "execution_count": 51,
   "id": "953f73de",
   "metadata": {},
   "outputs": [
    {
     "data": {
      "text/plain": [
       "('Binary', '1010111101010101')"
      ]
     },
     "execution_count": 51,
     "metadata": {},
     "output_type": "execute_result"
    }
   ],
   "source": [
    "b_string(\"1010111101010101\")"
   ]
  },
  {
   "cell_type": "markdown",
   "id": "f56d4396",
   "metadata": {},
   "source": [
    "Ans 5."
   ]
  },
  {
   "cell_type": "code",
   "execution_count": 56,
   "id": "ec7860f2",
   "metadata": {},
   "outputs": [],
   "source": [
    "def uncommon(u,p):\n",
    "    l1 = u.split(\" \")\n",
    "    l2 = p.split(\" \")\n",
    "    a = \"\"\n",
    "    for i in l1:\n",
    "        if i not in l2:\n",
    "            a = a+\" \"+i\n",
    "    for j in l2:\n",
    "        if j not in l1:\n",
    "            a = a+\" \"+j\n",
    "    return a\n",
    "            \n",
    "            \n",
    "            "
   ]
  },
  {
   "cell_type": "code",
   "execution_count": 58,
   "id": "5d3893de",
   "metadata": {},
   "outputs": [
    {
     "data": {
      "text/plain": [
       "' C django Cassendra Hindi ML'"
      ]
     },
     "execution_count": 58,
     "metadata": {},
     "output_type": "execute_result"
    }
   ],
   "source": [
    "uncommon(\"python C C++ django\", \"Cassendra python Hindi ML C++\")"
   ]
  },
  {
   "cell_type": "markdown",
   "id": "7ba2dfb5",
   "metadata": {},
   "source": [
    "Ans 6."
   ]
  },
  {
   "cell_type": "code",
   "execution_count": 71,
   "id": "1ffb5e43",
   "metadata": {},
   "outputs": [],
   "source": [
    "def dublicate(s):\n",
    "    l1 = s.split(\" \")\n",
    "    l2 = s.split(\" \")\n",
    "    a = \"\"\n",
    "    for i in range(len(l1)):\n",
    "        if l1[i] in l2[i+1:]:\n",
    "            a = a+\" \"+l1[i]\n",
    "    return a\n",
    "    "
   ]
  },
  {
   "cell_type": "code",
   "execution_count": 75,
   "id": "5ea0c1ef",
   "metadata": {},
   "outputs": [
    {
     "data": {
      "text/plain": [
       "' we few, we band'"
      ]
     },
     "execution_count": 75,
     "metadata": {},
     "output_type": "execute_result"
    }
   ],
   "source": [
    "dublicate(\"we few, we band few, we band of brothers\")"
   ]
  },
  {
   "cell_type": "markdown",
   "id": "1d29b158",
   "metadata": {},
   "source": [
    "Ans 7."
   ]
  },
  {
   "cell_type": "code",
   "execution_count": 94,
   "id": "a00132a3",
   "metadata": {},
   "outputs": [],
   "source": [
    "j=\"!@#$%^&*()_+|}{:\"\"};;'<>?,./'\"\n",
    "def special_char(name):\n",
    "    u = 0\n",
    "    for i in name:\n",
    "        if i in j:\n",
    "            u = u+1\n",
    "        else:\n",
    "            pass\n",
    "    if u == 0:\n",
    "        return \"DO NOT HAVE SPECIAL CHAR\"\n",
    "    else:\n",
    "        return \"DO  HAVE SPECIAL CHAR\""
   ]
  },
  {
   "cell_type": "code",
   "execution_count": 95,
   "id": "fe7236ed",
   "metadata": {},
   "outputs": [
    {
     "data": {
      "text/plain": [
       "'DO  HAVE SPECIAL CHAR'"
      ]
     },
     "execution_count": 95,
     "metadata": {},
     "output_type": "execute_result"
    }
   ],
   "source": [
    "special_char(\"hsghagshadsgkhacvhj@#$%^67 @\")"
   ]
  },
  {
   "cell_type": "code",
   "execution_count": null,
   "id": "14feb0d1",
   "metadata": {},
   "outputs": [],
   "source": []
  }
 ],
 "metadata": {
  "kernelspec": {
   "display_name": "Python 3 (ipykernel)",
   "language": "python",
   "name": "python3"
  },
  "language_info": {
   "codemirror_mode": {
    "name": "ipython",
    "version": 3
   },
   "file_extension": ".py",
   "mimetype": "text/x-python",
   "name": "python",
   "nbconvert_exporter": "python",
   "pygments_lexer": "ipython3",
   "version": "3.9.7"
  }
 },
 "nbformat": 4,
 "nbformat_minor": 5
}

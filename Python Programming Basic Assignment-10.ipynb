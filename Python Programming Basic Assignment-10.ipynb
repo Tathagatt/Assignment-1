{
 "cells": [
  {
   "cell_type": "markdown",
   "id": "fae0c174",
   "metadata": {},
   "source": [
    "Ans 1."
   ]
  },
  {
   "cell_type": "code",
   "execution_count": 1,
   "id": "ba6e25dd",
   "metadata": {},
   "outputs": [
    {
     "name": "stdout",
     "output_type": "stream",
     "text": [
      "55\n"
     ]
    }
   ],
   "source": [
    "lst = [1,3,2,6,4,5,8,7,10,9]\n",
    "s=0\n",
    "for i in lst:\n",
    "    s=s+i\n",
    "print(s)\n",
    "    "
   ]
  },
  {
   "cell_type": "markdown",
   "id": "61d3843c",
   "metadata": {},
   "source": [
    "Ans 2."
   ]
  },
  {
   "cell_type": "code",
   "execution_count": 2,
   "id": "b8aa4d05",
   "metadata": {},
   "outputs": [
    {
     "name": "stdout",
     "output_type": "stream",
     "text": [
      "3628800\n"
     ]
    }
   ],
   "source": [
    "lst = [1,3,2,6,4,5,8,7,10,9]\n",
    "m=1\n",
    "for i in lst:\n",
    "    m=m*i\n",
    "print(m)"
   ]
  },
  {
   "cell_type": "markdown",
   "id": "fdc32adb",
   "metadata": {},
   "source": [
    "Ans 3."
   ]
  },
  {
   "cell_type": "code",
   "execution_count": 3,
   "id": "622dfcda",
   "metadata": {},
   "outputs": [
    {
     "name": "stdout",
     "output_type": "stream",
     "text": [
      "10\n"
     ]
    }
   ],
   "source": [
    "a=[300,10,45,229,890,65,38,29]\n",
    "a.sort()\n",
    "min_num= a[0]\n",
    "print(min_num)\n"
   ]
  },
  {
   "cell_type": "markdown",
   "id": "6c94e17b",
   "metadata": {},
   "source": [
    "Ans 4."
   ]
  },
  {
   "cell_type": "code",
   "execution_count": 4,
   "id": "725fcdf8",
   "metadata": {},
   "outputs": [
    {
     "name": "stdout",
     "output_type": "stream",
     "text": [
      "890\n"
     ]
    }
   ],
   "source": [
    "a=[3,10,45,229,890,65,38,29]\n",
    "a.sort()\n",
    "max_num= a[len(a)-1]\n",
    "print(max_num)"
   ]
  },
  {
   "cell_type": "markdown",
   "id": "1fe68ab0",
   "metadata": {},
   "source": [
    "Ans 5."
   ]
  },
  {
   "cell_type": "code",
   "execution_count": 5,
   "id": "3a01b321",
   "metadata": {},
   "outputs": [
    {
     "name": "stdout",
     "output_type": "stream",
     "text": [
      "229\n"
     ]
    }
   ],
   "source": [
    "a=[3,10,45,229,890,65,38,29]\n",
    "a.sort()\n",
    "smax_num= a[len(a)-2]\n",
    "print(smax_num)"
   ]
  },
  {
   "cell_type": "markdown",
   "id": "f96a393e",
   "metadata": {},
   "source": [
    "Ans 6."
   ]
  },
  {
   "cell_type": "code",
   "execution_count": 6,
   "id": "d3cabb2a",
   "metadata": {},
   "outputs": [
    {
     "name": "stdout",
     "output_type": "stream",
     "text": [
      "Which largest value you want4\n",
      "45\n"
     ]
    }
   ],
   "source": [
    "n=int(input(\"Which largest value you want\"))\n",
    "a=[3,10,45,229,890,65,38,29]\n",
    "a.sort()\n",
    "nmax_num= a[len(a)-n]\n",
    "print(nmax_num)"
   ]
  },
  {
   "cell_type": "markdown",
   "id": "9388347c",
   "metadata": {},
   "source": [
    "Ans 7."
   ]
  },
  {
   "cell_type": "code",
   "execution_count": 7,
   "id": "261ac533",
   "metadata": {},
   "outputs": [
    {
     "name": "stdout",
     "output_type": "stream",
     "text": [
      "[10, 890, 38]\n"
     ]
    }
   ],
   "source": [
    "a=[3,10,45,229,890,65,38,29]\n",
    "b=[]\n",
    "for i in a:\n",
    "    if i%2==0:\n",
    "        b.append(i)\n",
    "print(b)\n",
    "        "
   ]
  },
  {
   "cell_type": "markdown",
   "id": "86c4d55b",
   "metadata": {},
   "source": [
    "Ans 8."
   ]
  },
  {
   "cell_type": "code",
   "execution_count": 8,
   "id": "ca84a169",
   "metadata": {},
   "outputs": [
    {
     "name": "stdout",
     "output_type": "stream",
     "text": [
      "[3, 45, 229, 65, 29]\n"
     ]
    }
   ],
   "source": [
    "a=[3,10,45,229,890,65,38,29]\n",
    "b=[]\n",
    "for i in a:\n",
    "    if i%2!=0:\n",
    "        b.append(i)\n",
    "print(b)"
   ]
  },
  {
   "cell_type": "markdown",
   "id": "ec65fc0b",
   "metadata": {},
   "source": [
    "Ans 9."
   ]
  },
  {
   "cell_type": "code",
   "execution_count": 9,
   "id": "1a4e08b4",
   "metadata": {},
   "outputs": [
    {
     "name": "stdout",
     "output_type": "stream",
     "text": [
      "[3, 10, 45, 229, 890, 65, 38, 29]\n"
     ]
    }
   ],
   "source": [
    "a=[3,10,[],45,229,[],890,65,[],38,29]\n",
    "for i in a:\n",
    "    if i == []:\n",
    "        a.remove(i)\n",
    "print(a)\n"
   ]
  },
  {
   "cell_type": "markdown",
   "id": "426ba704",
   "metadata": {},
   "source": [
    "Ans 10."
   ]
  },
  {
   "cell_type": "code",
   "execution_count": 10,
   "id": "bd6314f6",
   "metadata": {},
   "outputs": [
    {
     "name": "stdout",
     "output_type": "stream",
     "text": [
      "copyied list [3, 10, 45, 229, 890, 29] orignal list [3, 10, 45, 229, 890, 29]\n"
     ]
    }
   ],
   "source": [
    "l1=[3,10,45,229,890,29]\n",
    "lc = []\n",
    "lc.extend(l1)\n",
    "print(\"copyied list\",lc,\"orignal list\",l1)"
   ]
  },
  {
   "cell_type": "markdown",
   "id": "f2afe7d7",
   "metadata": {},
   "source": [
    "Ans 11."
   ]
  },
  {
   "cell_type": "code",
   "execution_count": 11,
   "id": "ea1bb41b",
   "metadata": {},
   "outputs": [],
   "source": [
    "def countt(list,d):\n",
    "    c=list.count(d)\n",
    "    print(\"{0} is {1} no. of times in this list\".format(d,c))\n",
    "    "
   ]
  },
  {
   "cell_type": "code",
   "execution_count": 12,
   "id": "15f4636d",
   "metadata": {},
   "outputs": [
    {
     "name": "stdout",
     "output_type": "stream",
     "text": [
      "4 is 5 no. of times in this list\n"
     ]
    }
   ],
   "source": [
    "countt([4,4,4,4,4,5,5,6,6,7,7,7,8,8,8,9,9,9,9,9,9,9,9,9],4)"
   ]
  },
  {
   "cell_type": "code",
   "execution_count": 13,
   "id": "d262df03",
   "metadata": {},
   "outputs": [],
   "source": [
    "def fun1(n):\n",
    "    dt={}\n",
    "    o=0\n",
    "    for i in n:\n",
    "        if i in dt:\n",
    "            o=o+1\n",
    "            dt[i] = n.count(i)\n",
    "        else:\n",
    "            dt[i] = [1]\n",
    "    return dt "
   ]
  },
  {
   "cell_type": "code",
   "execution_count": 14,
   "id": "c6a2387b",
   "metadata": {},
   "outputs": [
    {
     "data": {
      "text/plain": [
       "{4: [1, 4, 4, 4, 4],\n",
       " 5: [1, 5],\n",
       " 6: [1, 6],\n",
       " 7: [1, 7, 7],\n",
       " 8: [1, 8, 8],\n",
       " 9: [1, 9, 9, 9, 9, 9, 9, 9, 9],\n",
       " 10: [1]}"
      ]
     },
     "execution_count": 14,
     "metadata": {},
     "output_type": "execute_result"
    }
   ],
   "source": [
    "fun1([4,4,4,4,4,5,5,6,6,7,7,7,8,8,8,9,9,9,9,9,9,9,9,9,10])"
   ]
  },
  {
   "cell_type": "code",
   "execution_count": 15,
   "id": "c41856eb",
   "metadata": {},
   "outputs": [],
   "source": [
    "def CountFrequency(n):\n",
    "    dt = {}\n",
    "    for i in n:\n",
    "        if (i in dt):\n",
    "            dt[i] += 1\n",
    "        else:\n",
    "            dt[i] = 1\n",
    " \n",
    "    for key, value in dt.items():\n",
    "        print (\"% d : % d\"%(key, value))"
   ]
  },
  {
   "cell_type": "code",
   "execution_count": 16,
   "id": "cfeee837",
   "metadata": {},
   "outputs": [
    {
     "name": "stdout",
     "output_type": "stream",
     "text": [
      " 4 :  5\n",
      " 5 :  2\n",
      " 6 :  2\n",
      " 7 :  3\n",
      " 8 :  3\n",
      " 9 :  9\n",
      " 10 :  1\n"
     ]
    }
   ],
   "source": [
    "CountFrequency([4,4,4,4,4,5,5,6,6,7,7,7,8,8,8,9,9,9,9,9,9,9,9,9,10])"
   ]
  },
  {
   "cell_type": "code",
   "execution_count": null,
   "id": "14c1552a",
   "metadata": {},
   "outputs": [],
   "source": []
  }
 ],
 "metadata": {
  "kernelspec": {
   "display_name": "Python 3 (ipykernel)",
   "language": "python",
   "name": "python3"
  },
  "language_info": {
   "codemirror_mode": {
    "name": "ipython",
    "version": 3
   },
   "file_extension": ".py",
   "mimetype": "text/x-python",
   "name": "python",
   "nbconvert_exporter": "python",
   "pygments_lexer": "ipython3",
   "version": "3.9.7"
  }
 },
 "nbformat": 4,
 "nbformat_minor": 5
}

{
 "cells": [
  {
   "cell_type": "markdown",
   "id": "2e16babc",
   "metadata": {},
   "source": [
    "Ans 1."
   ]
  },
  {
   "cell_type": "code",
   "execution_count": 1,
   "id": "fdd688cb",
   "metadata": {},
   "outputs": [],
   "source": [
    "def double_char(s):\n",
    "    s1=''\n",
    "    for i in s:\n",
    "        s1=s1+i*2\n",
    "    return s1\n",
    "        "
   ]
  },
  {
   "cell_type": "code",
   "execution_count": 2,
   "id": "e0178f3a",
   "metadata": {},
   "outputs": [
    {
     "data": {
      "text/plain": [
       "'SSttrriinngg'"
      ]
     },
     "execution_count": 2,
     "metadata": {},
     "output_type": "execute_result"
    }
   ],
   "source": [
    "double_char('String')"
   ]
  },
  {
   "cell_type": "code",
   "execution_count": 3,
   "id": "721c0166",
   "metadata": {},
   "outputs": [
    {
     "data": {
      "text/plain": [
       "'HHeelllloo  WWoorrlldd!!'"
      ]
     },
     "execution_count": 3,
     "metadata": {},
     "output_type": "execute_result"
    }
   ],
   "source": [
    "double_char('Hello World!')"
   ]
  },
  {
   "cell_type": "code",
   "execution_count": 4,
   "id": "5f9ae5b9",
   "metadata": {},
   "outputs": [
    {
     "data": {
      "text/plain": [
       "'11223344!!____'"
      ]
     },
     "execution_count": 4,
     "metadata": {},
     "output_type": "execute_result"
    }
   ],
   "source": [
    "double_char('1234!__')"
   ]
  },
  {
   "cell_type": "markdown",
   "id": "56f9e2ff",
   "metadata": {},
   "source": [
    "Ans 2."
   ]
  },
  {
   "cell_type": "code",
   "execution_count": 5,
   "id": "33993630",
   "metadata": {},
   "outputs": [],
   "source": [
    "def reverse(boo):\n",
    "    if boo==True:\n",
    "        return False\n",
    "    elif boo==False:\n",
    "        return True\n",
    "    else:\n",
    "        return \"Boolean Expected\"\n",
    "        "
   ]
  },
  {
   "cell_type": "code",
   "execution_count": 6,
   "id": "cda4328d",
   "metadata": {},
   "outputs": [
    {
     "data": {
      "text/plain": [
       "'Boolean Expected'"
      ]
     },
     "execution_count": 6,
     "metadata": {},
     "output_type": "execute_result"
    }
   ],
   "source": [
    "reverse(None)"
   ]
  },
  {
   "cell_type": "code",
   "execution_count": 7,
   "id": "3b3172c8",
   "metadata": {},
   "outputs": [
    {
     "data": {
      "text/plain": [
       "False"
      ]
     },
     "execution_count": 7,
     "metadata": {},
     "output_type": "execute_result"
    }
   ],
   "source": [
    "reverse(True)"
   ]
  },
  {
   "cell_type": "code",
   "execution_count": 8,
   "id": "904e532b",
   "metadata": {},
   "outputs": [
    {
     "data": {
      "text/plain": [
       "True"
      ]
     },
     "execution_count": 8,
     "metadata": {},
     "output_type": "execute_result"
    }
   ],
   "source": [
    "reverse(False)"
   ]
  },
  {
   "cell_type": "code",
   "execution_count": 9,
   "id": "22ef8613",
   "metadata": {},
   "outputs": [
    {
     "data": {
      "text/plain": [
       "'Boolean Expected'"
      ]
     },
     "execution_count": 9,
     "metadata": {},
     "output_type": "execute_result"
    }
   ],
   "source": [
    "reverse('0')"
   ]
  },
  {
   "cell_type": "code",
   "execution_count": 10,
   "id": "5601ebd6",
   "metadata": {},
   "outputs": [],
   "source": [
    "def num_layers(n):\n",
    "    t=0.0005\n",
    "    thickness = t*(2**n)\n",
    "    return thickness"
   ]
  },
  {
   "cell_type": "code",
   "execution_count": 11,
   "id": "33eb15cd",
   "metadata": {},
   "outputs": [
    {
     "data": {
      "text/plain": [
       "0.001"
      ]
     },
     "execution_count": 11,
     "metadata": {},
     "output_type": "execute_result"
    }
   ],
   "source": [
    "num_layers(1)"
   ]
  },
  {
   "cell_type": "code",
   "execution_count": 12,
   "id": "45c5d9a4",
   "metadata": {},
   "outputs": [
    {
     "data": {
      "text/plain": [
       "0.008"
      ]
     },
     "execution_count": 12,
     "metadata": {},
     "output_type": "execute_result"
    }
   ],
   "source": [
    "num_layers(4)"
   ]
  },
  {
   "cell_type": "code",
   "execution_count": 13,
   "id": "a1d73f02",
   "metadata": {},
   "outputs": [
    {
     "data": {
      "text/plain": [
       "1048.576"
      ]
     },
     "execution_count": 13,
     "metadata": {},
     "output_type": "execute_result"
    }
   ],
   "source": [
    "num_layers(21)"
   ]
  },
  {
   "cell_type": "code",
   "execution_count": 14,
   "id": "77e5e849",
   "metadata": {},
   "outputs": [
    {
     "data": {
      "text/plain": [
       "6.189700196426902e+23"
      ]
     },
     "execution_count": 14,
     "metadata": {},
     "output_type": "execute_result"
    }
   ],
   "source": [
    "num_layers(90)"
   ]
  },
  {
   "cell_type": "markdown",
   "id": "8cd489e9",
   "metadata": {},
   "source": [
    "Ans 4."
   ]
  },
  {
   "cell_type": "code",
   "execution_count": 15,
   "id": "636cf4b7",
   "metadata": {},
   "outputs": [],
   "source": [
    "def index_of_caps(s):\n",
    "    lst=[]\n",
    "    for i in range(len(s)):\n",
    "        if s[i].isupper()==True:\n",
    "            lst.append(i)\n",
    "    return lst\n",
    "            "
   ]
  },
  {
   "cell_type": "code",
   "execution_count": 16,
   "id": "ff3d4eb0",
   "metadata": {},
   "outputs": [
    {
     "data": {
      "text/plain": [
       "[1, 3, 5]"
      ]
     },
     "execution_count": 16,
     "metadata": {},
     "output_type": "execute_result"
    }
   ],
   "source": [
    "index_of_caps('eDaBiT')"
   ]
  },
  {
   "cell_type": "code",
   "execution_count": 17,
   "id": "62a29d63",
   "metadata": {},
   "outputs": [
    {
     "data": {
      "text/plain": [
       "[1, 3, 4, 6]"
      ]
     },
     "execution_count": 17,
     "metadata": {},
     "output_type": "execute_result"
    }
   ],
   "source": [
    "index_of_caps('eQuINoX')"
   ]
  },
  {
   "cell_type": "code",
   "execution_count": 18,
   "id": "74333f6b",
   "metadata": {},
   "outputs": [
    {
     "data": {
      "text/plain": [
       "[]"
      ]
     },
     "execution_count": 18,
     "metadata": {},
     "output_type": "execute_result"
    }
   ],
   "source": [
    "index_of_caps('determine')"
   ]
  },
  {
   "cell_type": "code",
   "execution_count": 19,
   "id": "b8cda583",
   "metadata": {},
   "outputs": [
    {
     "data": {
      "text/plain": [
       "[0, 1, 2, 3, 4, 5]"
      ]
     },
     "execution_count": 19,
     "metadata": {},
     "output_type": "execute_result"
    }
   ],
   "source": [
    "index_of_caps('STRIKE')"
   ]
  },
  {
   "cell_type": "code",
   "execution_count": 20,
   "id": "488a6f1b",
   "metadata": {},
   "outputs": [
    {
     "data": {
      "text/plain": [
       "[1]"
      ]
     },
     "execution_count": 20,
     "metadata": {},
     "output_type": "execute_result"
    }
   ],
   "source": [
    "index_of_caps('sUn')"
   ]
  },
  {
   "cell_type": "markdown",
   "id": "72159429",
   "metadata": {},
   "source": [
    "Ans 5."
   ]
  },
  {
   "cell_type": "code",
   "execution_count": 36,
   "id": "b4e270be",
   "metadata": {},
   "outputs": [],
   "source": [
    "def find_even_no(n):\n",
    "    return [i for i in range(1,n+1) if i%2 == 0]\n",
    "\n",
    "    "
   ]
  },
  {
   "cell_type": "code",
   "execution_count": 37,
   "id": "40aae709",
   "metadata": {},
   "outputs": [
    {
     "data": {
      "text/plain": [
       "[2, 4, 6, 8]"
      ]
     },
     "execution_count": 37,
     "metadata": {},
     "output_type": "execute_result"
    }
   ],
   "source": [
    "find_even_no(8)"
   ]
  },
  {
   "cell_type": "code",
   "execution_count": 38,
   "id": "9e130343",
   "metadata": {},
   "outputs": [
    {
     "data": {
      "text/plain": [
       "[2, 4]"
      ]
     },
     "execution_count": 38,
     "metadata": {},
     "output_type": "execute_result"
    }
   ],
   "source": [
    "find_even_no(4)"
   ]
  },
  {
   "cell_type": "code",
   "execution_count": 39,
   "id": "6132bfb7",
   "metadata": {},
   "outputs": [
    {
     "data": {
      "text/plain": [
       "[2]"
      ]
     },
     "execution_count": 39,
     "metadata": {},
     "output_type": "execute_result"
    }
   ],
   "source": [
    "find_even_no(2)"
   ]
  }
 ],
 "metadata": {
  "kernelspec": {
   "display_name": "Python 3 (ipykernel)",
   "language": "python",
   "name": "python3"
  },
  "language_info": {
   "codemirror_mode": {
    "name": "ipython",
    "version": 3
   },
   "file_extension": ".py",
   "mimetype": "text/x-python",
   "name": "python",
   "nbconvert_exporter": "python",
   "pygments_lexer": "ipython3",
   "version": "3.9.7"
  }
 },
 "nbformat": 4,
 "nbformat_minor": 5
}

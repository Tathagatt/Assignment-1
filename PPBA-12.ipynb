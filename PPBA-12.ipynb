{
 "cells": [
  {
   "cell_type": "markdown",
   "id": "743cc274",
   "metadata": {},
   "source": [
    "Ans 1."
   ]
  },
  {
   "cell_type": "code",
   "execution_count": 1,
   "id": "e2eb8965",
   "metadata": {},
   "outputs": [],
   "source": [
    "def Unique(dt):\n",
    "    s = set(dt.values())\n",
    "    return s"
   ]
  },
  {
   "cell_type": "code",
   "execution_count": 2,
   "id": "e465f484",
   "metadata": {},
   "outputs": [
    {
     "data": {
      "text/plain": [
       "{1, 2, 3, 4, 6}"
      ]
     },
     "execution_count": 2,
     "metadata": {},
     "output_type": "execute_result"
    }
   ],
   "source": [
    "dt={1:1,2:1,3:2,4:3,5:4,6:4,7:6}\n",
    "Unique(dt)"
   ]
  },
  {
   "cell_type": "markdown",
   "id": "a37aa6a2",
   "metadata": {},
   "source": [
    "Ans 2."
   ]
  },
  {
   "cell_type": "code",
   "execution_count": 3,
   "id": "2fc28ce0",
   "metadata": {},
   "outputs": [],
   "source": [
    "x ={'a': 100, 'b':200, 'c':300, 'd':400}\n",
    "                                                                                                     "
   ]
  },
  {
   "cell_type": "code",
   "execution_count": 4,
   "id": "48c86f08",
   "metadata": {},
   "outputs": [],
   "source": [
    "def Sum(x):\n",
    "    sum=0\n",
    "    for i in x.values():\n",
    "        if type(i) == int:\n",
    "            sum=sum+i\n",
    "    return sum"
   ]
  },
  {
   "cell_type": "code",
   "execution_count": 5,
   "id": "6d2597f8",
   "metadata": {},
   "outputs": [
    {
     "data": {
      "text/plain": [
       "1000"
      ]
     },
     "execution_count": 5,
     "metadata": {},
     "output_type": "execute_result"
    }
   ],
   "source": [
    "Sum(x)"
   ]
  },
  {
   "cell_type": "markdown",
   "id": "c11ea682",
   "metadata": {},
   "source": [
    "Ans 4."
   ]
  },
  {
   "cell_type": "code",
   "execution_count": 6,
   "id": "c4c0d26d",
   "metadata": {},
   "outputs": [
    {
     "name": "stdout",
     "output_type": "stream",
     "text": [
      "The dictionary is : \n",
      "{'month_num': [1, 2, 3, 4, 5, 6], 'name_of_month': ['Jan', 'Feb', 'March', 'Apr', 'May', 'June']}\n",
      "The flattened dictionary is: \n",
      "{1: 'Jan', 2: 'Feb', 3: 'March', 4: 'Apr', 5: 'May', 6: 'June'}\n"
     ]
    }
   ],
   "source": [
    "from itertools import product\n",
    "\n",
    "my_dict = {'month_num' : [1, 2, 3, 4, 5, 6], 'name_of_month' : ['Jan', 'Feb', 'March', 'Apr', 'May', 'June']}\n",
    "\n",
    "print(\"The dictionary is : \")\n",
    "print(my_dict)\n",
    "\n",
    "my_result = dict(zip(my_dict['month_num'], my_dict['name_of_month']))\n",
    "\n",
    "print(\"The flattened dictionary is: \")\n",
    "print(my_result)"
   ]
  },
  {
   "cell_type": "markdown",
   "id": "dddbc3fc",
   "metadata": {},
   "source": [
    "Ans 5."
   ]
  },
  {
   "cell_type": "code",
   "execution_count": 7,
   "id": "f0c85840",
   "metadata": {},
   "outputs": [],
   "source": [
    "from collections import OrderedDict\n",
    "def od(dic1,insrt):\n",
    "    dic2 = OrderedDict(dic1)\n",
    "    insrt1 = OrderedDict(insrt)\n",
    "    final = OrderedDict(list(insrt1.items()) + list(dic2.items()))\n",
    "    return\"Resultant Dictionary :\",final\n"
   ]
  },
  {
   "cell_type": "code",
   "execution_count": 8,
   "id": "c6cb249d",
   "metadata": {},
   "outputs": [
    {
     "data": {
      "text/plain": [
       "('Resultant Dictionary :',\n",
       " OrderedDict([('D', '400'), ('A', '100'), ('B', '200'), ('C', '300')]))"
      ]
     },
     "execution_count": 8,
     "metadata": {},
     "output_type": "execute_result"
    }
   ],
   "source": [
    "od([('A', '100'), ('B', '200'), ('C', '300')],[(\"D\", '400')])"
   ]
  },
  {
   "cell_type": "code",
   "execution_count": 9,
   "id": "ad52a315",
   "metadata": {},
   "outputs": [],
   "source": [
    "from collections import OrderedDict  \n",
    "def od1(dic11,insrt11):\n",
    "    dic21 = OrderedDict(dic11)\n",
    "    dic21.update(insrt11)\n",
    "    print(dic21)\n",
    "    dic21.move_to_end(\"D\", last=False)\n",
    "    return \"Resultant Dictionary :\",dic21\n",
    "\n"
   ]
  },
  {
   "cell_type": "code",
   "execution_count": 10,
   "id": "b17e82e5",
   "metadata": {},
   "outputs": [
    {
     "name": "stdout",
     "output_type": "stream",
     "text": [
      "OrderedDict([('A', '100'), ('B', '200'), ('C', '300'), ('D', '400')])\n"
     ]
    },
    {
     "data": {
      "text/plain": [
       "('Resultant Dictionary :',\n",
       " OrderedDict([('D', '400'), ('A', '100'), ('B', '200'), ('C', '300')]))"
      ]
     },
     "execution_count": 10,
     "metadata": {},
     "output_type": "execute_result"
    }
   ],
   "source": [
    "od1([('A', '100'), ('B', '200'), ('C', '300')],[(\"D\", '400')])"
   ]
  },
  {
   "cell_type": "markdown",
   "id": "5f5745ae",
   "metadata": {},
   "source": [
    "Ans 6."
   ]
  },
  {
   "cell_type": "code",
   "execution_count": 11,
   "id": "21686b01",
   "metadata": {},
   "outputs": [],
   "source": [
    "from collections import OrderedDict \n",
    "def checkOrder(string, pattern): \n",
    "    dic = OrderedDict.fromkeys(string) \n",
    "    ptr = 0\n",
    "    for key,value in dic.items(): \n",
    "        if (key == pattern[ptr]): \n",
    "            ptr = ptr + 1\n",
    "            print(ptr)\n",
    "        if (ptr == (len(pattern))): \n",
    "            return 'True'\n",
    "    return 'False'\n",
    "\n",
    " "
   ]
  },
  {
   "cell_type": "code",
   "execution_count": 12,
   "id": "faad46cf",
   "metadata": {},
   "outputs": [
    {
     "name": "stdout",
     "output_type": "stream",
     "text": [
      "1\n",
      "2\n"
     ]
    },
    {
     "data": {
      "text/plain": [
       "'True'"
      ]
     },
     "execution_count": 12,
     "metadata": {},
     "output_type": "execute_result"
    }
   ],
   "source": [
    "checkOrder(\"trtrrttr\", \"tr\")"
   ]
  },
  {
   "cell_type": "markdown",
   "id": "dae07223",
   "metadata": {},
   "source": [
    "Ans 7."
   ]
  },
  {
   "cell_type": "code",
   "execution_count": 13,
   "id": "99f230e7",
   "metadata": {},
   "outputs": [],
   "source": [
    "def dictionairy():\n",
    "    key_value ={}\n",
    "    key_value['b'] = 56\n",
    "    key_value['a'] = 2\n",
    "    key_value['e'] = 12\n",
    "    key_value['d'] = 24\n",
    "    key_value['f'] = 18\n",
    "    key_value['c'] = 323\n",
    "    print (\"Task 1:-\\n\")\n",
    "    print (\"Keys are\")\n",
    "    for i in sorted(key_value) :\n",
    "        print ((i, key_value[i]))\n",
    "\n",
    "\n"
   ]
  },
  {
   "cell_type": "code",
   "execution_count": 14,
   "id": "b6c46491",
   "metadata": {},
   "outputs": [
    {
     "name": "stdout",
     "output_type": "stream",
     "text": [
      "Task 1:-\n",
      "\n",
      "Keys are\n",
      "('a', 2)\n",
      "('b', 56)\n",
      "('c', 323)\n",
      "('d', 24)\n",
      "('e', 12)\n",
      "('f', 18)\n"
     ]
    }
   ],
   "source": [
    "dictionairy()"
   ]
  },
  {
   "cell_type": "code",
   "execution_count": null,
   "id": "cbdc27cf",
   "metadata": {},
   "outputs": [],
   "source": []
  }
 ],
 "metadata": {
  "kernelspec": {
   "display_name": "Python 3 (ipykernel)",
   "language": "python",
   "name": "python3"
  },
  "language_info": {
   "codemirror_mode": {
    "name": "ipython",
    "version": 3
   },
   "file_extension": ".py",
   "mimetype": "text/x-python",
   "name": "python",
   "nbconvert_exporter": "python",
   "pygments_lexer": "ipython3",
   "version": "3.9.7"
  }
 },
 "nbformat": 4,
 "nbformat_minor": 5
}

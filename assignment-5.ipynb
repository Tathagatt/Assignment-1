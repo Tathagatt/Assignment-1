{
 "cells": [
  {
   "cell_type": "raw",
   "id": "2aa25b64",
   "metadata": {},
   "source": [
    "Ans 1."
   ]
  },
  {
   "cell_type": "code",
   "execution_count": 1,
   "id": "6037003e",
   "metadata": {},
   "outputs": [],
   "source": [
    "d={}"
   ]
  },
  {
   "cell_type": "code",
   "execution_count": 2,
   "id": "3d3fd24d",
   "metadata": {},
   "outputs": [
    {
     "data": {
      "text/plain": [
       "dict"
      ]
     },
     "execution_count": 2,
     "metadata": {},
     "output_type": "execute_result"
    }
   ],
   "source": [
    "type(d)"
   ]
  },
  {
   "cell_type": "raw",
   "id": "ed134ff9",
   "metadata": {},
   "source": [
    "Ans 2."
   ]
  },
  {
   "cell_type": "code",
   "execution_count": 3,
   "id": "e29af1f2",
   "metadata": {},
   "outputs": [],
   "source": [
    "a={\"foo\" : 42}"
   ]
  },
  {
   "cell_type": "code",
   "execution_count": 6,
   "id": "0c9059be",
   "metadata": {},
   "outputs": [
    {
     "data": {
      "text/plain": [
       "dict_values([42])"
      ]
     },
     "execution_count": 6,
     "metadata": {},
     "output_type": "execute_result"
    }
   ],
   "source": [
    "a.values()"
   ]
  },
  {
   "cell_type": "raw",
   "id": "37603d13",
   "metadata": {},
   "source": [
    "Ans 3. \n",
    "A list is an ordered sequence of objects, whereas dictionaries are unordered sets. Another difference is that items in dictionaries are accessed via keys and not via their position."
   ]
  },
  {
   "cell_type": "raw",
   "id": "8aeb6ad1",
   "metadata": {},
   "source": [
    "Ans 4."
   ]
  },
  {
   "cell_type": "code",
   "execution_count": 10,
   "id": "1fa351fd",
   "metadata": {},
   "outputs": [],
   "source": [
    "spam = {\"bar\": 100, \"cat\":88}"
   ]
  },
  {
   "cell_type": "code",
   "execution_count": 9,
   "id": "ded11d84",
   "metadata": {},
   "outputs": [
    {
     "name": "stdout",
     "output_type": "stream",
     "text": [
      "error occurs 'foo'\n"
     ]
    }
   ],
   "source": [
    "try:\n",
    "    spam[\"foo\"]\n",
    "except Exception as e:\n",
    "    print(\"error occurs\",e)"
   ]
  },
  {
   "cell_type": "raw",
   "id": "ec9a053d",
   "metadata": {},
   "source": [
    "Ans 5. There is no difference as \"cat\" in spam by default searches for cat in keys and \"cat in spam.keys() also does the same."
   ]
  },
  {
   "cell_type": "code",
   "execution_count": 18,
   "id": "37aca93e",
   "metadata": {},
   "outputs": [
    {
     "data": {
      "text/plain": [
       "True"
      ]
     },
     "execution_count": 18,
     "metadata": {},
     "output_type": "execute_result"
    }
   ],
   "source": [
    "\"cat\" in spam "
   ]
  },
  {
   "cell_type": "code",
   "execution_count": 19,
   "id": "7d1383a2",
   "metadata": {},
   "outputs": [
    {
     "data": {
      "text/plain": [
       "True"
      ]
     },
     "execution_count": 19,
     "metadata": {},
     "output_type": "execute_result"
    }
   ],
   "source": [
    "\"cat\" in spam.keys()"
   ]
  },
  {
   "cell_type": "raw",
   "id": "72925f5a",
   "metadata": {},
   "source": [
    "Ans 6. The main difference is \"cat\" in spam by default searches for cat in keys and \"cat in spam.values() searches weather there is a value \"cat\" in values."
   ]
  },
  {
   "cell_type": "code",
   "execution_count": 26,
   "id": "92833c82",
   "metadata": {},
   "outputs": [
    {
     "data": {
      "text/plain": [
       "False"
      ]
     },
     "execution_count": 26,
     "metadata": {},
     "output_type": "execute_result"
    }
   ],
   "source": [
    "\"cat\" in spam.values()"
   ]
  },
  {
   "cell_type": "code",
   "execution_count": 27,
   "id": "ea3ddb57",
   "metadata": {},
   "outputs": [
    {
     "data": {
      "text/plain": [
       "True"
      ]
     },
     "execution_count": 27,
     "metadata": {},
     "output_type": "execute_result"
    }
   ],
   "source": [
    "100 in spam.values()"
   ]
  },
  {
   "cell_type": "raw",
   "id": "82728cd3",
   "metadata": {},
   "source": [
    "Ans 7."
   ]
  },
  {
   "cell_type": "code",
   "execution_count": 28,
   "id": "b98a72eb",
   "metadata": {},
   "outputs": [
    {
     "data": {
      "text/plain": [
       "'black'"
      ]
     },
     "execution_count": 28,
     "metadata": {},
     "output_type": "execute_result"
    }
   ],
   "source": [
    "spam.setdefault('color', 'black')"
   ]
  },
  {
   "cell_type": "code",
   "execution_count": 29,
   "id": "7e6d467c",
   "metadata": {},
   "outputs": [
    {
     "data": {
      "text/plain": [
       "{'bar': 100, 'cat': 88, 'color': 'black'}"
      ]
     },
     "execution_count": 29,
     "metadata": {},
     "output_type": "execute_result"
    }
   ],
   "source": [
    "spam"
   ]
  },
  {
   "cell_type": "raw",
   "id": "eb674efa",
   "metadata": {},
   "source": [
    "Ans 8."
   ]
  },
  {
   "cell_type": "code",
   "execution_count": 33,
   "id": "ef06b3d5",
   "metadata": {},
   "outputs": [
    {
     "name": "stdout",
     "output_type": "stream",
     "text": [
      "[{'Age': '22', 'City': 'Bihar', 'Name': 'Tathagat'},\n",
      " {'Age': '28', 'City': 'Banglore', 'Name': 'Sudh'},\n",
      " {'Age': '29', 'City': 'Delhi', 'Name': 'Aman'},\n",
      " {'Age': '21', 'City': 'Gurgaon', 'Name': 'Ram'}]\n"
     ]
    }
   ],
   "source": [
    "import pprint #module\n",
    "\n",
    "dct_arr = [\n",
    "  {'Name': 'Tathagat', 'Age': '22', 'City': 'Bihar'},\n",
    "  {'Name': 'Sudh', 'Age': '28', 'City': 'Banglore'},\n",
    "  {'Name': 'Aman', 'Age': '29', 'City': 'Delhi'},\n",
    "  {'Name': 'Ram', 'Age': '21', 'City': 'Gurgaon'}\n",
    "]\n",
    "\n",
    "pprint.pprint(dct_arr)#function"
   ]
  },
  {
   "cell_type": "code",
   "execution_count": null,
   "id": "b81fe6c0",
   "metadata": {},
   "outputs": [],
   "source": []
  }
 ],
 "metadata": {
  "kernelspec": {
   "display_name": "Python 3 (ipykernel)",
   "language": "python",
   "name": "python3"
  },
  "language_info": {
   "codemirror_mode": {
    "name": "ipython",
    "version": 3
   },
   "file_extension": ".py",
   "mimetype": "text/x-python",
   "name": "python",
   "nbconvert_exporter": "python",
   "pygments_lexer": "ipython3",
   "version": "3.9.7"
  }
 },
 "nbformat": 4,
 "nbformat_minor": 5
}

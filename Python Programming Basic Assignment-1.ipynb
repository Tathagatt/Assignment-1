{
 "cells": [
  {
   "cell_type": "markdown",
   "id": "cb8c4767",
   "metadata": {},
   "source": [
    "Ans 1."
   ]
  },
  {
   "cell_type": "code",
   "execution_count": 1,
   "id": "a82cba38",
   "metadata": {},
   "outputs": [
    {
     "name": "stdout",
     "output_type": "stream",
     "text": [
      "Hello Python\n"
     ]
    }
   ],
   "source": [
    "s = \"Hello Python\"\n",
    "print(s)"
   ]
  },
  {
   "cell_type": "markdown",
   "id": "cb4b9dcc",
   "metadata": {},
   "source": [
    "Ans 2."
   ]
  },
  {
   "cell_type": "code",
   "execution_count": 9,
   "id": "f1a378bf",
   "metadata": {},
   "outputs": [
    {
     "name": "stdout",
     "output_type": "stream",
     "text": [
      "ENTER FIRST NO. 9\n",
      "ENTER SECOND NO. 8\n",
      "17 added value\n",
      "1.125 divided value\n"
     ]
    }
   ],
   "source": [
    "try:\n",
    "    a = int(input(\"ENTER FIRST NO. \"))\n",
    "    b = int(input(\"ENTER SECOND NO. \"))\n",
    "    sum = a+b\n",
    "    print(\"{} added value\".format(sum))\n",
    "    div = a/b\n",
    "    print(\"{} divided value\".format(div))\n",
    "except Exception as e:\n",
    "    print(e)"
   ]
  },
  {
   "cell_type": "markdown",
   "id": "5804f703",
   "metadata": {},
   "source": [
    "Ans 3.\n"
   ]
  },
  {
   "cell_type": "code",
   "execution_count": 10,
   "id": "79646163",
   "metadata": {},
   "outputs": [
    {
     "name": "stdout",
     "output_type": "stream",
     "text": [
      "ENTER LENGTH 9\n",
      "ENTER WIDTH 8\n",
      "area of triangle   72\n"
     ]
    }
   ],
   "source": [
    "a = int(input(\"ENTER LENGTH \"))\n",
    "b = int(input(\"ENTER WIDTH \"))\n",
    "area = a*b\n",
    "print(\"area of triangle  \",area)"
   ]
  },
  {
   "cell_type": "markdown",
   "id": "8ef7a115",
   "metadata": {},
   "source": [
    "Ans 4."
   ]
  },
  {
   "cell_type": "code",
   "execution_count": 17,
   "id": "4d908f18",
   "metadata": {},
   "outputs": [
    {
     "name": "stdout",
     "output_type": "stream",
     "text": [
      "ENTER VARIABLE a io\n",
      "ENTER VARIABLE b po\n",
      "a's swapped value po, b's swapped value io \n"
     ]
    }
   ],
   "source": [
    "a = input(\"ENTER VARIABLE a \")\n",
    "b = input(\"ENTER VARIABLE b \")\n",
    "swap = a\n",
    "a=b\n",
    "b=swap\n",
    "print(\"a's swapped value {0}, b's swapped value {1} \".format(a, b))\n",
    "\n"
   ]
  },
  {
   "cell_type": "markdown",
   "id": "06874ebf",
   "metadata": {},
   "source": [
    "Ans 5."
   ]
  },
  {
   "cell_type": "code",
   "execution_count": 24,
   "id": "8c94893c",
   "metadata": {},
   "outputs": [
    {
     "name": "stdout",
     "output_type": "stream",
     "text": [
      "A random number between 0 and 100 is : 23\n"
     ]
    }
   ],
   "source": [
    "import random\n",
    " \n",
    "\n",
    "print(\"A random number between 0 and 100 is : \", end=\"\")\n",
    "print(random.randint(0,100))"
   ]
  },
  {
   "cell_type": "code",
   "execution_count": null,
   "id": "1eca3644",
   "metadata": {},
   "outputs": [],
   "source": []
  }
 ],
 "metadata": {
  "kernelspec": {
   "display_name": "Python 3 (ipykernel)",
   "language": "python",
   "name": "python3"
  },
  "language_info": {
   "codemirror_mode": {
    "name": "ipython",
    "version": 3
   },
   "file_extension": ".py",
   "mimetype": "text/x-python",
   "name": "python",
   "nbconvert_exporter": "python",
   "pygments_lexer": "ipython3",
   "version": "3.9.7"
  }
 },
 "nbformat": 4,
 "nbformat_minor": 5
}
